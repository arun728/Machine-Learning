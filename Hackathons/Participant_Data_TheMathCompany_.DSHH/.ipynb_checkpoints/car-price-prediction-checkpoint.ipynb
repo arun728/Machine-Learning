{
 "cells": [
  {
   "cell_type": "code",
   "execution_count": 1,
   "metadata": {},
   "outputs": [],
   "source": [
    "import numpy as np\n",
    "import pandas as pd\n",
    "import matplotlib.pyplot as plt\n",
    "import seaborn as sns\n",
    "import re\n",
    "from datetime import datetime"
   ]
  },
  {
   "cell_type": "code",
   "execution_count": 2,
   "metadata": {},
   "outputs": [],
   "source": [
    "df = pd.read_csv('train.csv',parse_dates=True)\n",
    "df2 = df.copy()\n",
    "test = pd.read_csv('test.csv')\n",
    "test2 = test.copy()\n",
    "sub = pd.read_csv('submission.csv')"
   ]
  },
  {
   "cell_type": "code",
   "execution_count": 3,
   "metadata": {},
   "outputs": [],
   "source": [
    "df2 = pd.read_csv('train.csv',parse_dates=True)\n",
    "sub = pd.read_csv('submission.csv')"
   ]
  },
  {
   "cell_type": "code",
   "execution_count": 4,
   "metadata": {},
   "outputs": [
    {
     "data": {
      "text/html": [
       "<div>\n",
       "<style scoped>\n",
       "    .dataframe tbody tr th:only-of-type {\n",
       "        vertical-align: middle;\n",
       "    }\n",
       "\n",
       "    .dataframe tbody tr th {\n",
       "        vertical-align: top;\n",
       "    }\n",
       "\n",
       "    .dataframe thead th {\n",
       "        text-align: right;\n",
       "    }\n",
       "</style>\n",
       "<table border=\"1\" class=\"dataframe\">\n",
       "  <thead>\n",
       "    <tr style=\"text-align: right;\">\n",
       "      <th></th>\n",
       "      <th>ID</th>\n",
       "      <th>Levy</th>\n",
       "      <th>Manufacturer</th>\n",
       "      <th>Model</th>\n",
       "      <th>Prod. year</th>\n",
       "      <th>Category</th>\n",
       "      <th>Leather interior</th>\n",
       "      <th>Fuel type</th>\n",
       "      <th>Engine volume</th>\n",
       "      <th>Mileage</th>\n",
       "      <th>Cylinders</th>\n",
       "      <th>Gear box type</th>\n",
       "      <th>Drive wheels</th>\n",
       "      <th>Doors</th>\n",
       "      <th>Wheel</th>\n",
       "      <th>Color</th>\n",
       "      <th>Airbags</th>\n",
       "      <th>Price</th>\n",
       "    </tr>\n",
       "  </thead>\n",
       "  <tbody>\n",
       "    <tr>\n",
       "      <th>0</th>\n",
       "      <td>45654403</td>\n",
       "      <td>1399</td>\n",
       "      <td>LEXUS</td>\n",
       "      <td>RX 450</td>\n",
       "      <td>2010</td>\n",
       "      <td>Jeep</td>\n",
       "      <td>Yes</td>\n",
       "      <td>Hybrid</td>\n",
       "      <td>3.5</td>\n",
       "      <td>186005 km</td>\n",
       "      <td>6</td>\n",
       "      <td>Automatic</td>\n",
       "      <td>4x4</td>\n",
       "      <td>4-May</td>\n",
       "      <td>Left wheel</td>\n",
       "      <td>Silver</td>\n",
       "      <td>12</td>\n",
       "      <td>13328</td>\n",
       "    </tr>\n",
       "    <tr>\n",
       "      <th>1</th>\n",
       "      <td>44731507</td>\n",
       "      <td>1018</td>\n",
       "      <td>CHEVROLET</td>\n",
       "      <td>Equinox</td>\n",
       "      <td>2011</td>\n",
       "      <td>Jeep</td>\n",
       "      <td>No</td>\n",
       "      <td>Petrol</td>\n",
       "      <td>3</td>\n",
       "      <td>192000 km</td>\n",
       "      <td>6</td>\n",
       "      <td>Tiptronic</td>\n",
       "      <td>4x4</td>\n",
       "      <td>4-May</td>\n",
       "      <td>Left wheel</td>\n",
       "      <td>Black</td>\n",
       "      <td>8</td>\n",
       "      <td>16621</td>\n",
       "    </tr>\n",
       "    <tr>\n",
       "      <th>2</th>\n",
       "      <td>45774419</td>\n",
       "      <td>-</td>\n",
       "      <td>HONDA</td>\n",
       "      <td>FIT</td>\n",
       "      <td>2006</td>\n",
       "      <td>Hatchback</td>\n",
       "      <td>No</td>\n",
       "      <td>Petrol</td>\n",
       "      <td>1.3</td>\n",
       "      <td>200000 km</td>\n",
       "      <td>4</td>\n",
       "      <td>Variator</td>\n",
       "      <td>Front</td>\n",
       "      <td>4-May</td>\n",
       "      <td>Right-hand drive</td>\n",
       "      <td>Black</td>\n",
       "      <td>2</td>\n",
       "      <td>8467</td>\n",
       "    </tr>\n",
       "    <tr>\n",
       "      <th>3</th>\n",
       "      <td>45769185</td>\n",
       "      <td>862</td>\n",
       "      <td>FORD</td>\n",
       "      <td>Escape</td>\n",
       "      <td>2011</td>\n",
       "      <td>Jeep</td>\n",
       "      <td>Yes</td>\n",
       "      <td>Hybrid</td>\n",
       "      <td>2.5</td>\n",
       "      <td>168966 km</td>\n",
       "      <td>4</td>\n",
       "      <td>Automatic</td>\n",
       "      <td>4x4</td>\n",
       "      <td>4-May</td>\n",
       "      <td>Left wheel</td>\n",
       "      <td>White</td>\n",
       "      <td>0</td>\n",
       "      <td>3607</td>\n",
       "    </tr>\n",
       "    <tr>\n",
       "      <th>4</th>\n",
       "      <td>45809263</td>\n",
       "      <td>446</td>\n",
       "      <td>HONDA</td>\n",
       "      <td>FIT</td>\n",
       "      <td>2014</td>\n",
       "      <td>Hatchback</td>\n",
       "      <td>Yes</td>\n",
       "      <td>Petrol</td>\n",
       "      <td>1.3</td>\n",
       "      <td>91901 km</td>\n",
       "      <td>4</td>\n",
       "      <td>Automatic</td>\n",
       "      <td>Front</td>\n",
       "      <td>4-May</td>\n",
       "      <td>Left wheel</td>\n",
       "      <td>Silver</td>\n",
       "      <td>4</td>\n",
       "      <td>11726</td>\n",
       "    </tr>\n",
       "  </tbody>\n",
       "</table>\n",
       "</div>"
      ],
      "text/plain": [
       "         ID  Levy Manufacturer    Model  Prod. year   Category  \\\n",
       "0  45654403  1399        LEXUS   RX 450        2010       Jeep   \n",
       "1  44731507  1018    CHEVROLET  Equinox        2011       Jeep   \n",
       "2  45774419     -        HONDA      FIT        2006  Hatchback   \n",
       "3  45769185   862         FORD   Escape        2011       Jeep   \n",
       "4  45809263   446        HONDA      FIT        2014  Hatchback   \n",
       "\n",
       "  Leather interior Fuel type Engine volume    Mileage  Cylinders  \\\n",
       "0              Yes    Hybrid           3.5  186005 km          6   \n",
       "1               No    Petrol             3  192000 km          6   \n",
       "2               No    Petrol           1.3  200000 km          4   \n",
       "3              Yes    Hybrid           2.5  168966 km          4   \n",
       "4              Yes    Petrol           1.3   91901 km          4   \n",
       "\n",
       "  Gear box type Drive wheels  Doors             Wheel   Color  Airbags  Price  \n",
       "0     Automatic          4x4  4-May        Left wheel  Silver       12  13328  \n",
       "1     Tiptronic          4x4  4-May        Left wheel   Black        8  16621  \n",
       "2      Variator        Front  4-May  Right-hand drive   Black        2   8467  \n",
       "3     Automatic          4x4  4-May        Left wheel   White        0   3607  \n",
       "4     Automatic        Front  4-May        Left wheel  Silver        4  11726  "
      ]
     },
     "execution_count": 4,
     "metadata": {},
     "output_type": "execute_result"
    }
   ],
   "source": [
    "df2.head()"
   ]
  },
  {
   "cell_type": "code",
   "execution_count": 5,
   "metadata": {},
   "outputs": [
    {
     "name": "stdout",
     "output_type": "stream",
     "text": [
      "<class 'pandas.core.frame.DataFrame'>\n",
      "RangeIndex: 19237 entries, 0 to 19236\n",
      "Data columns (total 18 columns):\n",
      " #   Column            Non-Null Count  Dtype \n",
      "---  ------            --------------  ----- \n",
      " 0   ID                19237 non-null  int64 \n",
      " 1   Levy              19237 non-null  object\n",
      " 2   Manufacturer      19237 non-null  object\n",
      " 3   Model             19237 non-null  object\n",
      " 4   Prod. year        19237 non-null  int64 \n",
      " 5   Category          19237 non-null  object\n",
      " 6   Leather interior  19237 non-null  object\n",
      " 7   Fuel type         19237 non-null  object\n",
      " 8   Engine volume     19237 non-null  object\n",
      " 9   Mileage           19237 non-null  object\n",
      " 10  Cylinders         19237 non-null  int64 \n",
      " 11  Gear box type     19237 non-null  object\n",
      " 12  Drive wheels      19237 non-null  object\n",
      " 13  Doors             19237 non-null  object\n",
      " 14  Wheel             19237 non-null  object\n",
      " 15  Color             19237 non-null  object\n",
      " 16  Airbags           19237 non-null  int64 \n",
      " 17  Price             19237 non-null  int64 \n",
      "dtypes: int64(5), object(13)\n",
      "memory usage: 2.6+ MB\n"
     ]
    }
   ],
   "source": [
    "df2.info()"
   ]
  },
  {
   "cell_type": "code",
   "execution_count": 6,
   "metadata": {},
   "outputs": [
    {
     "data": {
      "text/plain": [
       "4-May    18332\n",
       "2-Mar      777\n",
       ">5         128\n",
       "Name: Doors, dtype: int64"
      ]
     },
     "execution_count": 6,
     "metadata": {},
     "output_type": "execute_result"
    }
   ],
   "source": [
    "df2['Doors'].value_counts()"
   ]
  },
  {
   "cell_type": "code",
   "execution_count": 7,
   "metadata": {},
   "outputs": [
    {
     "data": {
      "text/html": [
       "<div>\n",
       "<style scoped>\n",
       "    .dataframe tbody tr th:only-of-type {\n",
       "        vertical-align: middle;\n",
       "    }\n",
       "\n",
       "    .dataframe tbody tr th {\n",
       "        vertical-align: top;\n",
       "    }\n",
       "\n",
       "    .dataframe thead th {\n",
       "        text-align: right;\n",
       "    }\n",
       "</style>\n",
       "<table border=\"1\" class=\"dataframe\">\n",
       "  <thead>\n",
       "    <tr style=\"text-align: right;\">\n",
       "      <th></th>\n",
       "      <th>ID</th>\n",
       "      <th>Prod. year</th>\n",
       "      <th>Cylinders</th>\n",
       "      <th>Airbags</th>\n",
       "      <th>Price</th>\n",
       "    </tr>\n",
       "    <tr>\n",
       "      <th>Levy</th>\n",
       "      <th></th>\n",
       "      <th></th>\n",
       "      <th></th>\n",
       "      <th></th>\n",
       "      <th></th>\n",
       "    </tr>\n",
       "  </thead>\n",
       "  <tbody>\n",
       "    <tr>\n",
       "      <th>2067</th>\n",
       "      <td>45704136.5</td>\n",
       "      <td>2019.0</td>\n",
       "      <td>8.0</td>\n",
       "      <td>6.0</td>\n",
       "      <td>449958.5</td>\n",
       "    </tr>\n",
       "    <tr>\n",
       "      <th>2269</th>\n",
       "      <td>45760644.0</td>\n",
       "      <td>2018.0</td>\n",
       "      <td>8.0</td>\n",
       "      <td>0.0</td>\n",
       "      <td>288521.0</td>\n",
       "    </tr>\n",
       "    <tr>\n",
       "      <th>2819</th>\n",
       "      <td>45813777.0</td>\n",
       "      <td>2016.0</td>\n",
       "      <td>8.0</td>\n",
       "      <td>12.0</td>\n",
       "      <td>175622.0</td>\n",
       "    </tr>\n",
       "    <tr>\n",
       "      <th>1951</th>\n",
       "      <td>45806776.0</td>\n",
       "      <td>2015.0</td>\n",
       "      <td>8.0</td>\n",
       "      <td>14.0</td>\n",
       "      <td>128188.5</td>\n",
       "    </tr>\n",
       "    <tr>\n",
       "      <th>3057</th>\n",
       "      <td>45773951.0</td>\n",
       "      <td>2019.0</td>\n",
       "      <td>12.0</td>\n",
       "      <td>12.0</td>\n",
       "      <td>121524.0</td>\n",
       "    </tr>\n",
       "    <tr>\n",
       "      <th>...</th>\n",
       "      <td>...</td>\n",
       "      <td>...</td>\n",
       "      <td>...</td>\n",
       "      <td>...</td>\n",
       "      <td>...</td>\n",
       "    </tr>\n",
       "    <tr>\n",
       "      <th>2472</th>\n",
       "      <td>45773126.0</td>\n",
       "      <td>2003.0</td>\n",
       "      <td>6.0</td>\n",
       "      <td>12.0</td>\n",
       "      <td>314.0</td>\n",
       "    </tr>\n",
       "    <tr>\n",
       "      <th>1297</th>\n",
       "      <td>45771563.0</td>\n",
       "      <td>2011.0</td>\n",
       "      <td>6.0</td>\n",
       "      <td>12.0</td>\n",
       "      <td>314.0</td>\n",
       "    </tr>\n",
       "    <tr>\n",
       "      <th>1279</th>\n",
       "      <td>45812580.0</td>\n",
       "      <td>2003.0</td>\n",
       "      <td>4.0</td>\n",
       "      <td>11.0</td>\n",
       "      <td>150.0</td>\n",
       "    </tr>\n",
       "    <tr>\n",
       "      <th>2278</th>\n",
       "      <td>45806058.0</td>\n",
       "      <td>2008.0</td>\n",
       "      <td>4.0</td>\n",
       "      <td>0.0</td>\n",
       "      <td>125.0</td>\n",
       "    </tr>\n",
       "    <tr>\n",
       "      <th>2308</th>\n",
       "      <td>45780821.0</td>\n",
       "      <td>2007.0</td>\n",
       "      <td>5.0</td>\n",
       "      <td>12.0</td>\n",
       "      <td>33.0</td>\n",
       "    </tr>\n",
       "  </tbody>\n",
       "</table>\n",
       "<p>559 rows × 5 columns</p>\n",
       "</div>"
      ],
      "text/plain": [
       "              ID  Prod. year  Cylinders  Airbags     Price\n",
       "Levy                                                      \n",
       "2067  45704136.5      2019.0        8.0      6.0  449958.5\n",
       "2269  45760644.0      2018.0        8.0      0.0  288521.0\n",
       "2819  45813777.0      2016.0        8.0     12.0  175622.0\n",
       "1951  45806776.0      2015.0        8.0     14.0  128188.5\n",
       "3057  45773951.0      2019.0       12.0     12.0  121524.0\n",
       "...          ...         ...        ...      ...       ...\n",
       "2472  45773126.0      2003.0        6.0     12.0     314.0\n",
       "1297  45771563.0      2011.0        6.0     12.0     314.0\n",
       "1279  45812580.0      2003.0        4.0     11.0     150.0\n",
       "2278  45806058.0      2008.0        4.0      0.0     125.0\n",
       "2308  45780821.0      2007.0        5.0     12.0      33.0\n",
       "\n",
       "[559 rows x 5 columns]"
      ]
     },
     "execution_count": 7,
     "metadata": {},
     "output_type": "execute_result"
    }
   ],
   "source": [
    "df2.groupby('Levy').mean().sort_values('Price',ascending=False)"
   ]
  },
  {
   "cell_type": "code",
   "execution_count": 8,
   "metadata": {},
   "outputs": [
    {
     "data": {
      "text/html": [
       "<div>\n",
       "<style scoped>\n",
       "    .dataframe tbody tr th:only-of-type {\n",
       "        vertical-align: middle;\n",
       "    }\n",
       "\n",
       "    .dataframe tbody tr th {\n",
       "        vertical-align: top;\n",
       "    }\n",
       "\n",
       "    .dataframe thead th {\n",
       "        text-align: right;\n",
       "    }\n",
       "</style>\n",
       "<table border=\"1\" class=\"dataframe\">\n",
       "  <thead>\n",
       "    <tr style=\"text-align: right;\">\n",
       "      <th></th>\n",
       "      <th>ID</th>\n",
       "      <th>Levy</th>\n",
       "      <th>Manufacturer</th>\n",
       "      <th>Model</th>\n",
       "      <th>Prod. year</th>\n",
       "      <th>Category</th>\n",
       "      <th>Leather interior</th>\n",
       "      <th>Fuel type</th>\n",
       "      <th>Engine volume</th>\n",
       "      <th>Mileage</th>\n",
       "      <th>Cylinders</th>\n",
       "      <th>Gear box type</th>\n",
       "      <th>Drive wheels</th>\n",
       "      <th>Doors</th>\n",
       "      <th>Wheel</th>\n",
       "      <th>Color</th>\n",
       "      <th>Airbags</th>\n",
       "    </tr>\n",
       "  </thead>\n",
       "  <tbody>\n",
       "    <tr>\n",
       "      <th>4</th>\n",
       "      <td>45814303</td>\n",
       "      <td>-</td>\n",
       "      <td>OPEL</td>\n",
       "      <td>Astra</td>\n",
       "      <td>1993</td>\n",
       "      <td>Hatchback</td>\n",
       "      <td>No</td>\n",
       "      <td>Petrol</td>\n",
       "      <td>1.6</td>\n",
       "      <td>200000 km</td>\n",
       "      <td>4</td>\n",
       "      <td>Manual</td>\n",
       "      <td>Front</td>\n",
       "      <td>4-May</td>\n",
       "      <td>Left wheel</td>\n",
       "      <td>Black</td>\n",
       "      <td>0</td>\n",
       "    </tr>\n",
       "    <tr>\n",
       "      <th>78</th>\n",
       "      <td>45793325</td>\n",
       "      <td>-</td>\n",
       "      <td>OPEL</td>\n",
       "      <td>Vectra</td>\n",
       "      <td>1999</td>\n",
       "      <td>Hatchback</td>\n",
       "      <td>No</td>\n",
       "      <td>CNG</td>\n",
       "      <td>1.8</td>\n",
       "      <td>30000 km</td>\n",
       "      <td>4</td>\n",
       "      <td>Manual</td>\n",
       "      <td>Front</td>\n",
       "      <td>4-May</td>\n",
       "      <td>Left wheel</td>\n",
       "      <td>Silver</td>\n",
       "      <td>4</td>\n",
       "    </tr>\n",
       "    <tr>\n",
       "      <th>109</th>\n",
       "      <td>45801493</td>\n",
       "      <td>-</td>\n",
       "      <td>OPEL</td>\n",
       "      <td>Astra</td>\n",
       "      <td>1992</td>\n",
       "      <td>Hatchback</td>\n",
       "      <td>No</td>\n",
       "      <td>CNG</td>\n",
       "      <td>1.6</td>\n",
       "      <td>10000 km</td>\n",
       "      <td>4</td>\n",
       "      <td>Manual</td>\n",
       "      <td>Front</td>\n",
       "      <td>4-May</td>\n",
       "      <td>Left wheel</td>\n",
       "      <td>Carnelian red</td>\n",
       "      <td>0</td>\n",
       "    </tr>\n",
       "    <tr>\n",
       "      <th>327</th>\n",
       "      <td>45785886</td>\n",
       "      <td>-</td>\n",
       "      <td>OPEL</td>\n",
       "      <td>Corsa</td>\n",
       "      <td>1997</td>\n",
       "      <td>Hatchback</td>\n",
       "      <td>No</td>\n",
       "      <td>Petrol</td>\n",
       "      <td>1.4</td>\n",
       "      <td>220000 km</td>\n",
       "      <td>4</td>\n",
       "      <td>Manual</td>\n",
       "      <td>Front</td>\n",
       "      <td>4-May</td>\n",
       "      <td>Left wheel</td>\n",
       "      <td>Carnelian red</td>\n",
       "      <td>2</td>\n",
       "    </tr>\n",
       "    <tr>\n",
       "      <th>349</th>\n",
       "      <td>45770466</td>\n",
       "      <td>-</td>\n",
       "      <td>OPEL</td>\n",
       "      <td>Astra</td>\n",
       "      <td>1997</td>\n",
       "      <td>Sedan</td>\n",
       "      <td>No</td>\n",
       "      <td>Petrol</td>\n",
       "      <td>1.6</td>\n",
       "      <td>0 km</td>\n",
       "      <td>4</td>\n",
       "      <td>Automatic</td>\n",
       "      <td>Front</td>\n",
       "      <td>4-May</td>\n",
       "      <td>Left wheel</td>\n",
       "      <td>Red</td>\n",
       "      <td>2</td>\n",
       "    </tr>\n",
       "    <tr>\n",
       "      <th>...</th>\n",
       "      <td>...</td>\n",
       "      <td>...</td>\n",
       "      <td>...</td>\n",
       "      <td>...</td>\n",
       "      <td>...</td>\n",
       "      <td>...</td>\n",
       "      <td>...</td>\n",
       "      <td>...</td>\n",
       "      <td>...</td>\n",
       "      <td>...</td>\n",
       "      <td>...</td>\n",
       "      <td>...</td>\n",
       "      <td>...</td>\n",
       "      <td>...</td>\n",
       "      <td>...</td>\n",
       "      <td>...</td>\n",
       "      <td>...</td>\n",
       "    </tr>\n",
       "    <tr>\n",
       "      <th>7678</th>\n",
       "      <td>45798317</td>\n",
       "      <td>-</td>\n",
       "      <td>OPEL</td>\n",
       "      <td>Vectra</td>\n",
       "      <td>1999</td>\n",
       "      <td>Sedan</td>\n",
       "      <td>No</td>\n",
       "      <td>Petrol</td>\n",
       "      <td>1.8</td>\n",
       "      <td>222222 km</td>\n",
       "      <td>4</td>\n",
       "      <td>Manual</td>\n",
       "      <td>Front</td>\n",
       "      <td>4-May</td>\n",
       "      <td>Left wheel</td>\n",
       "      <td>Sky blue</td>\n",
       "      <td>4</td>\n",
       "    </tr>\n",
       "    <tr>\n",
       "      <th>7733</th>\n",
       "      <td>45808778</td>\n",
       "      <td>-</td>\n",
       "      <td>OPEL</td>\n",
       "      <td>Vectra</td>\n",
       "      <td>1992</td>\n",
       "      <td>Sedan</td>\n",
       "      <td>No</td>\n",
       "      <td>CNG</td>\n",
       "      <td>2</td>\n",
       "      <td>25000 km</td>\n",
       "      <td>4</td>\n",
       "      <td>Manual</td>\n",
       "      <td>Front</td>\n",
       "      <td>4-May</td>\n",
       "      <td>Left wheel</td>\n",
       "      <td>Grey</td>\n",
       "      <td>2</td>\n",
       "    </tr>\n",
       "    <tr>\n",
       "      <th>7980</th>\n",
       "      <td>45794535</td>\n",
       "      <td>-</td>\n",
       "      <td>OPEL</td>\n",
       "      <td>Astra</td>\n",
       "      <td>1996</td>\n",
       "      <td>Coupe</td>\n",
       "      <td>No</td>\n",
       "      <td>Petrol</td>\n",
       "      <td>2</td>\n",
       "      <td>999 km</td>\n",
       "      <td>4</td>\n",
       "      <td>Manual</td>\n",
       "      <td>Front</td>\n",
       "      <td>2-Mar</td>\n",
       "      <td>Left wheel</td>\n",
       "      <td>Green</td>\n",
       "      <td>2</td>\n",
       "    </tr>\n",
       "    <tr>\n",
       "      <th>8084</th>\n",
       "      <td>45789587</td>\n",
       "      <td>-</td>\n",
       "      <td>OPEL</td>\n",
       "      <td>Vectra</td>\n",
       "      <td>1997</td>\n",
       "      <td>Sedan</td>\n",
       "      <td>No</td>\n",
       "      <td>Petrol</td>\n",
       "      <td>1.6</td>\n",
       "      <td>250000 km</td>\n",
       "      <td>4</td>\n",
       "      <td>Manual</td>\n",
       "      <td>Front</td>\n",
       "      <td>&gt;5</td>\n",
       "      <td>Left wheel</td>\n",
       "      <td>Beige</td>\n",
       "      <td>0</td>\n",
       "    </tr>\n",
       "    <tr>\n",
       "      <th>8093</th>\n",
       "      <td>45419480</td>\n",
       "      <td>-</td>\n",
       "      <td>OPEL</td>\n",
       "      <td>Astra</td>\n",
       "      <td>1999</td>\n",
       "      <td>Universal</td>\n",
       "      <td>No</td>\n",
       "      <td>Petrol</td>\n",
       "      <td>1.6</td>\n",
       "      <td>0 km</td>\n",
       "      <td>4</td>\n",
       "      <td>Manual</td>\n",
       "      <td>Front</td>\n",
       "      <td>4-May</td>\n",
       "      <td>Left wheel</td>\n",
       "      <td>Green</td>\n",
       "      <td>4</td>\n",
       "    </tr>\n",
       "  </tbody>\n",
       "</table>\n",
       "<p>95 rows × 17 columns</p>\n",
       "</div>"
      ],
      "text/plain": [
       "            ID Levy Manufacturer   Model  Prod. year   Category  \\\n",
       "4     45814303    -         OPEL   Astra        1993  Hatchback   \n",
       "78    45793325    -         OPEL  Vectra        1999  Hatchback   \n",
       "109   45801493    -         OPEL   Astra        1992  Hatchback   \n",
       "327   45785886    -         OPEL   Corsa        1997  Hatchback   \n",
       "349   45770466    -         OPEL   Astra        1997      Sedan   \n",
       "...        ...  ...          ...     ...         ...        ...   \n",
       "7678  45798317    -         OPEL  Vectra        1999      Sedan   \n",
       "7733  45808778    -         OPEL  Vectra        1992      Sedan   \n",
       "7980  45794535    -         OPEL   Astra        1996      Coupe   \n",
       "8084  45789587    -         OPEL  Vectra        1997      Sedan   \n",
       "8093  45419480    -         OPEL   Astra        1999  Universal   \n",
       "\n",
       "     Leather interior Fuel type Engine volume    Mileage  Cylinders  \\\n",
       "4                  No    Petrol           1.6  200000 km          4   \n",
       "78                 No       CNG           1.8   30000 km          4   \n",
       "109                No       CNG           1.6   10000 km          4   \n",
       "327                No    Petrol           1.4  220000 km          4   \n",
       "349                No    Petrol           1.6       0 km          4   \n",
       "...               ...       ...           ...        ...        ...   \n",
       "7678               No    Petrol           1.8  222222 km          4   \n",
       "7733               No       CNG             2   25000 km          4   \n",
       "7980               No    Petrol             2     999 km          4   \n",
       "8084               No    Petrol           1.6  250000 km          4   \n",
       "8093               No    Petrol           1.6       0 km          4   \n",
       "\n",
       "     Gear box type Drive wheels  Doors       Wheel          Color  Airbags  \n",
       "4           Manual        Front  4-May  Left wheel          Black        0  \n",
       "78          Manual        Front  4-May  Left wheel         Silver        4  \n",
       "109         Manual        Front  4-May  Left wheel  Carnelian red        0  \n",
       "327         Manual        Front  4-May  Left wheel  Carnelian red        2  \n",
       "349      Automatic        Front  4-May  Left wheel            Red        2  \n",
       "...            ...          ...    ...         ...            ...      ...  \n",
       "7678        Manual        Front  4-May  Left wheel       Sky blue        4  \n",
       "7733        Manual        Front  4-May  Left wheel           Grey        2  \n",
       "7980        Manual        Front  2-Mar  Left wheel          Green        2  \n",
       "8084        Manual        Front     >5  Left wheel          Beige        0  \n",
       "8093        Manual        Front  4-May  Left wheel          Green        4  \n",
       "\n",
       "[95 rows x 17 columns]"
      ]
     },
     "execution_count": 8,
     "metadata": {},
     "output_type": "execute_result"
    }
   ],
   "source": [
    "test2[(test2['Manufacturer'] == 'OPEL') & (test2['Prod. year']<=1999)]"
   ]
  },
  {
   "cell_type": "code",
   "execution_count": null,
   "metadata": {},
   "outputs": [],
   "source": []
  },
  {
   "cell_type": "code",
   "execution_count": 9,
   "metadata": {},
   "outputs": [
    {
     "data": {
      "text/html": [
       "<div>\n",
       "<style scoped>\n",
       "    .dataframe tbody tr th:only-of-type {\n",
       "        vertical-align: middle;\n",
       "    }\n",
       "\n",
       "    .dataframe tbody tr th {\n",
       "        vertical-align: top;\n",
       "    }\n",
       "\n",
       "    .dataframe thead th {\n",
       "        text-align: right;\n",
       "    }\n",
       "</style>\n",
       "<table border=\"1\" class=\"dataframe\">\n",
       "  <thead>\n",
       "    <tr style=\"text-align: right;\">\n",
       "      <th></th>\n",
       "      <th>ID</th>\n",
       "      <th>Prod. year</th>\n",
       "      <th>Airbags</th>\n",
       "      <th>Price</th>\n",
       "    </tr>\n",
       "    <tr>\n",
       "      <th>Cylinders</th>\n",
       "      <th></th>\n",
       "      <th></th>\n",
       "      <th></th>\n",
       "      <th></th>\n",
       "    </tr>\n",
       "  </thead>\n",
       "  <tbody>\n",
       "    <tr>\n",
       "      <th>12</th>\n",
       "      <td>4.519357e+07</td>\n",
       "      <td>2011.184211</td>\n",
       "      <td>10.368421</td>\n",
       "      <td>39757.131579</td>\n",
       "    </tr>\n",
       "    <tr>\n",
       "      <th>10</th>\n",
       "      <td>4.432546e+07</td>\n",
       "      <td>2008.416667</td>\n",
       "      <td>10.833333</td>\n",
       "      <td>31486.666667</td>\n",
       "    </tr>\n",
       "    <tr>\n",
       "      <th>8</th>\n",
       "      <td>4.545564e+07</td>\n",
       "      <td>2010.040363</td>\n",
       "      <td>6.349142</td>\n",
       "      <td>28198.847629</td>\n",
       "    </tr>\n",
       "    <tr>\n",
       "      <th>4</th>\n",
       "      <td>4.560082e+07</td>\n",
       "      <td>2011.377810</td>\n",
       "      <td>6.058607</td>\n",
       "      <td>18436.320874</td>\n",
       "    </tr>\n",
       "    <tr>\n",
       "      <th>16</th>\n",
       "      <td>4.577747e+07</td>\n",
       "      <td>2007.000000</td>\n",
       "      <td>8.800000</td>\n",
       "      <td>17519.800000</td>\n",
       "    </tr>\n",
       "    <tr>\n",
       "      <th>6</th>\n",
       "      <td>4.553892e+07</td>\n",
       "      <td>2009.558348</td>\n",
       "      <td>8.894281</td>\n",
       "      <td>16618.038417</td>\n",
       "    </tr>\n",
       "    <tr>\n",
       "      <th>1</th>\n",
       "      <td>4.533292e+07</td>\n",
       "      <td>2005.236842</td>\n",
       "      <td>3.263158</td>\n",
       "      <td>16375.105263</td>\n",
       "    </tr>\n",
       "    <tr>\n",
       "      <th>14</th>\n",
       "      <td>4.579753e+07</td>\n",
       "      <td>2009.000000</td>\n",
       "      <td>8.000000</td>\n",
       "      <td>15681.000000</td>\n",
       "    </tr>\n",
       "    <tr>\n",
       "      <th>5</th>\n",
       "      <td>4.549286e+07</td>\n",
       "      <td>2007.710059</td>\n",
       "      <td>6.940828</td>\n",
       "      <td>14640.213018</td>\n",
       "    </tr>\n",
       "    <tr>\n",
       "      <th>2</th>\n",
       "      <td>4.513863e+07</td>\n",
       "      <td>2005.142857</td>\n",
       "      <td>4.071429</td>\n",
       "      <td>10358.404762</td>\n",
       "    </tr>\n",
       "    <tr>\n",
       "      <th>3</th>\n",
       "      <td>4.530211e+07</td>\n",
       "      <td>2010.411215</td>\n",
       "      <td>3.915888</td>\n",
       "      <td>9879.093458</td>\n",
       "    </tr>\n",
       "    <tr>\n",
       "      <th>7</th>\n",
       "      <td>4.566705e+07</td>\n",
       "      <td>2005.750000</td>\n",
       "      <td>8.250000</td>\n",
       "      <td>6446.500000</td>\n",
       "    </tr>\n",
       "    <tr>\n",
       "      <th>9</th>\n",
       "      <td>4.578193e+07</td>\n",
       "      <td>1999.000000</td>\n",
       "      <td>6.000000</td>\n",
       "      <td>2800.000000</td>\n",
       "    </tr>\n",
       "  </tbody>\n",
       "</table>\n",
       "</div>"
      ],
      "text/plain": [
       "                     ID   Prod. year    Airbags         Price\n",
       "Cylinders                                                    \n",
       "12         4.519357e+07  2011.184211  10.368421  39757.131579\n",
       "10         4.432546e+07  2008.416667  10.833333  31486.666667\n",
       "8          4.545564e+07  2010.040363   6.349142  28198.847629\n",
       "4          4.560082e+07  2011.377810   6.058607  18436.320874\n",
       "16         4.577747e+07  2007.000000   8.800000  17519.800000\n",
       "6          4.553892e+07  2009.558348   8.894281  16618.038417\n",
       "1          4.533292e+07  2005.236842   3.263158  16375.105263\n",
       "14         4.579753e+07  2009.000000   8.000000  15681.000000\n",
       "5          4.549286e+07  2007.710059   6.940828  14640.213018\n",
       "2          4.513863e+07  2005.142857   4.071429  10358.404762\n",
       "3          4.530211e+07  2010.411215   3.915888   9879.093458\n",
       "7          4.566705e+07  2005.750000   8.250000   6446.500000\n",
       "9          4.578193e+07  1999.000000   6.000000   2800.000000"
      ]
     },
     "execution_count": 9,
     "metadata": {},
     "output_type": "execute_result"
    }
   ],
   "source": [
    "df2.groupby('Cylinders').mean().sort_values('Price',ascending=False)"
   ]
  },
  {
   "cell_type": "code",
   "execution_count": 10,
   "metadata": {},
   "outputs": [],
   "source": [
    "def cylinder_mean(s):\n",
    "    if s == 12:\n",
    "        s = 39757\n",
    "    elif s == 10:\n",
    "        s = 31486\n",
    "    elif s == 8:\n",
    "        s = 28198\n",
    "    elif s == 4:\n",
    "        s = 18436\n",
    "    elif s == 16:\n",
    "        s = 17519\n",
    "    elif s == 6:\n",
    "        s = 16618\n",
    "    elif s == 1:\n",
    "        s = 16375\n",
    "    elif s == 14:\n",
    "        s = 15681\n",
    "    elif s == 5:\n",
    "        s = 14640\n",
    "    elif s == 2:\n",
    "        s = 10358\n",
    "    elif s == 3:\n",
    "        s = 9879\n",
    "    elif s == 7:\n",
    "        s = 6446\n",
    "    else:\n",
    "        s = 2800\n",
    "        \n",
    "    return int(s)"
   ]
  },
  {
   "cell_type": "code",
   "execution_count": 11,
   "metadata": {},
   "outputs": [],
   "source": [
    "# df['Cylinder_mean'] = df['Cylinders'].apply(cylinder_mean)\n",
    "\n",
    "# test['Cylinder_mean'] = test['Cylinders'].apply(cylinder_mean)"
   ]
  },
  {
   "cell_type": "code",
   "execution_count": 12,
   "metadata": {},
   "outputs": [],
   "source": [
    "def gear_box_mean(s):\n",
    "    if s == 'Tiptronic':\n",
    "        s = 26448\n",
    "    elif s == 'Manual':\n",
    "        s = 25614\n",
    "    elif s == 'Automatic':\n",
    "        s = 15974\n",
    "    else:\n",
    "        s = 14762\n",
    "    return int(s)"
   ]
  },
  {
   "cell_type": "code",
   "execution_count": 13,
   "metadata": {},
   "outputs": [],
   "source": [
    "# df['Gear box type_mean'] = df['Gear box type'].apply(gear_box_mean)\n",
    "\n",
    "# test['Gear box type_mean'] = test['Gear box type'].apply(gear_box_mean)"
   ]
  },
  {
   "cell_type": "code",
   "execution_count": 14,
   "metadata": {},
   "outputs": [],
   "source": [
    "def color_mean(s):\n",
    "    if s == 'Blue':\n",
    "        s = 33726\n",
    "    elif s == 'Yellow':\n",
    "        s = 20666\n",
    "    elif s == 'Brown':\n",
    "        s = 19709\n",
    "    elif s == 'Grey':\n",
    "        s = 19203\n",
    "    elif s == 'Black':\n",
    "        s = 18886\n",
    "    elif s == 'White':\n",
    "        s = 18204\n",
    "    elif s == 'Carnelian red':\n",
    "        s = 15820\n",
    "    elif s == 'Beige':\n",
    "        s = 15627\n",
    "    elif s == 'Silver':\n",
    "        s = 15091\n",
    "    elif s == 'Golden':\n",
    "        s = 14678\n",
    "    elif s == 'Sky blue':\n",
    "        s = 14079\n",
    "    elif s == 'Red':\n",
    "        s = 13553\n",
    "    elif s == 'Orange':\n",
    "        s = 13008\n",
    "    elif s == 'Pink':\n",
    "        s = 10649\n",
    "    elif s == 'Green':\n",
    "        s = 9449\n",
    "    else:\n",
    "        s = 8837\n",
    "        \n",
    "    return int(s)"
   ]
  },
  {
   "cell_type": "code",
   "execution_count": 15,
   "metadata": {},
   "outputs": [],
   "source": [
    "# df['Color_mean'] = df['Color'].apply(color_mean)\n",
    "\n",
    "# test['Color_mean'] = test['Color'].apply(color_mean)"
   ]
  },
  {
   "cell_type": "code",
   "execution_count": 16,
   "metadata": {},
   "outputs": [
    {
     "data": {
      "text/html": [
       "<div>\n",
       "<style scoped>\n",
       "    .dataframe tbody tr th:only-of-type {\n",
       "        vertical-align: middle;\n",
       "    }\n",
       "\n",
       "    .dataframe tbody tr th {\n",
       "        vertical-align: top;\n",
       "    }\n",
       "\n",
       "    .dataframe thead th {\n",
       "        text-align: right;\n",
       "    }\n",
       "</style>\n",
       "<table border=\"1\" class=\"dataframe\">\n",
       "  <thead>\n",
       "    <tr style=\"text-align: right;\">\n",
       "      <th></th>\n",
       "      <th>ID</th>\n",
       "      <th>Levy</th>\n",
       "      <th>Manufacturer</th>\n",
       "      <th>Model</th>\n",
       "      <th>Prod. year</th>\n",
       "      <th>Category</th>\n",
       "      <th>Leather interior</th>\n",
       "      <th>Fuel type</th>\n",
       "      <th>Engine volume</th>\n",
       "      <th>Mileage</th>\n",
       "      <th>Cylinders</th>\n",
       "      <th>Gear box type</th>\n",
       "      <th>Drive wheels</th>\n",
       "      <th>Doors</th>\n",
       "      <th>Wheel</th>\n",
       "      <th>Color</th>\n",
       "      <th>Airbags</th>\n",
       "      <th>Price</th>\n",
       "    </tr>\n",
       "  </thead>\n",
       "  <tbody>\n",
       "    <tr>\n",
       "      <th>0</th>\n",
       "      <td>45654403</td>\n",
       "      <td>1399</td>\n",
       "      <td>LEXUS</td>\n",
       "      <td>RX 450</td>\n",
       "      <td>2010</td>\n",
       "      <td>Jeep</td>\n",
       "      <td>Yes</td>\n",
       "      <td>Hybrid</td>\n",
       "      <td>3.5</td>\n",
       "      <td>186005 km</td>\n",
       "      <td>6</td>\n",
       "      <td>Automatic</td>\n",
       "      <td>4x4</td>\n",
       "      <td>4-May</td>\n",
       "      <td>Left wheel</td>\n",
       "      <td>Silver</td>\n",
       "      <td>12</td>\n",
       "      <td>13328</td>\n",
       "    </tr>\n",
       "    <tr>\n",
       "      <th>1</th>\n",
       "      <td>44731507</td>\n",
       "      <td>1018</td>\n",
       "      <td>CHEVROLET</td>\n",
       "      <td>Equinox</td>\n",
       "      <td>2011</td>\n",
       "      <td>Jeep</td>\n",
       "      <td>No</td>\n",
       "      <td>Petrol</td>\n",
       "      <td>3</td>\n",
       "      <td>192000 km</td>\n",
       "      <td>6</td>\n",
       "      <td>Tiptronic</td>\n",
       "      <td>4x4</td>\n",
       "      <td>4-May</td>\n",
       "      <td>Left wheel</td>\n",
       "      <td>Black</td>\n",
       "      <td>8</td>\n",
       "      <td>16621</td>\n",
       "    </tr>\n",
       "    <tr>\n",
       "      <th>2</th>\n",
       "      <td>45774419</td>\n",
       "      <td>-</td>\n",
       "      <td>HONDA</td>\n",
       "      <td>FIT</td>\n",
       "      <td>2006</td>\n",
       "      <td>Hatchback</td>\n",
       "      <td>No</td>\n",
       "      <td>Petrol</td>\n",
       "      <td>1.3</td>\n",
       "      <td>200000 km</td>\n",
       "      <td>4</td>\n",
       "      <td>Variator</td>\n",
       "      <td>Front</td>\n",
       "      <td>4-May</td>\n",
       "      <td>Right-hand drive</td>\n",
       "      <td>Black</td>\n",
       "      <td>2</td>\n",
       "      <td>8467</td>\n",
       "    </tr>\n",
       "    <tr>\n",
       "      <th>3</th>\n",
       "      <td>45769185</td>\n",
       "      <td>862</td>\n",
       "      <td>FORD</td>\n",
       "      <td>Escape</td>\n",
       "      <td>2011</td>\n",
       "      <td>Jeep</td>\n",
       "      <td>Yes</td>\n",
       "      <td>Hybrid</td>\n",
       "      <td>2.5</td>\n",
       "      <td>168966 km</td>\n",
       "      <td>4</td>\n",
       "      <td>Automatic</td>\n",
       "      <td>4x4</td>\n",
       "      <td>4-May</td>\n",
       "      <td>Left wheel</td>\n",
       "      <td>White</td>\n",
       "      <td>0</td>\n",
       "      <td>3607</td>\n",
       "    </tr>\n",
       "    <tr>\n",
       "      <th>4</th>\n",
       "      <td>45809263</td>\n",
       "      <td>446</td>\n",
       "      <td>HONDA</td>\n",
       "      <td>FIT</td>\n",
       "      <td>2014</td>\n",
       "      <td>Hatchback</td>\n",
       "      <td>Yes</td>\n",
       "      <td>Petrol</td>\n",
       "      <td>1.3</td>\n",
       "      <td>91901 km</td>\n",
       "      <td>4</td>\n",
       "      <td>Automatic</td>\n",
       "      <td>Front</td>\n",
       "      <td>4-May</td>\n",
       "      <td>Left wheel</td>\n",
       "      <td>Silver</td>\n",
       "      <td>4</td>\n",
       "      <td>11726</td>\n",
       "    </tr>\n",
       "    <tr>\n",
       "      <th>...</th>\n",
       "      <td>...</td>\n",
       "      <td>...</td>\n",
       "      <td>...</td>\n",
       "      <td>...</td>\n",
       "      <td>...</td>\n",
       "      <td>...</td>\n",
       "      <td>...</td>\n",
       "      <td>...</td>\n",
       "      <td>...</td>\n",
       "      <td>...</td>\n",
       "      <td>...</td>\n",
       "      <td>...</td>\n",
       "      <td>...</td>\n",
       "      <td>...</td>\n",
       "      <td>...</td>\n",
       "      <td>...</td>\n",
       "      <td>...</td>\n",
       "      <td>...</td>\n",
       "    </tr>\n",
       "    <tr>\n",
       "      <th>19232</th>\n",
       "      <td>45798355</td>\n",
       "      <td>-</td>\n",
       "      <td>MERCEDES-BENZ</td>\n",
       "      <td>CLK 200</td>\n",
       "      <td>1999</td>\n",
       "      <td>Coupe</td>\n",
       "      <td>Yes</td>\n",
       "      <td>CNG</td>\n",
       "      <td>2.0 Turbo</td>\n",
       "      <td>300000 km</td>\n",
       "      <td>4</td>\n",
       "      <td>Manual</td>\n",
       "      <td>Rear</td>\n",
       "      <td>2-Mar</td>\n",
       "      <td>Left wheel</td>\n",
       "      <td>Silver</td>\n",
       "      <td>5</td>\n",
       "      <td>8467</td>\n",
       "    </tr>\n",
       "    <tr>\n",
       "      <th>19233</th>\n",
       "      <td>45778856</td>\n",
       "      <td>831</td>\n",
       "      <td>HYUNDAI</td>\n",
       "      <td>Sonata</td>\n",
       "      <td>2011</td>\n",
       "      <td>Sedan</td>\n",
       "      <td>Yes</td>\n",
       "      <td>Petrol</td>\n",
       "      <td>2.4</td>\n",
       "      <td>161600 km</td>\n",
       "      <td>4</td>\n",
       "      <td>Tiptronic</td>\n",
       "      <td>Front</td>\n",
       "      <td>4-May</td>\n",
       "      <td>Left wheel</td>\n",
       "      <td>Red</td>\n",
       "      <td>8</td>\n",
       "      <td>15681</td>\n",
       "    </tr>\n",
       "    <tr>\n",
       "      <th>19234</th>\n",
       "      <td>45804997</td>\n",
       "      <td>836</td>\n",
       "      <td>HYUNDAI</td>\n",
       "      <td>Tucson</td>\n",
       "      <td>2010</td>\n",
       "      <td>Jeep</td>\n",
       "      <td>Yes</td>\n",
       "      <td>Diesel</td>\n",
       "      <td>2</td>\n",
       "      <td>116365 km</td>\n",
       "      <td>4</td>\n",
       "      <td>Automatic</td>\n",
       "      <td>Front</td>\n",
       "      <td>4-May</td>\n",
       "      <td>Left wheel</td>\n",
       "      <td>Grey</td>\n",
       "      <td>4</td>\n",
       "      <td>26108</td>\n",
       "    </tr>\n",
       "    <tr>\n",
       "      <th>19235</th>\n",
       "      <td>45793526</td>\n",
       "      <td>1288</td>\n",
       "      <td>CHEVROLET</td>\n",
       "      <td>Captiva</td>\n",
       "      <td>2007</td>\n",
       "      <td>Jeep</td>\n",
       "      <td>Yes</td>\n",
       "      <td>Diesel</td>\n",
       "      <td>2</td>\n",
       "      <td>51258 km</td>\n",
       "      <td>4</td>\n",
       "      <td>Automatic</td>\n",
       "      <td>Front</td>\n",
       "      <td>4-May</td>\n",
       "      <td>Left wheel</td>\n",
       "      <td>Black</td>\n",
       "      <td>4</td>\n",
       "      <td>5331</td>\n",
       "    </tr>\n",
       "    <tr>\n",
       "      <th>19236</th>\n",
       "      <td>45813273</td>\n",
       "      <td>753</td>\n",
       "      <td>HYUNDAI</td>\n",
       "      <td>Sonata</td>\n",
       "      <td>2012</td>\n",
       "      <td>Sedan</td>\n",
       "      <td>Yes</td>\n",
       "      <td>Hybrid</td>\n",
       "      <td>2.4</td>\n",
       "      <td>186923 km</td>\n",
       "      <td>4</td>\n",
       "      <td>Automatic</td>\n",
       "      <td>Front</td>\n",
       "      <td>4-May</td>\n",
       "      <td>Left wheel</td>\n",
       "      <td>White</td>\n",
       "      <td>12</td>\n",
       "      <td>470</td>\n",
       "    </tr>\n",
       "  </tbody>\n",
       "</table>\n",
       "<p>19237 rows × 18 columns</p>\n",
       "</div>"
      ],
      "text/plain": [
       "             ID  Levy   Manufacturer    Model  Prod. year   Category  \\\n",
       "0      45654403  1399          LEXUS   RX 450        2010       Jeep   \n",
       "1      44731507  1018      CHEVROLET  Equinox        2011       Jeep   \n",
       "2      45774419     -          HONDA      FIT        2006  Hatchback   \n",
       "3      45769185   862           FORD   Escape        2011       Jeep   \n",
       "4      45809263   446          HONDA      FIT        2014  Hatchback   \n",
       "...         ...   ...            ...      ...         ...        ...   \n",
       "19232  45798355     -  MERCEDES-BENZ  CLK 200        1999      Coupe   \n",
       "19233  45778856   831        HYUNDAI   Sonata        2011      Sedan   \n",
       "19234  45804997   836        HYUNDAI   Tucson        2010       Jeep   \n",
       "19235  45793526  1288      CHEVROLET  Captiva        2007       Jeep   \n",
       "19236  45813273   753        HYUNDAI   Sonata        2012      Sedan   \n",
       "\n",
       "      Leather interior Fuel type Engine volume    Mileage  Cylinders  \\\n",
       "0                  Yes    Hybrid           3.5  186005 km          6   \n",
       "1                   No    Petrol             3  192000 km          6   \n",
       "2                   No    Petrol           1.3  200000 km          4   \n",
       "3                  Yes    Hybrid           2.5  168966 km          4   \n",
       "4                  Yes    Petrol           1.3   91901 km          4   \n",
       "...                ...       ...           ...        ...        ...   \n",
       "19232              Yes       CNG     2.0 Turbo  300000 km          4   \n",
       "19233              Yes    Petrol           2.4  161600 km          4   \n",
       "19234              Yes    Diesel             2  116365 km          4   \n",
       "19235              Yes    Diesel             2   51258 km          4   \n",
       "19236              Yes    Hybrid           2.4  186923 km          4   \n",
       "\n",
       "      Gear box type Drive wheels  Doors             Wheel   Color  Airbags  \\\n",
       "0         Automatic          4x4  4-May        Left wheel  Silver       12   \n",
       "1         Tiptronic          4x4  4-May        Left wheel   Black        8   \n",
       "2          Variator        Front  4-May  Right-hand drive   Black        2   \n",
       "3         Automatic          4x4  4-May        Left wheel   White        0   \n",
       "4         Automatic        Front  4-May        Left wheel  Silver        4   \n",
       "...             ...          ...    ...               ...     ...      ...   \n",
       "19232        Manual         Rear  2-Mar        Left wheel  Silver        5   \n",
       "19233     Tiptronic        Front  4-May        Left wheel     Red        8   \n",
       "19234     Automatic        Front  4-May        Left wheel    Grey        4   \n",
       "19235     Automatic        Front  4-May        Left wheel   Black        4   \n",
       "19236     Automatic        Front  4-May        Left wheel   White       12   \n",
       "\n",
       "       Price  \n",
       "0      13328  \n",
       "1      16621  \n",
       "2       8467  \n",
       "3       3607  \n",
       "4      11726  \n",
       "...      ...  \n",
       "19232   8467  \n",
       "19233  15681  \n",
       "19234  26108  \n",
       "19235   5331  \n",
       "19236    470  \n",
       "\n",
       "[19237 rows x 18 columns]"
      ]
     },
     "execution_count": 16,
     "metadata": {},
     "output_type": "execute_result"
    }
   ],
   "source": [
    "df2"
   ]
  },
  {
   "cell_type": "code",
   "execution_count": 17,
   "metadata": {},
   "outputs": [],
   "source": [
    "def category_mean(s):\n",
    "    if s == 'Goods wagon':\n",
    "        s = 122916\n",
    "    elif s == 'Pickup':\n",
    "        s = 28805\n",
    "    elif s == 'Universal':\n",
    "        s = 25253\n",
    "    elif s == 'Cabriolet':\n",
    "        s = 24583\n",
    "    elif s == 'Jeep':\n",
    "        s = 23684\n",
    "    elif s == 'Coupe':\n",
    "        s = 21250\n",
    "    elif s == 'Minivan':\n",
    "        s = 20531\n",
    "    elif s == 'Microbus':\n",
    "        s = 18550\n",
    "    elif s == 'Sedan':\n",
    "        s = 14231\n",
    "    elif s == 'Limousine':\n",
    "        s = 11534\n",
    "    else:\n",
    "        s = 11381\n",
    "        \n",
    "    return int(s)"
   ]
  },
  {
   "cell_type": "code",
   "execution_count": 18,
   "metadata": {},
   "outputs": [],
   "source": [
    "# df['Category_mean'] = df['Category'].apply(category_mean)\n",
    "\n",
    "# test['Category_mean'] = test['Category'].apply(category_mean)"
   ]
  },
  {
   "cell_type": "code",
   "execution_count": 19,
   "metadata": {},
   "outputs": [],
   "source": [
    "def doors_mean(s):\n",
    "    if s == '2-Mar':\n",
    "        s = 50379\n",
    "    elif s == '>5':\n",
    "        s = 22299\n",
    "    else:\n",
    "        s = 17180\n",
    "    return int(s)"
   ]
  },
  {
   "cell_type": "code",
   "execution_count": 20,
   "metadata": {},
   "outputs": [],
   "source": [
    "# df['Doors_mean'] = df['Doors'].apply(doors_mean)\n",
    "\n",
    "# test['Doors_mean'] = test['Doors'].apply(doors_mean)"
   ]
  },
  {
   "cell_type": "code",
   "execution_count": 21,
   "metadata": {},
   "outputs": [],
   "source": [
    "# df['Wheel_mean'] = df['Wheel'].apply(lambda x: 19363 if x == 'Left wheel' else 8900)\n",
    "\n",
    "# test['Wheel_mean'] = test['Wheel'].apply(lambda x: 19363 if x == 'Left wheel' else 8900)"
   ]
  },
  {
   "cell_type": "code",
   "execution_count": 22,
   "metadata": {},
   "outputs": [
    {
     "data": {
      "text/html": [
       "<div>\n",
       "<style scoped>\n",
       "    .dataframe tbody tr th:only-of-type {\n",
       "        vertical-align: middle;\n",
       "    }\n",
       "\n",
       "    .dataframe tbody tr th {\n",
       "        vertical-align: top;\n",
       "    }\n",
       "\n",
       "    .dataframe thead th {\n",
       "        text-align: right;\n",
       "    }\n",
       "</style>\n",
       "<table border=\"1\" class=\"dataframe\">\n",
       "  <thead>\n",
       "    <tr style=\"text-align: right;\">\n",
       "      <th></th>\n",
       "      <th>ID</th>\n",
       "      <th>Levy</th>\n",
       "      <th>Manufacturer</th>\n",
       "      <th>Model</th>\n",
       "      <th>Prod. year</th>\n",
       "      <th>Category</th>\n",
       "      <th>Leather interior</th>\n",
       "      <th>Fuel type</th>\n",
       "      <th>Engine volume</th>\n",
       "      <th>Mileage</th>\n",
       "      <th>Cylinders</th>\n",
       "      <th>Gear box type</th>\n",
       "      <th>Drive wheels</th>\n",
       "      <th>Doors</th>\n",
       "      <th>Wheel</th>\n",
       "      <th>Color</th>\n",
       "      <th>Airbags</th>\n",
       "      <th>Price</th>\n",
       "    </tr>\n",
       "  </thead>\n",
       "  <tbody>\n",
       "    <tr>\n",
       "      <th>0</th>\n",
       "      <td>45654403</td>\n",
       "      <td>1399</td>\n",
       "      <td>LEXUS</td>\n",
       "      <td>RX 450</td>\n",
       "      <td>2010</td>\n",
       "      <td>Jeep</td>\n",
       "      <td>Yes</td>\n",
       "      <td>Hybrid</td>\n",
       "      <td>3.5</td>\n",
       "      <td>186005 km</td>\n",
       "      <td>6</td>\n",
       "      <td>Automatic</td>\n",
       "      <td>4x4</td>\n",
       "      <td>4-May</td>\n",
       "      <td>Left wheel</td>\n",
       "      <td>Silver</td>\n",
       "      <td>12</td>\n",
       "      <td>13328</td>\n",
       "    </tr>\n",
       "    <tr>\n",
       "      <th>1</th>\n",
       "      <td>44731507</td>\n",
       "      <td>1018</td>\n",
       "      <td>CHEVROLET</td>\n",
       "      <td>Equinox</td>\n",
       "      <td>2011</td>\n",
       "      <td>Jeep</td>\n",
       "      <td>No</td>\n",
       "      <td>Petrol</td>\n",
       "      <td>3</td>\n",
       "      <td>192000 km</td>\n",
       "      <td>6</td>\n",
       "      <td>Tiptronic</td>\n",
       "      <td>4x4</td>\n",
       "      <td>4-May</td>\n",
       "      <td>Left wheel</td>\n",
       "      <td>Black</td>\n",
       "      <td>8</td>\n",
       "      <td>16621</td>\n",
       "    </tr>\n",
       "    <tr>\n",
       "      <th>2</th>\n",
       "      <td>45774419</td>\n",
       "      <td>-</td>\n",
       "      <td>HONDA</td>\n",
       "      <td>FIT</td>\n",
       "      <td>2006</td>\n",
       "      <td>Hatchback</td>\n",
       "      <td>No</td>\n",
       "      <td>Petrol</td>\n",
       "      <td>1.3</td>\n",
       "      <td>200000 km</td>\n",
       "      <td>4</td>\n",
       "      <td>Variator</td>\n",
       "      <td>Front</td>\n",
       "      <td>4-May</td>\n",
       "      <td>Right-hand drive</td>\n",
       "      <td>Black</td>\n",
       "      <td>2</td>\n",
       "      <td>8467</td>\n",
       "    </tr>\n",
       "    <tr>\n",
       "      <th>3</th>\n",
       "      <td>45769185</td>\n",
       "      <td>862</td>\n",
       "      <td>FORD</td>\n",
       "      <td>Escape</td>\n",
       "      <td>2011</td>\n",
       "      <td>Jeep</td>\n",
       "      <td>Yes</td>\n",
       "      <td>Hybrid</td>\n",
       "      <td>2.5</td>\n",
       "      <td>168966 km</td>\n",
       "      <td>4</td>\n",
       "      <td>Automatic</td>\n",
       "      <td>4x4</td>\n",
       "      <td>4-May</td>\n",
       "      <td>Left wheel</td>\n",
       "      <td>White</td>\n",
       "      <td>0</td>\n",
       "      <td>3607</td>\n",
       "    </tr>\n",
       "    <tr>\n",
       "      <th>4</th>\n",
       "      <td>45809263</td>\n",
       "      <td>446</td>\n",
       "      <td>HONDA</td>\n",
       "      <td>FIT</td>\n",
       "      <td>2014</td>\n",
       "      <td>Hatchback</td>\n",
       "      <td>Yes</td>\n",
       "      <td>Petrol</td>\n",
       "      <td>1.3</td>\n",
       "      <td>91901 km</td>\n",
       "      <td>4</td>\n",
       "      <td>Automatic</td>\n",
       "      <td>Front</td>\n",
       "      <td>4-May</td>\n",
       "      <td>Left wheel</td>\n",
       "      <td>Silver</td>\n",
       "      <td>4</td>\n",
       "      <td>11726</td>\n",
       "    </tr>\n",
       "    <tr>\n",
       "      <th>...</th>\n",
       "      <td>...</td>\n",
       "      <td>...</td>\n",
       "      <td>...</td>\n",
       "      <td>...</td>\n",
       "      <td>...</td>\n",
       "      <td>...</td>\n",
       "      <td>...</td>\n",
       "      <td>...</td>\n",
       "      <td>...</td>\n",
       "      <td>...</td>\n",
       "      <td>...</td>\n",
       "      <td>...</td>\n",
       "      <td>...</td>\n",
       "      <td>...</td>\n",
       "      <td>...</td>\n",
       "      <td>...</td>\n",
       "      <td>...</td>\n",
       "      <td>...</td>\n",
       "    </tr>\n",
       "    <tr>\n",
       "      <th>19232</th>\n",
       "      <td>45798355</td>\n",
       "      <td>-</td>\n",
       "      <td>MERCEDES-BENZ</td>\n",
       "      <td>CLK 200</td>\n",
       "      <td>1999</td>\n",
       "      <td>Coupe</td>\n",
       "      <td>Yes</td>\n",
       "      <td>CNG</td>\n",
       "      <td>2.0 Turbo</td>\n",
       "      <td>300000 km</td>\n",
       "      <td>4</td>\n",
       "      <td>Manual</td>\n",
       "      <td>Rear</td>\n",
       "      <td>2-Mar</td>\n",
       "      <td>Left wheel</td>\n",
       "      <td>Silver</td>\n",
       "      <td>5</td>\n",
       "      <td>8467</td>\n",
       "    </tr>\n",
       "    <tr>\n",
       "      <th>19233</th>\n",
       "      <td>45778856</td>\n",
       "      <td>831</td>\n",
       "      <td>HYUNDAI</td>\n",
       "      <td>Sonata</td>\n",
       "      <td>2011</td>\n",
       "      <td>Sedan</td>\n",
       "      <td>Yes</td>\n",
       "      <td>Petrol</td>\n",
       "      <td>2.4</td>\n",
       "      <td>161600 km</td>\n",
       "      <td>4</td>\n",
       "      <td>Tiptronic</td>\n",
       "      <td>Front</td>\n",
       "      <td>4-May</td>\n",
       "      <td>Left wheel</td>\n",
       "      <td>Red</td>\n",
       "      <td>8</td>\n",
       "      <td>15681</td>\n",
       "    </tr>\n",
       "    <tr>\n",
       "      <th>19234</th>\n",
       "      <td>45804997</td>\n",
       "      <td>836</td>\n",
       "      <td>HYUNDAI</td>\n",
       "      <td>Tucson</td>\n",
       "      <td>2010</td>\n",
       "      <td>Jeep</td>\n",
       "      <td>Yes</td>\n",
       "      <td>Diesel</td>\n",
       "      <td>2</td>\n",
       "      <td>116365 km</td>\n",
       "      <td>4</td>\n",
       "      <td>Automatic</td>\n",
       "      <td>Front</td>\n",
       "      <td>4-May</td>\n",
       "      <td>Left wheel</td>\n",
       "      <td>Grey</td>\n",
       "      <td>4</td>\n",
       "      <td>26108</td>\n",
       "    </tr>\n",
       "    <tr>\n",
       "      <th>19235</th>\n",
       "      <td>45793526</td>\n",
       "      <td>1288</td>\n",
       "      <td>CHEVROLET</td>\n",
       "      <td>Captiva</td>\n",
       "      <td>2007</td>\n",
       "      <td>Jeep</td>\n",
       "      <td>Yes</td>\n",
       "      <td>Diesel</td>\n",
       "      <td>2</td>\n",
       "      <td>51258 km</td>\n",
       "      <td>4</td>\n",
       "      <td>Automatic</td>\n",
       "      <td>Front</td>\n",
       "      <td>4-May</td>\n",
       "      <td>Left wheel</td>\n",
       "      <td>Black</td>\n",
       "      <td>4</td>\n",
       "      <td>5331</td>\n",
       "    </tr>\n",
       "    <tr>\n",
       "      <th>19236</th>\n",
       "      <td>45813273</td>\n",
       "      <td>753</td>\n",
       "      <td>HYUNDAI</td>\n",
       "      <td>Sonata</td>\n",
       "      <td>2012</td>\n",
       "      <td>Sedan</td>\n",
       "      <td>Yes</td>\n",
       "      <td>Hybrid</td>\n",
       "      <td>2.4</td>\n",
       "      <td>186923 km</td>\n",
       "      <td>4</td>\n",
       "      <td>Automatic</td>\n",
       "      <td>Front</td>\n",
       "      <td>4-May</td>\n",
       "      <td>Left wheel</td>\n",
       "      <td>White</td>\n",
       "      <td>12</td>\n",
       "      <td>470</td>\n",
       "    </tr>\n",
       "  </tbody>\n",
       "</table>\n",
       "<p>19237 rows × 18 columns</p>\n",
       "</div>"
      ],
      "text/plain": [
       "             ID  Levy   Manufacturer    Model  Prod. year   Category  \\\n",
       "0      45654403  1399          LEXUS   RX 450        2010       Jeep   \n",
       "1      44731507  1018      CHEVROLET  Equinox        2011       Jeep   \n",
       "2      45774419     -          HONDA      FIT        2006  Hatchback   \n",
       "3      45769185   862           FORD   Escape        2011       Jeep   \n",
       "4      45809263   446          HONDA      FIT        2014  Hatchback   \n",
       "...         ...   ...            ...      ...         ...        ...   \n",
       "19232  45798355     -  MERCEDES-BENZ  CLK 200        1999      Coupe   \n",
       "19233  45778856   831        HYUNDAI   Sonata        2011      Sedan   \n",
       "19234  45804997   836        HYUNDAI   Tucson        2010       Jeep   \n",
       "19235  45793526  1288      CHEVROLET  Captiva        2007       Jeep   \n",
       "19236  45813273   753        HYUNDAI   Sonata        2012      Sedan   \n",
       "\n",
       "      Leather interior Fuel type Engine volume    Mileage  Cylinders  \\\n",
       "0                  Yes    Hybrid           3.5  186005 km          6   \n",
       "1                   No    Petrol             3  192000 km          6   \n",
       "2                   No    Petrol           1.3  200000 km          4   \n",
       "3                  Yes    Hybrid           2.5  168966 km          4   \n",
       "4                  Yes    Petrol           1.3   91901 km          4   \n",
       "...                ...       ...           ...        ...        ...   \n",
       "19232              Yes       CNG     2.0 Turbo  300000 km          4   \n",
       "19233              Yes    Petrol           2.4  161600 km          4   \n",
       "19234              Yes    Diesel             2  116365 km          4   \n",
       "19235              Yes    Diesel             2   51258 km          4   \n",
       "19236              Yes    Hybrid           2.4  186923 km          4   \n",
       "\n",
       "      Gear box type Drive wheels  Doors             Wheel   Color  Airbags  \\\n",
       "0         Automatic          4x4  4-May        Left wheel  Silver       12   \n",
       "1         Tiptronic          4x4  4-May        Left wheel   Black        8   \n",
       "2          Variator        Front  4-May  Right-hand drive   Black        2   \n",
       "3         Automatic          4x4  4-May        Left wheel   White        0   \n",
       "4         Automatic        Front  4-May        Left wheel  Silver        4   \n",
       "...             ...          ...    ...               ...     ...      ...   \n",
       "19232        Manual         Rear  2-Mar        Left wheel  Silver        5   \n",
       "19233     Tiptronic        Front  4-May        Left wheel     Red        8   \n",
       "19234     Automatic        Front  4-May        Left wheel    Grey        4   \n",
       "19235     Automatic        Front  4-May        Left wheel   Black        4   \n",
       "19236     Automatic        Front  4-May        Left wheel   White       12   \n",
       "\n",
       "       Price  \n",
       "0      13328  \n",
       "1      16621  \n",
       "2       8467  \n",
       "3       3607  \n",
       "4      11726  \n",
       "...      ...  \n",
       "19232   8467  \n",
       "19233  15681  \n",
       "19234  26108  \n",
       "19235   5331  \n",
       "19236    470  \n",
       "\n",
       "[19237 rows x 18 columns]"
      ]
     },
     "execution_count": 22,
     "metadata": {},
     "output_type": "execute_result"
    }
   ],
   "source": [
    "df"
   ]
  },
  {
   "cell_type": "code",
   "execution_count": null,
   "metadata": {},
   "outputs": [],
   "source": []
  },
  {
   "cell_type": "code",
   "execution_count": null,
   "metadata": {},
   "outputs": [],
   "source": []
  },
  {
   "cell_type": "code",
   "execution_count": 23,
   "metadata": {},
   "outputs": [
    {
     "data": {
      "text/html": [
       "<div>\n",
       "<style scoped>\n",
       "    .dataframe tbody tr th:only-of-type {\n",
       "        vertical-align: middle;\n",
       "    }\n",
       "\n",
       "    .dataframe tbody tr th {\n",
       "        vertical-align: top;\n",
       "    }\n",
       "\n",
       "    .dataframe thead th {\n",
       "        text-align: right;\n",
       "    }\n",
       "</style>\n",
       "<table border=\"1\" class=\"dataframe\">\n",
       "  <thead>\n",
       "    <tr style=\"text-align: right;\">\n",
       "      <th></th>\n",
       "      <th>ID</th>\n",
       "      <th>Levy</th>\n",
       "      <th>Manufacturer</th>\n",
       "      <th>Model</th>\n",
       "      <th>Prod. year</th>\n",
       "      <th>Category</th>\n",
       "      <th>Leather interior</th>\n",
       "      <th>Fuel type</th>\n",
       "      <th>Engine volume</th>\n",
       "      <th>Mileage</th>\n",
       "      <th>Cylinders</th>\n",
       "      <th>Gear box type</th>\n",
       "      <th>Drive wheels</th>\n",
       "      <th>Doors</th>\n",
       "      <th>Wheel</th>\n",
       "      <th>Color</th>\n",
       "      <th>Airbags</th>\n",
       "      <th>Price</th>\n",
       "    </tr>\n",
       "  </thead>\n",
       "  <tbody>\n",
       "    <tr>\n",
       "      <th>0</th>\n",
       "      <td>45654403</td>\n",
       "      <td>1399</td>\n",
       "      <td>LEXUS</td>\n",
       "      <td>RX 450</td>\n",
       "      <td>2010</td>\n",
       "      <td>Jeep</td>\n",
       "      <td>Yes</td>\n",
       "      <td>Hybrid</td>\n",
       "      <td>3.5</td>\n",
       "      <td>186005 km</td>\n",
       "      <td>6</td>\n",
       "      <td>Automatic</td>\n",
       "      <td>4x4</td>\n",
       "      <td>4-May</td>\n",
       "      <td>Left wheel</td>\n",
       "      <td>Silver</td>\n",
       "      <td>12</td>\n",
       "      <td>13328</td>\n",
       "    </tr>\n",
       "    <tr>\n",
       "      <th>1</th>\n",
       "      <td>44731507</td>\n",
       "      <td>1018</td>\n",
       "      <td>CHEVROLET</td>\n",
       "      <td>Equinox</td>\n",
       "      <td>2011</td>\n",
       "      <td>Jeep</td>\n",
       "      <td>No</td>\n",
       "      <td>Petrol</td>\n",
       "      <td>3</td>\n",
       "      <td>192000 km</td>\n",
       "      <td>6</td>\n",
       "      <td>Tiptronic</td>\n",
       "      <td>4x4</td>\n",
       "      <td>4-May</td>\n",
       "      <td>Left wheel</td>\n",
       "      <td>Black</td>\n",
       "      <td>8</td>\n",
       "      <td>16621</td>\n",
       "    </tr>\n",
       "    <tr>\n",
       "      <th>2</th>\n",
       "      <td>45774419</td>\n",
       "      <td>-</td>\n",
       "      <td>HONDA</td>\n",
       "      <td>FIT</td>\n",
       "      <td>2006</td>\n",
       "      <td>Hatchback</td>\n",
       "      <td>No</td>\n",
       "      <td>Petrol</td>\n",
       "      <td>1.3</td>\n",
       "      <td>200000 km</td>\n",
       "      <td>4</td>\n",
       "      <td>Variator</td>\n",
       "      <td>Front</td>\n",
       "      <td>4-May</td>\n",
       "      <td>Right-hand drive</td>\n",
       "      <td>Black</td>\n",
       "      <td>2</td>\n",
       "      <td>8467</td>\n",
       "    </tr>\n",
       "    <tr>\n",
       "      <th>3</th>\n",
       "      <td>45769185</td>\n",
       "      <td>862</td>\n",
       "      <td>FORD</td>\n",
       "      <td>Escape</td>\n",
       "      <td>2011</td>\n",
       "      <td>Jeep</td>\n",
       "      <td>Yes</td>\n",
       "      <td>Hybrid</td>\n",
       "      <td>2.5</td>\n",
       "      <td>168966 km</td>\n",
       "      <td>4</td>\n",
       "      <td>Automatic</td>\n",
       "      <td>4x4</td>\n",
       "      <td>4-May</td>\n",
       "      <td>Left wheel</td>\n",
       "      <td>White</td>\n",
       "      <td>0</td>\n",
       "      <td>3607</td>\n",
       "    </tr>\n",
       "    <tr>\n",
       "      <th>4</th>\n",
       "      <td>45809263</td>\n",
       "      <td>446</td>\n",
       "      <td>HONDA</td>\n",
       "      <td>FIT</td>\n",
       "      <td>2014</td>\n",
       "      <td>Hatchback</td>\n",
       "      <td>Yes</td>\n",
       "      <td>Petrol</td>\n",
       "      <td>1.3</td>\n",
       "      <td>91901 km</td>\n",
       "      <td>4</td>\n",
       "      <td>Automatic</td>\n",
       "      <td>Front</td>\n",
       "      <td>4-May</td>\n",
       "      <td>Left wheel</td>\n",
       "      <td>Silver</td>\n",
       "      <td>4</td>\n",
       "      <td>11726</td>\n",
       "    </tr>\n",
       "    <tr>\n",
       "      <th>...</th>\n",
       "      <td>...</td>\n",
       "      <td>...</td>\n",
       "      <td>...</td>\n",
       "      <td>...</td>\n",
       "      <td>...</td>\n",
       "      <td>...</td>\n",
       "      <td>...</td>\n",
       "      <td>...</td>\n",
       "      <td>...</td>\n",
       "      <td>...</td>\n",
       "      <td>...</td>\n",
       "      <td>...</td>\n",
       "      <td>...</td>\n",
       "      <td>...</td>\n",
       "      <td>...</td>\n",
       "      <td>...</td>\n",
       "      <td>...</td>\n",
       "      <td>...</td>\n",
       "    </tr>\n",
       "    <tr>\n",
       "      <th>19232</th>\n",
       "      <td>45798355</td>\n",
       "      <td>-</td>\n",
       "      <td>MERCEDES-BENZ</td>\n",
       "      <td>CLK 200</td>\n",
       "      <td>1999</td>\n",
       "      <td>Coupe</td>\n",
       "      <td>Yes</td>\n",
       "      <td>CNG</td>\n",
       "      <td>2.0 Turbo</td>\n",
       "      <td>300000 km</td>\n",
       "      <td>4</td>\n",
       "      <td>Manual</td>\n",
       "      <td>Rear</td>\n",
       "      <td>2-Mar</td>\n",
       "      <td>Left wheel</td>\n",
       "      <td>Silver</td>\n",
       "      <td>5</td>\n",
       "      <td>8467</td>\n",
       "    </tr>\n",
       "    <tr>\n",
       "      <th>19233</th>\n",
       "      <td>45778856</td>\n",
       "      <td>831</td>\n",
       "      <td>HYUNDAI</td>\n",
       "      <td>Sonata</td>\n",
       "      <td>2011</td>\n",
       "      <td>Sedan</td>\n",
       "      <td>Yes</td>\n",
       "      <td>Petrol</td>\n",
       "      <td>2.4</td>\n",
       "      <td>161600 km</td>\n",
       "      <td>4</td>\n",
       "      <td>Tiptronic</td>\n",
       "      <td>Front</td>\n",
       "      <td>4-May</td>\n",
       "      <td>Left wheel</td>\n",
       "      <td>Red</td>\n",
       "      <td>8</td>\n",
       "      <td>15681</td>\n",
       "    </tr>\n",
       "    <tr>\n",
       "      <th>19234</th>\n",
       "      <td>45804997</td>\n",
       "      <td>836</td>\n",
       "      <td>HYUNDAI</td>\n",
       "      <td>Tucson</td>\n",
       "      <td>2010</td>\n",
       "      <td>Jeep</td>\n",
       "      <td>Yes</td>\n",
       "      <td>Diesel</td>\n",
       "      <td>2</td>\n",
       "      <td>116365 km</td>\n",
       "      <td>4</td>\n",
       "      <td>Automatic</td>\n",
       "      <td>Front</td>\n",
       "      <td>4-May</td>\n",
       "      <td>Left wheel</td>\n",
       "      <td>Grey</td>\n",
       "      <td>4</td>\n",
       "      <td>26108</td>\n",
       "    </tr>\n",
       "    <tr>\n",
       "      <th>19235</th>\n",
       "      <td>45793526</td>\n",
       "      <td>1288</td>\n",
       "      <td>CHEVROLET</td>\n",
       "      <td>Captiva</td>\n",
       "      <td>2007</td>\n",
       "      <td>Jeep</td>\n",
       "      <td>Yes</td>\n",
       "      <td>Diesel</td>\n",
       "      <td>2</td>\n",
       "      <td>51258 km</td>\n",
       "      <td>4</td>\n",
       "      <td>Automatic</td>\n",
       "      <td>Front</td>\n",
       "      <td>4-May</td>\n",
       "      <td>Left wheel</td>\n",
       "      <td>Black</td>\n",
       "      <td>4</td>\n",
       "      <td>5331</td>\n",
       "    </tr>\n",
       "    <tr>\n",
       "      <th>19236</th>\n",
       "      <td>45813273</td>\n",
       "      <td>753</td>\n",
       "      <td>HYUNDAI</td>\n",
       "      <td>Sonata</td>\n",
       "      <td>2012</td>\n",
       "      <td>Sedan</td>\n",
       "      <td>Yes</td>\n",
       "      <td>Hybrid</td>\n",
       "      <td>2.4</td>\n",
       "      <td>186923 km</td>\n",
       "      <td>4</td>\n",
       "      <td>Automatic</td>\n",
       "      <td>Front</td>\n",
       "      <td>4-May</td>\n",
       "      <td>Left wheel</td>\n",
       "      <td>White</td>\n",
       "      <td>12</td>\n",
       "      <td>470</td>\n",
       "    </tr>\n",
       "  </tbody>\n",
       "</table>\n",
       "<p>19237 rows × 18 columns</p>\n",
       "</div>"
      ],
      "text/plain": [
       "             ID  Levy   Manufacturer    Model  Prod. year   Category  \\\n",
       "0      45654403  1399          LEXUS   RX 450        2010       Jeep   \n",
       "1      44731507  1018      CHEVROLET  Equinox        2011       Jeep   \n",
       "2      45774419     -          HONDA      FIT        2006  Hatchback   \n",
       "3      45769185   862           FORD   Escape        2011       Jeep   \n",
       "4      45809263   446          HONDA      FIT        2014  Hatchback   \n",
       "...         ...   ...            ...      ...         ...        ...   \n",
       "19232  45798355     -  MERCEDES-BENZ  CLK 200        1999      Coupe   \n",
       "19233  45778856   831        HYUNDAI   Sonata        2011      Sedan   \n",
       "19234  45804997   836        HYUNDAI   Tucson        2010       Jeep   \n",
       "19235  45793526  1288      CHEVROLET  Captiva        2007       Jeep   \n",
       "19236  45813273   753        HYUNDAI   Sonata        2012      Sedan   \n",
       "\n",
       "      Leather interior Fuel type Engine volume    Mileage  Cylinders  \\\n",
       "0                  Yes    Hybrid           3.5  186005 km          6   \n",
       "1                   No    Petrol             3  192000 km          6   \n",
       "2                   No    Petrol           1.3  200000 km          4   \n",
       "3                  Yes    Hybrid           2.5  168966 km          4   \n",
       "4                  Yes    Petrol           1.3   91901 km          4   \n",
       "...                ...       ...           ...        ...        ...   \n",
       "19232              Yes       CNG     2.0 Turbo  300000 km          4   \n",
       "19233              Yes    Petrol           2.4  161600 km          4   \n",
       "19234              Yes    Diesel             2  116365 km          4   \n",
       "19235              Yes    Diesel             2   51258 km          4   \n",
       "19236              Yes    Hybrid           2.4  186923 km          4   \n",
       "\n",
       "      Gear box type Drive wheels  Doors             Wheel   Color  Airbags  \\\n",
       "0         Automatic          4x4  4-May        Left wheel  Silver       12   \n",
       "1         Tiptronic          4x4  4-May        Left wheel   Black        8   \n",
       "2          Variator        Front  4-May  Right-hand drive   Black        2   \n",
       "3         Automatic          4x4  4-May        Left wheel   White        0   \n",
       "4         Automatic        Front  4-May        Left wheel  Silver        4   \n",
       "...             ...          ...    ...               ...     ...      ...   \n",
       "19232        Manual         Rear  2-Mar        Left wheel  Silver        5   \n",
       "19233     Tiptronic        Front  4-May        Left wheel     Red        8   \n",
       "19234     Automatic        Front  4-May        Left wheel    Grey        4   \n",
       "19235     Automatic        Front  4-May        Left wheel   Black        4   \n",
       "19236     Automatic        Front  4-May        Left wheel   White       12   \n",
       "\n",
       "       Price  \n",
       "0      13328  \n",
       "1      16621  \n",
       "2       8467  \n",
       "3       3607  \n",
       "4      11726  \n",
       "...      ...  \n",
       "19232   8467  \n",
       "19233  15681  \n",
       "19234  26108  \n",
       "19235   5331  \n",
       "19236    470  \n",
       "\n",
       "[19237 rows x 18 columns]"
      ]
     },
     "execution_count": 23,
     "metadata": {},
     "output_type": "execute_result"
    }
   ],
   "source": [
    "df2"
   ]
  },
  {
   "cell_type": "code",
   "execution_count": null,
   "metadata": {},
   "outputs": [],
   "source": []
  },
  {
   "cell_type": "code",
   "execution_count": null,
   "metadata": {},
   "outputs": [],
   "source": []
  },
  {
   "cell_type": "code",
   "execution_count": 24,
   "metadata": {},
   "outputs": [
    {
     "data": {
      "text/html": [
       "<div>\n",
       "<style scoped>\n",
       "    .dataframe tbody tr th:only-of-type {\n",
       "        vertical-align: middle;\n",
       "    }\n",
       "\n",
       "    .dataframe tbody tr th {\n",
       "        vertical-align: top;\n",
       "    }\n",
       "\n",
       "    .dataframe thead th {\n",
       "        text-align: right;\n",
       "    }\n",
       "</style>\n",
       "<table border=\"1\" class=\"dataframe\">\n",
       "  <thead>\n",
       "    <tr style=\"text-align: right;\">\n",
       "      <th></th>\n",
       "      <th></th>\n",
       "      <th>ID</th>\n",
       "      <th>Airbags</th>\n",
       "      <th>Price</th>\n",
       "    </tr>\n",
       "    <tr>\n",
       "      <th>Prod. year</th>\n",
       "      <th>Cylinders</th>\n",
       "      <th></th>\n",
       "      <th></th>\n",
       "      <th></th>\n",
       "    </tr>\n",
       "  </thead>\n",
       "  <tbody>\n",
       "    <tr>\n",
       "      <th>2020</th>\n",
       "      <th>8</th>\n",
       "      <td>4.579552e+07</td>\n",
       "      <td>12.000000</td>\n",
       "      <td>627220.000000</td>\n",
       "    </tr>\n",
       "    <tr>\n",
       "      <th>1999</th>\n",
       "      <th>4</th>\n",
       "      <td>4.567959e+07</td>\n",
       "      <td>3.414966</td>\n",
       "      <td>186062.530612</td>\n",
       "    </tr>\n",
       "    <tr>\n",
       "      <th>2017</th>\n",
       "      <th>1</th>\n",
       "      <td>4.458755e+07</td>\n",
       "      <td>0.000000</td>\n",
       "      <td>147397.000000</td>\n",
       "    </tr>\n",
       "    <tr>\n",
       "      <th rowspan=\"2\" valign=\"top\">2019</th>\n",
       "      <th>8</th>\n",
       "      <td>4.541621e+07</td>\n",
       "      <td>10.300000</td>\n",
       "      <td>140659.100000</td>\n",
       "    </tr>\n",
       "    <tr>\n",
       "      <th>12</th>\n",
       "      <td>4.577395e+07</td>\n",
       "      <td>12.000000</td>\n",
       "      <td>121524.000000</td>\n",
       "    </tr>\n",
       "    <tr>\n",
       "      <th>...</th>\n",
       "      <th>...</th>\n",
       "      <td>...</td>\n",
       "      <td>...</td>\n",
       "      <td>...</td>\n",
       "    </tr>\n",
       "    <tr>\n",
       "      <th>1947</th>\n",
       "      <th>6</th>\n",
       "      <td>3.816900e+07</td>\n",
       "      <td>0.000000</td>\n",
       "      <td>150.000000</td>\n",
       "    </tr>\n",
       "    <tr>\n",
       "      <th>2009</th>\n",
       "      <th>2</th>\n",
       "      <td>4.576165e+07</td>\n",
       "      <td>2.000000</td>\n",
       "      <td>60.000000</td>\n",
       "    </tr>\n",
       "    <tr>\n",
       "      <th>2007</th>\n",
       "      <th>7</th>\n",
       "      <td>4.574188e+07</td>\n",
       "      <td>9.000000</td>\n",
       "      <td>40.000000</td>\n",
       "    </tr>\n",
       "    <tr>\n",
       "      <th>2011</th>\n",
       "      <th>7</th>\n",
       "      <td>4.537004e+07</td>\n",
       "      <td>12.000000</td>\n",
       "      <td>30.000000</td>\n",
       "    </tr>\n",
       "    <tr>\n",
       "      <th>2020</th>\n",
       "      <th>12</th>\n",
       "      <td>4.581498e+07</td>\n",
       "      <td>0.000000</td>\n",
       "      <td>3.000000</td>\n",
       "    </tr>\n",
       "  </tbody>\n",
       "</table>\n",
       "<p>239 rows × 3 columns</p>\n",
       "</div>"
      ],
      "text/plain": [
       "                                ID    Airbags          Price\n",
       "Prod. year Cylinders                                        \n",
       "2020       8          4.579552e+07  12.000000  627220.000000\n",
       "1999       4          4.567959e+07   3.414966  186062.530612\n",
       "2017       1          4.458755e+07   0.000000  147397.000000\n",
       "2019       8          4.541621e+07  10.300000  140659.100000\n",
       "           12         4.577395e+07  12.000000  121524.000000\n",
       "...                            ...        ...            ...\n",
       "1947       6          3.816900e+07   0.000000     150.000000\n",
       "2009       2          4.576165e+07   2.000000      60.000000\n",
       "2007       7          4.574188e+07   9.000000      40.000000\n",
       "2011       7          4.537004e+07  12.000000      30.000000\n",
       "2020       12         4.581498e+07   0.000000       3.000000\n",
       "\n",
       "[239 rows x 3 columns]"
      ]
     },
     "execution_count": 24,
     "metadata": {},
     "output_type": "execute_result"
    }
   ],
   "source": [
    "df2.groupby(['Prod. year', 'Cylinders']).mean().sort_values('Price',ascending=False)"
   ]
  },
  {
   "cell_type": "code",
   "execution_count": null,
   "metadata": {},
   "outputs": [],
   "source": []
  },
  {
   "cell_type": "code",
   "execution_count": 25,
   "metadata": {},
   "outputs": [
    {
     "data": {
      "text/html": [
       "<div>\n",
       "<style scoped>\n",
       "    .dataframe tbody tr th:only-of-type {\n",
       "        vertical-align: middle;\n",
       "    }\n",
       "\n",
       "    .dataframe tbody tr th {\n",
       "        vertical-align: top;\n",
       "    }\n",
       "\n",
       "    .dataframe thead th {\n",
       "        text-align: right;\n",
       "    }\n",
       "</style>\n",
       "<table border=\"1\" class=\"dataframe\">\n",
       "  <thead>\n",
       "    <tr style=\"text-align: right;\">\n",
       "      <th></th>\n",
       "      <th>count</th>\n",
       "      <th>mean</th>\n",
       "      <th>std</th>\n",
       "      <th>min</th>\n",
       "      <th>25%</th>\n",
       "      <th>50%</th>\n",
       "      <th>75%</th>\n",
       "      <th>max</th>\n",
       "    </tr>\n",
       "  </thead>\n",
       "  <tbody>\n",
       "    <tr>\n",
       "      <th>ID</th>\n",
       "      <td>19237.0</td>\n",
       "      <td>4.557654e+07</td>\n",
       "      <td>936591.422799</td>\n",
       "      <td>20746880.0</td>\n",
       "      <td>45698374.0</td>\n",
       "      <td>45772308.0</td>\n",
       "      <td>45802036.0</td>\n",
       "      <td>45816654.0</td>\n",
       "    </tr>\n",
       "    <tr>\n",
       "      <th>Prod. year</th>\n",
       "      <td>19237.0</td>\n",
       "      <td>2.010913e+03</td>\n",
       "      <td>5.668673</td>\n",
       "      <td>1939.0</td>\n",
       "      <td>2009.0</td>\n",
       "      <td>2012.0</td>\n",
       "      <td>2015.0</td>\n",
       "      <td>2020.0</td>\n",
       "    </tr>\n",
       "    <tr>\n",
       "      <th>Cylinders</th>\n",
       "      <td>19237.0</td>\n",
       "      <td>4.582991e+00</td>\n",
       "      <td>1.199933</td>\n",
       "      <td>1.0</td>\n",
       "      <td>4.0</td>\n",
       "      <td>4.0</td>\n",
       "      <td>4.0</td>\n",
       "      <td>16.0</td>\n",
       "    </tr>\n",
       "    <tr>\n",
       "      <th>Airbags</th>\n",
       "      <td>19237.0</td>\n",
       "      <td>6.582627e+00</td>\n",
       "      <td>4.320168</td>\n",
       "      <td>0.0</td>\n",
       "      <td>4.0</td>\n",
       "      <td>6.0</td>\n",
       "      <td>12.0</td>\n",
       "      <td>16.0</td>\n",
       "    </tr>\n",
       "    <tr>\n",
       "      <th>Price</th>\n",
       "      <td>19237.0</td>\n",
       "      <td>1.855593e+04</td>\n",
       "      <td>190581.269684</td>\n",
       "      <td>1.0</td>\n",
       "      <td>5331.0</td>\n",
       "      <td>13172.0</td>\n",
       "      <td>22075.0</td>\n",
       "      <td>26307500.0</td>\n",
       "    </tr>\n",
       "  </tbody>\n",
       "</table>\n",
       "</div>"
      ],
      "text/plain": [
       "              count          mean            std         min         25%  \\\n",
       "ID          19237.0  4.557654e+07  936591.422799  20746880.0  45698374.0   \n",
       "Prod. year  19237.0  2.010913e+03       5.668673      1939.0      2009.0   \n",
       "Cylinders   19237.0  4.582991e+00       1.199933         1.0         4.0   \n",
       "Airbags     19237.0  6.582627e+00       4.320168         0.0         4.0   \n",
       "Price       19237.0  1.855593e+04  190581.269684         1.0      5331.0   \n",
       "\n",
       "                   50%         75%         max  \n",
       "ID          45772308.0  45802036.0  45816654.0  \n",
       "Prod. year      2012.0      2015.0      2020.0  \n",
       "Cylinders          4.0         4.0        16.0  \n",
       "Airbags            6.0        12.0        16.0  \n",
       "Price          13172.0     22075.0  26307500.0  "
      ]
     },
     "execution_count": 25,
     "metadata": {},
     "output_type": "execute_result"
    }
   ],
   "source": [
    "df.describe().transpose()"
   ]
  },
  {
   "cell_type": "code",
   "execution_count": 26,
   "metadata": {},
   "outputs": [
    {
     "data": {
      "text/plain": [
       "Petrol            10150\n",
       "Diesel             4036\n",
       "Hybrid             3578\n",
       "LPG                 892\n",
       "CNG                 494\n",
       "Plug-in Hybrid       86\n",
       "Hydrogen              1\n",
       "Name: Fuel type, dtype: int64"
      ]
     },
     "execution_count": 26,
     "metadata": {},
     "output_type": "execute_result"
    }
   ],
   "source": [
    "df2['Fuel type'].value_counts()"
   ]
  },
  {
   "cell_type": "code",
   "execution_count": 27,
   "metadata": {},
   "outputs": [
    {
     "data": {
      "text/plain": [
       "<AxesSubplot:xlabel='Airbags', ylabel='Price'>"
      ]
     },
     "execution_count": 27,
     "metadata": {},
     "output_type": "execute_result"
    },
    {
     "data": {
      "image/png": "[encoded data removed]",
      "text/plain": [
       "<Figure size 432x288 with 1 Axes>"
      ]
     },
     "metadata": {
      "needs_background": "light"
     },
     "output_type": "display_data"
    }
   ],
   "source": [
    "sns.scatterplot(data=df,x='Airbags',y='Price')"
   ]
  },
  {
   "cell_type": "code",
   "execution_count": 28,
   "metadata": {},
   "outputs": [],
   "source": [
    "index = df[df['Price'] > 600000].index"
   ]
  },
  {
   "cell_type": "code",
   "execution_count": 29,
   "metadata": {},
   "outputs": [
    {
     "data": {
      "text/plain": [
       "Int64Index([1225, 8541, 16983], dtype='int64')"
      ]
     },
     "execution_count": 29,
     "metadata": {},
     "output_type": "execute_result"
    }
   ],
   "source": [
    "index"
   ]
  },
  {
   "cell_type": "code",
   "execution_count": 30,
   "metadata": {},
   "outputs": [],
   "source": [
    "df.drop(index=index, axis=1,inplace=True)"
   ]
  },
  {
   "cell_type": "code",
   "execution_count": 31,
   "metadata": {},
   "outputs": [
    {
     "data": {
      "text/plain": [
       "ID                  0\n",
       "Levy                0\n",
       "Manufacturer        0\n",
       "Model               0\n",
       "Prod. year          0\n",
       "Category            0\n",
       "Leather interior    0\n",
       "Fuel type           0\n",
       "Engine volume       0\n",
       "Mileage             0\n",
       "Cylinders           0\n",
       "Gear box type       0\n",
       "Drive wheels        0\n",
       "Doors               0\n",
       "Wheel               0\n",
       "Color               0\n",
       "Airbags             0\n",
       "Price               0\n",
       "dtype: int64"
      ]
     },
     "execution_count": 31,
     "metadata": {},
     "output_type": "execute_result"
    }
   ],
   "source": [
    "df.isnull().sum()"
   ]
  },
  {
   "cell_type": "code",
   "execution_count": 32,
   "metadata": {},
   "outputs": [
    {
     "data": {
      "text/plain": [
       "<seaborn.axisgrid.FacetGrid at 0x2748af62eb0>"
      ]
     },
     "execution_count": 32,
     "metadata": {},
     "output_type": "execute_result"
    },
    {
     "data": {
      "image/png": "[encoded data removed]",
      "text/plain": [
       "<Figure size 360x360 with 1 Axes>"
      ]
     },
     "metadata": {
      "needs_background": "light"
     },
     "output_type": "display_data"
    }
   ],
   "source": [
    "sns.displot(df['Price'])"
   ]
  },
  {
   "cell_type": "code",
   "execution_count": 33,
   "metadata": {},
   "outputs": [],
   "source": [
    "from scipy import stats"
   ]
  },
  {
   "cell_type": "code",
   "execution_count": 34,
   "metadata": {},
   "outputs": [],
   "source": [
    "box = stats.boxcox(df['Price'])"
   ]
  },
  {
   "cell_type": "code",
   "execution_count": 35,
   "metadata": {},
   "outputs": [
    {
     "data": {
      "text/plain": [
       "<AxesSubplot:ylabel='Count'>"
      ]
     },
     "execution_count": 35,
     "metadata": {},
     "output_type": "execute_result"
    },
    {
     "data": {
      "image/png": "[encoded data removed]",
      "text/plain": [
       "<Figure size 432x288 with 1 Axes>"
      ]
     },
     "metadata": {
      "needs_background": "light"
     },
     "output_type": "display_data"
    }
   ],
   "source": [
    "sns.histplot(box)"
   ]
  },
  {
   "cell_type": "code",
   "execution_count": 36,
   "metadata": {},
   "outputs": [
    {
     "data": {
      "image/png": "[encoded data removed]",
      "text/plain": [
       "<Figure size 432x288 with 2 Axes>"
      ]
     },
     "metadata": {
      "needs_background": "light"
     },
     "output_type": "display_data"
    }
   ],
   "source": [
    "fig = plt.figure()\n",
    "ax1 = fig.add_subplot(211)\n",
    "x = stats.loggamma.rvs(5, size=500) + 5\n",
    "prob = stats.probplot(x, dist=stats.norm, plot=ax1)\n",
    "ax1.set_xlabel('')\n",
    "ax1.set_title('Probplot against normal distribution')\n",
    "\n",
    "# We now use `boxcox` to transform the data so it's closest to normal:\n",
    "\n",
    "ax2 = fig.add_subplot(212)\n",
    "xt, _ = stats.boxcox(x)\n",
    "prob = stats.probplot(xt, dist=stats.norm, plot=ax2)\n",
    "ax2.set_title('Probplot after Box-Cox transformation')\n",
    "\n",
    "plt.show()"
   ]
  },
  {
   "cell_type": "code",
   "execution_count": null,
   "metadata": {},
   "outputs": [],
   "source": []
  },
  {
   "cell_type": "code",
   "execution_count": null,
   "metadata": {},
   "outputs": [],
   "source": []
  },
  {
   "cell_type": "code",
   "execution_count": 37,
   "metadata": {},
   "outputs": [
    {
     "data": {
      "text/plain": [
       "<seaborn.axisgrid.FacetGrid at 0x2748b067550>"
      ]
     },
     "execution_count": 37,
     "metadata": {},
     "output_type": "execute_result"
    },
    {
     "data": {
      "image/png": "[encoded data removed]",
      "text/plain": [
       "<Figure size 402.375x360 with 1 Axes>"
      ]
     },
     "metadata": {
      "needs_background": "light"
     },
     "output_type": "display_data"
    }
   ],
   "source": [
    "sns.displot(box)"
   ]
  },
  {
   "cell_type": "code",
   "execution_count": null,
   "metadata": {},
   "outputs": [],
   "source": []
  },
  {
   "cell_type": "code",
   "execution_count": 38,
   "metadata": {},
   "outputs": [
    {
     "data": {
      "text/html": [
       "<div>\n",
       "<style scoped>\n",
       "    .dataframe tbody tr th:only-of-type {\n",
       "        vertical-align: middle;\n",
       "    }\n",
       "\n",
       "    .dataframe tbody tr th {\n",
       "        vertical-align: top;\n",
       "    }\n",
       "\n",
       "    .dataframe thead th {\n",
       "        text-align: right;\n",
       "    }\n",
       "</style>\n",
       "<table border=\"1\" class=\"dataframe\">\n",
       "  <thead>\n",
       "    <tr style=\"text-align: right;\">\n",
       "      <th></th>\n",
       "      <th>ID</th>\n",
       "      <th>Levy</th>\n",
       "      <th>Manufacturer</th>\n",
       "      <th>Model</th>\n",
       "      <th>Prod. year</th>\n",
       "      <th>Category</th>\n",
       "      <th>Leather interior</th>\n",
       "      <th>Fuel type</th>\n",
       "      <th>Engine volume</th>\n",
       "      <th>Mileage</th>\n",
       "      <th>Cylinders</th>\n",
       "      <th>Gear box type</th>\n",
       "      <th>Drive wheels</th>\n",
       "      <th>Doors</th>\n",
       "      <th>Wheel</th>\n",
       "      <th>Color</th>\n",
       "      <th>Airbags</th>\n",
       "      <th>Price</th>\n",
       "    </tr>\n",
       "  </thead>\n",
       "  <tbody>\n",
       "    <tr>\n",
       "      <th>5</th>\n",
       "      <td>45802912</td>\n",
       "      <td>891</td>\n",
       "      <td>HYUNDAI</td>\n",
       "      <td>Santa FE</td>\n",
       "      <td>2016</td>\n",
       "      <td>Jeep</td>\n",
       "      <td>Yes</td>\n",
       "      <td>Diesel</td>\n",
       "      <td>2</td>\n",
       "      <td>160931 km</td>\n",
       "      <td>4</td>\n",
       "      <td>Automatic</td>\n",
       "      <td>Front</td>\n",
       "      <td>4-May</td>\n",
       "      <td>Left wheel</td>\n",
       "      <td>White</td>\n",
       "      <td>4</td>\n",
       "      <td>39493</td>\n",
       "    </tr>\n",
       "    <tr>\n",
       "      <th>9</th>\n",
       "      <td>45756839</td>\n",
       "      <td>-</td>\n",
       "      <td>LEXUS</td>\n",
       "      <td>RX 350</td>\n",
       "      <td>2007</td>\n",
       "      <td>Jeep</td>\n",
       "      <td>Yes</td>\n",
       "      <td>Petrol</td>\n",
       "      <td>3.5</td>\n",
       "      <td>128500 km</td>\n",
       "      <td>6</td>\n",
       "      <td>Automatic</td>\n",
       "      <td>4x4</td>\n",
       "      <td>4-May</td>\n",
       "      <td>Left wheel</td>\n",
       "      <td>Silver</td>\n",
       "      <td>12</td>\n",
       "      <td>26657</td>\n",
       "    </tr>\n",
       "    <tr>\n",
       "      <th>14</th>\n",
       "      <td>45732604</td>\n",
       "      <td>891</td>\n",
       "      <td>HYUNDAI</td>\n",
       "      <td>Santa FE</td>\n",
       "      <td>2016</td>\n",
       "      <td>Jeep</td>\n",
       "      <td>Yes</td>\n",
       "      <td>Diesel</td>\n",
       "      <td>2</td>\n",
       "      <td>76000 km</td>\n",
       "      <td>4</td>\n",
       "      <td>Automatic</td>\n",
       "      <td>Front</td>\n",
       "      <td>4-May</td>\n",
       "      <td>Left wheel</td>\n",
       "      <td>White</td>\n",
       "      <td>4</td>\n",
       "      <td>59464</td>\n",
       "    </tr>\n",
       "    <tr>\n",
       "      <th>17</th>\n",
       "      <td>45797221</td>\n",
       "      <td>810</td>\n",
       "      <td>HYUNDAI</td>\n",
       "      <td>Elantra</td>\n",
       "      <td>2016</td>\n",
       "      <td>Sedan</td>\n",
       "      <td>Yes</td>\n",
       "      <td>Petrol</td>\n",
       "      <td>1.8</td>\n",
       "      <td>54317 km</td>\n",
       "      <td>4</td>\n",
       "      <td>Automatic</td>\n",
       "      <td>Front</td>\n",
       "      <td>4-May</td>\n",
       "      <td>Left wheel</td>\n",
       "      <td>White</td>\n",
       "      <td>4</td>\n",
       "      <td>28382</td>\n",
       "    </tr>\n",
       "    <tr>\n",
       "      <th>34</th>\n",
       "      <td>45542380</td>\n",
       "      <td>-</td>\n",
       "      <td>JEEP</td>\n",
       "      <td>Grand Cherokee</td>\n",
       "      <td>2007</td>\n",
       "      <td>Jeep</td>\n",
       "      <td>Yes</td>\n",
       "      <td>Diesel</td>\n",
       "      <td>3.0 Turbo</td>\n",
       "      <td>250000 km</td>\n",
       "      <td>6</td>\n",
       "      <td>Tiptronic</td>\n",
       "      <td>4x4</td>\n",
       "      <td>4-May</td>\n",
       "      <td>Left wheel</td>\n",
       "      <td>Black</td>\n",
       "      <td>10</td>\n",
       "      <td>24462</td>\n",
       "    </tr>\n",
       "    <tr>\n",
       "      <th>...</th>\n",
       "      <td>...</td>\n",
       "      <td>...</td>\n",
       "      <td>...</td>\n",
       "      <td>...</td>\n",
       "      <td>...</td>\n",
       "      <td>...</td>\n",
       "      <td>...</td>\n",
       "      <td>...</td>\n",
       "      <td>...</td>\n",
       "      <td>...</td>\n",
       "      <td>...</td>\n",
       "      <td>...</td>\n",
       "      <td>...</td>\n",
       "      <td>...</td>\n",
       "      <td>...</td>\n",
       "      <td>...</td>\n",
       "      <td>...</td>\n",
       "      <td>...</td>\n",
       "    </tr>\n",
       "    <tr>\n",
       "      <th>19211</th>\n",
       "      <td>45802856</td>\n",
       "      <td>891</td>\n",
       "      <td>HYUNDAI</td>\n",
       "      <td>Santa FE</td>\n",
       "      <td>2016</td>\n",
       "      <td>Jeep</td>\n",
       "      <td>Yes</td>\n",
       "      <td>Diesel</td>\n",
       "      <td>2</td>\n",
       "      <td>121902 km</td>\n",
       "      <td>4</td>\n",
       "      <td>Automatic</td>\n",
       "      <td>Front</td>\n",
       "      <td>4-May</td>\n",
       "      <td>Left wheel</td>\n",
       "      <td>Black</td>\n",
       "      <td>4</td>\n",
       "      <td>50037</td>\n",
       "    </tr>\n",
       "    <tr>\n",
       "      <th>19216</th>\n",
       "      <td>45784464</td>\n",
       "      <td>1249</td>\n",
       "      <td>TOYOTA</td>\n",
       "      <td>RAV 4</td>\n",
       "      <td>2017</td>\n",
       "      <td>Jeep</td>\n",
       "      <td>Yes</td>\n",
       "      <td>Petrol</td>\n",
       "      <td>2.5</td>\n",
       "      <td>23430 km</td>\n",
       "      <td>4</td>\n",
       "      <td>Tiptronic</td>\n",
       "      <td>Front</td>\n",
       "      <td>4-May</td>\n",
       "      <td>Left wheel</td>\n",
       "      <td>Beige</td>\n",
       "      <td>12</td>\n",
       "      <td>37633</td>\n",
       "    </tr>\n",
       "    <tr>\n",
       "      <th>19217</th>\n",
       "      <td>45804344</td>\n",
       "      <td>1624</td>\n",
       "      <td>LEXUS</td>\n",
       "      <td>ES 300</td>\n",
       "      <td>2009</td>\n",
       "      <td>Sedan</td>\n",
       "      <td>Yes</td>\n",
       "      <td>Petrol</td>\n",
       "      <td>3.5</td>\n",
       "      <td>132700 km</td>\n",
       "      <td>4</td>\n",
       "      <td>Automatic</td>\n",
       "      <td>Front</td>\n",
       "      <td>4-May</td>\n",
       "      <td>Left wheel</td>\n",
       "      <td>White</td>\n",
       "      <td>4</td>\n",
       "      <td>26017</td>\n",
       "    </tr>\n",
       "    <tr>\n",
       "      <th>19227</th>\n",
       "      <td>45769427</td>\n",
       "      <td>1053</td>\n",
       "      <td>MERCEDES-BENZ</td>\n",
       "      <td>E 350</td>\n",
       "      <td>2014</td>\n",
       "      <td>Sedan</td>\n",
       "      <td>Yes</td>\n",
       "      <td>Diesel</td>\n",
       "      <td>3.5</td>\n",
       "      <td>219030 km</td>\n",
       "      <td>6</td>\n",
       "      <td>Automatic</td>\n",
       "      <td>4x4</td>\n",
       "      <td>4-May</td>\n",
       "      <td>Left wheel</td>\n",
       "      <td>Black</td>\n",
       "      <td>12</td>\n",
       "      <td>29793</td>\n",
       "    </tr>\n",
       "    <tr>\n",
       "      <th>19234</th>\n",
       "      <td>45804997</td>\n",
       "      <td>836</td>\n",
       "      <td>HYUNDAI</td>\n",
       "      <td>Tucson</td>\n",
       "      <td>2010</td>\n",
       "      <td>Jeep</td>\n",
       "      <td>Yes</td>\n",
       "      <td>Diesel</td>\n",
       "      <td>2</td>\n",
       "      <td>116365 km</td>\n",
       "      <td>4</td>\n",
       "      <td>Automatic</td>\n",
       "      <td>Front</td>\n",
       "      <td>4-May</td>\n",
       "      <td>Left wheel</td>\n",
       "      <td>Grey</td>\n",
       "      <td>4</td>\n",
       "      <td>26108</td>\n",
       "    </tr>\n",
       "  </tbody>\n",
       "</table>\n",
       "<p>4809 rows × 18 columns</p>\n",
       "</div>"
      ],
      "text/plain": [
       "             ID  Levy   Manufacturer           Model  Prod. year Category  \\\n",
       "5      45802912   891        HYUNDAI        Santa FE        2016     Jeep   \n",
       "9      45756839     -          LEXUS          RX 350        2007     Jeep   \n",
       "14     45732604   891        HYUNDAI        Santa FE        2016     Jeep   \n",
       "17     45797221   810        HYUNDAI         Elantra        2016    Sedan   \n",
       "34     45542380     -           JEEP  Grand Cherokee        2007     Jeep   \n",
       "...         ...   ...            ...             ...         ...      ...   \n",
       "19211  45802856   891        HYUNDAI        Santa FE        2016     Jeep   \n",
       "19216  45784464  1249         TOYOTA           RAV 4        2017     Jeep   \n",
       "19217  45804344  1624          LEXUS          ES 300        2009    Sedan   \n",
       "19227  45769427  1053  MERCEDES-BENZ           E 350        2014    Sedan   \n",
       "19234  45804997   836        HYUNDAI          Tucson        2010     Jeep   \n",
       "\n",
       "      Leather interior Fuel type Engine volume    Mileage  Cylinders  \\\n",
       "5                  Yes    Diesel             2  160931 km          4   \n",
       "9                  Yes    Petrol           3.5  128500 km          6   \n",
       "14                 Yes    Diesel             2   76000 km          4   \n",
       "17                 Yes    Petrol           1.8   54317 km          4   \n",
       "34                 Yes    Diesel     3.0 Turbo  250000 km          6   \n",
       "...                ...       ...           ...        ...        ...   \n",
       "19211              Yes    Diesel             2  121902 km          4   \n",
       "19216              Yes    Petrol           2.5   23430 km          4   \n",
       "19217              Yes    Petrol           3.5  132700 km          4   \n",
       "19227              Yes    Diesel           3.5  219030 km          6   \n",
       "19234              Yes    Diesel             2  116365 km          4   \n",
       "\n",
       "      Gear box type Drive wheels  Doors       Wheel   Color  Airbags  Price  \n",
       "5         Automatic        Front  4-May  Left wheel   White        4  39493  \n",
       "9         Automatic          4x4  4-May  Left wheel  Silver       12  26657  \n",
       "14        Automatic        Front  4-May  Left wheel   White        4  59464  \n",
       "17        Automatic        Front  4-May  Left wheel   White        4  28382  \n",
       "34        Tiptronic          4x4  4-May  Left wheel   Black       10  24462  \n",
       "...             ...          ...    ...         ...     ...      ...    ...  \n",
       "19211     Automatic        Front  4-May  Left wheel   Black        4  50037  \n",
       "19216     Tiptronic        Front  4-May  Left wheel   Beige       12  37633  \n",
       "19217     Automatic        Front  4-May  Left wheel   White        4  26017  \n",
       "19227     Automatic          4x4  4-May  Left wheel   Black       12  29793  \n",
       "19234     Automatic        Front  4-May  Left wheel    Grey        4  26108  \n",
       "\n",
       "[4809 rows x 18 columns]"
      ]
     },
     "execution_count": 38,
     "metadata": {},
     "output_type": "execute_result"
    }
   ],
   "source": [
    "df2[df2['Price']>22075]"
   ]
  },
  {
   "cell_type": "code",
   "execution_count": 39,
   "metadata": {},
   "outputs": [
    {
     "data": {
      "text/plain": [
       "-1.3757413681328308"
      ]
     },
     "execution_count": 39,
     "metadata": {},
     "output_type": "execute_result"
    }
   ],
   "source": [
    "log = np.log1p(df2['Price'])\n",
    "log.skew()"
   ]
  },
  {
   "cell_type": "code",
   "execution_count": 40,
   "metadata": {},
   "outputs": [
    {
     "data": {
      "text/plain": [
       "-1.391557339534271"
      ]
     },
     "execution_count": 40,
     "metadata": {},
     "output_type": "execute_result"
    }
   ],
   "source": [
    "log = np.log(df2['Price'])\n",
    "log.skew()"
   ]
  },
  {
   "cell_type": "code",
   "execution_count": 41,
   "metadata": {},
   "outputs": [
    {
     "data": {
      "text/plain": [
       "-0.007600931322003111"
      ]
     },
     "execution_count": 41,
     "metadata": {},
     "output_type": "execute_result"
    }
   ],
   "source": [
    "log = np.sqrt(np.sqrt(df2['Price']))\n",
    "log.skew()"
   ]
  },
  {
   "cell_type": "code",
   "execution_count": 42,
   "metadata": {},
   "outputs": [
    {
     "data": {
      "text/plain": [
       "<AxesSubplot:xlabel='Price', ylabel='Count'>"
      ]
     },
     "execution_count": 42,
     "metadata": {},
     "output_type": "execute_result"
    },
    {
     "data": {
      "image/png": "[encoded data removed]",
      "text/plain": [
       "<Figure size 432x288 with 1 Axes>"
      ]
     },
     "metadata": {
      "needs_background": "light"
     },
     "output_type": "display_data"
    }
   ],
   "source": [
    "sns.histplot(np.sqrt(np.sqrt(df2['Price'])))"
   ]
  },
  {
   "cell_type": "code",
   "execution_count": null,
   "metadata": {},
   "outputs": [],
   "source": []
  },
  {
   "cell_type": "code",
   "execution_count": 43,
   "metadata": {},
   "outputs": [],
   "source": [
    "sample = df2['Price']"
   ]
  },
  {
   "cell_type": "code",
   "execution_count": 44,
   "metadata": {},
   "outputs": [
    {
     "data": {
      "text/plain": [
       "count    1.923700e+04\n",
       "mean     1.855593e+04\n",
       "std      1.905813e+05\n",
       "min      1.000000e+00\n",
       "25%      5.331000e+03\n",
       "50%      1.317200e+04\n",
       "75%      2.207500e+04\n",
       "max      2.630750e+07\n",
       "Name: Price, dtype: float64"
      ]
     },
     "execution_count": 44,
     "metadata": {},
     "output_type": "execute_result"
    }
   ],
   "source": [
    "sample.describe()"
   ]
  },
  {
   "cell_type": "code",
   "execution_count": 45,
   "metadata": {},
   "outputs": [],
   "source": [
    "IQR = 22075-5331\n",
    "lower_limit = 1.5*IQR - 5331\n",
    "upper_limit = 22075 - 1.5*IQR"
   ]
  },
  {
   "cell_type": "code",
   "execution_count": 46,
   "metadata": {},
   "outputs": [
    {
     "data": {
      "text/plain": [
       "19785.0"
      ]
     },
     "execution_count": 46,
     "metadata": {},
     "output_type": "execute_result"
    }
   ],
   "source": [
    "lower_limit"
   ]
  },
  {
   "cell_type": "code",
   "execution_count": 47,
   "metadata": {},
   "outputs": [
    {
     "data": {
      "text/plain": [
       "-3041.0"
      ]
     },
     "execution_count": 47,
     "metadata": {},
     "output_type": "execute_result"
    }
   ],
   "source": [
    "upper_limit"
   ]
  },
  {
   "cell_type": "code",
   "execution_count": 48,
   "metadata": {},
   "outputs": [
    {
     "data": {
      "text/plain": [
       "array([22075.,  5331.])"
      ]
     },
     "execution_count": 48,
     "metadata": {},
     "output_type": "execute_result"
    }
   ],
   "source": [
    "np.percentile(sample,[75,25])"
   ]
  },
  {
   "cell_type": "code",
   "execution_count": 49,
   "metadata": {},
   "outputs": [
    {
     "data": {
      "text/plain": [
       "Airbags      -0.012824\n",
       "ID           -0.000844\n",
       "Cylinders     0.007518\n",
       "Prod. year    0.012982\n",
       "Price         1.000000\n",
       "Name: Price, dtype: float64"
      ]
     },
     "execution_count": 49,
     "metadata": {},
     "output_type": "execute_result"
    }
   ],
   "source": [
    "df2.corr()['Price'].sort_values()"
   ]
  },
  {
   "cell_type": "code",
   "execution_count": null,
   "metadata": {},
   "outputs": [],
   "source": []
  },
  {
   "cell_type": "code",
   "execution_count": 50,
   "metadata": {},
   "outputs": [
    {
     "name": "stderr",
     "output_type": "stream",
     "text": [
      "C:\\Users\\akumar5\\AppData\\Local\\Anaconda\\lib\\site-packages\\seaborn\\_decorators.py:36: FutureWarning: Pass the following variable as a keyword arg: x. From version 0.12, the only valid positional argument will be `data`, and passing other arguments without an explicit keyword will result in an error or misinterpretation.\n",
      "  warnings.warn(\n"
     ]
    },
    {
     "data": {
      "text/plain": [
       "<AxesSubplot:xlabel='Price'>"
      ]
     },
     "execution_count": 50,
     "metadata": {},
     "output_type": "execute_result"
    },
    {
     "data": {
      "image/png": "[encoded data removed]",
      "text/plain": [
       "<Figure size 432x288 with 1 Axes>"
      ]
     },
     "metadata": {
      "needs_background": "light"
     },
     "output_type": "display_data"
    }
   ],
   "source": [
    "sns.boxplot(sample)"
   ]
  },
  {
   "cell_type": "code",
   "execution_count": 51,
   "metadata": {},
   "outputs": [
    {
     "name": "stderr",
     "output_type": "stream",
     "text": [
      "C:\\Users\\akumar5\\AppData\\Local\\Anaconda\\lib\\site-packages\\seaborn\\distributions.py:2551: FutureWarning: `distplot` is a deprecated function and will be removed in a future version. Please adapt your code to use either `displot` (a figure-level function with similar flexibility) or `histplot` (an axes-level function for histograms).\n",
      "  warnings.warn(msg, FutureWarning)\n"
     ]
    },
    {
     "data": {
      "text/plain": [
       "<AxesSubplot:xlabel='Price', ylabel='Density'>"
      ]
     },
     "execution_count": 51,
     "metadata": {},
     "output_type": "execute_result"
    },
    {
     "data": {
      "image/png": "[encoded data removed]",
      "text/plain": [
       "<Figure size 432x288 with 1 Axes>"
      ]
     },
     "metadata": {
      "needs_background": "light"
     },
     "output_type": "display_data"
    }
   ],
   "source": [
    "sns.distplot(np.cbrt(df['Price']))"
   ]
  },
  {
   "cell_type": "code",
   "execution_count": null,
   "metadata": {},
   "outputs": [],
   "source": []
  },
  {
   "cell_type": "code",
   "execution_count": 52,
   "metadata": {},
   "outputs": [
    {
     "data": {
      "text/plain": [
       "<AxesSubplot:>"
      ]
     },
     "execution_count": 52,
     "metadata": {},
     "output_type": "execute_result"
    },
    {
     "data": {
      "image/png": "[encoded data removed]",
      "text/plain": [
       "<Figure size 432x288 with 1 Axes>"
      ]
     },
     "metadata": {
      "needs_background": "light"
     },
     "output_type": "display_data"
    }
   ],
   "source": [
    "df2['Price'].hist()"
   ]
  },
  {
   "cell_type": "code",
   "execution_count": null,
   "metadata": {},
   "outputs": [],
   "source": []
  },
  {
   "cell_type": "code",
   "execution_count": 53,
   "metadata": {},
   "outputs": [
    {
     "data": {
      "text/plain": [
       "Prius                 1083\n",
       "Sonata                1079\n",
       "Camry                  938\n",
       "Elantra                922\n",
       "E 350                  542\n",
       "                      ... \n",
       "Explorer XLT             1\n",
       "CX-5 Touring             1\n",
       "RIO lx                   1\n",
       "Highlander limited       1\n",
       "Fusion 2015              1\n",
       "Name: Model, Length: 1588, dtype: int64"
      ]
     },
     "execution_count": 53,
     "metadata": {},
     "output_type": "execute_result"
    }
   ],
   "source": [
    "df['Model'].value_counts()"
   ]
  },
  {
   "cell_type": "code",
   "execution_count": 54,
   "metadata": {},
   "outputs": [],
   "source": [
    "# df['Model1'] = df['Model'].replace(regex=True, to_replace=r'', value=r'')"
   ]
  },
  {
   "cell_type": "code",
   "execution_count": 55,
   "metadata": {},
   "outputs": [],
   "source": [
    "# df['Model1'] = df['Model'].str.split()[:-1]"
   ]
  },
  {
   "cell_type": "code",
   "execution_count": 56,
   "metadata": {},
   "outputs": [],
   "source": [
    "# a = df['Model1'].iloc[305].split()[:-1]"
   ]
  },
  {
   "cell_type": "code",
   "execution_count": 57,
   "metadata": {},
   "outputs": [],
   "source": [
    "# ''.join(a)"
   ]
  },
  {
   "cell_type": "code",
   "execution_count": 58,
   "metadata": {},
   "outputs": [
    {
     "data": {
      "text/plain": [
       "15681    280\n",
       "470      274\n",
       "14113    244\n",
       "392      242\n",
       "314      235\n",
       "        ... \n",
       "14686      1\n",
       "12639      1\n",
       "18800      1\n",
       "16753      1\n",
       "16408      1\n",
       "Name: Price, Length: 2312, dtype: int64"
      ]
     },
     "execution_count": 58,
     "metadata": {},
     "output_type": "execute_result"
    }
   ],
   "source": [
    "df['Price'].value_counts()"
   ]
  },
  {
   "cell_type": "code",
   "execution_count": 59,
   "metadata": {},
   "outputs": [],
   "source": [
    "index2 = df[df['Price'] <10].index"
   ]
  },
  {
   "cell_type": "code",
   "execution_count": 60,
   "metadata": {},
   "outputs": [
    {
     "data": {
      "text/plain": [
       "Int64Index([  221,   476,   753,  1164,  4776,  4958,  5344,  5890,  7276,\n",
       "             7359,  7815,  8454,  8993,  9730, 10885, 11636, 12917, 13419,\n",
       "            14492, 14642, 15347, 16992, 17596, 18575],\n",
       "           dtype='int64')"
      ]
     },
     "execution_count": 60,
     "metadata": {},
     "output_type": "execute_result"
    }
   ],
   "source": [
    "index2"
   ]
  },
  {
   "cell_type": "code",
   "execution_count": 61,
   "metadata": {},
   "outputs": [],
   "source": [
    "df.drop(index=index2,axis=1,inplace=True)"
   ]
  },
  {
   "cell_type": "code",
   "execution_count": 62,
   "metadata": {},
   "outputs": [],
   "source": [
    "df.drop('ID', axis=1, inplace=True)\n",
    "\n",
    "test.drop('ID', axis=1, inplace=True)"
   ]
  },
  {
   "cell_type": "code",
   "execution_count": 63,
   "metadata": {},
   "outputs": [],
   "source": [
    "df['Levy'] = df['Levy'].replace('-', 0)\n",
    "\n",
    "test['Levy'] = test['Levy'].replace('-', 0)"
   ]
  },
  {
   "cell_type": "code",
   "execution_count": 64,
   "metadata": {},
   "outputs": [],
   "source": [
    "df['Levy'] = df['Levy'].apply(lambda x: int(x))\n",
    "\n",
    "test['Levy'] = test['Levy'].apply(lambda x: int(x))"
   ]
  },
  {
   "cell_type": "code",
   "execution_count": 65,
   "metadata": {},
   "outputs": [
    {
     "data": {
      "text/plain": [
       "count    19210.000000\n",
       "mean       632.915877\n",
       "std        567.668348\n",
       "min          0.000000\n",
       "25%          0.000000\n",
       "50%        642.000000\n",
       "75%        917.000000\n",
       "max      11714.000000\n",
       "Name: Levy, dtype: float64"
      ]
     },
     "execution_count": 65,
     "metadata": {},
     "output_type": "execute_result"
    }
   ],
   "source": [
    "df['Levy'].describe()"
   ]
  },
  {
   "cell_type": "code",
   "execution_count": 66,
   "metadata": {},
   "outputs": [],
   "source": [
    "def levy(num):\n",
    "    if num ==0:\n",
    "        num = 632\n",
    "    else:\n",
    "        pass\n",
    "    return num"
   ]
  },
  {
   "cell_type": "code",
   "execution_count": 67,
   "metadata": {},
   "outputs": [],
   "source": [
    "# df['Levy'] = df['Levy'].apply(levy)\n",
    "\n",
    "# test['Levy'] = test['Levy'].apply(levy)"
   ]
  },
  {
   "cell_type": "code",
   "execution_count": 68,
   "metadata": {},
   "outputs": [
    {
     "data": {
      "text/plain": [
       "Levy          0.039905\n",
       "Prod. year    0.286397\n",
       "Cylinders     0.103148\n",
       "Airbags      -0.018314\n",
       "Price         1.000000\n",
       "Name: Price, dtype: float64"
      ]
     },
     "execution_count": 68,
     "metadata": {},
     "output_type": "execute_result"
    }
   ],
   "source": [
    "df.corr()['Price']"
   ]
  },
  {
   "cell_type": "code",
   "execution_count": 69,
   "metadata": {},
   "outputs": [],
   "source": [
    "def turbo_engine(text):\n",
    "    if re.findall(r'\\d{1,}.\\d{1,} Turbo', text):\n",
    "        text = 5\n",
    "    else:\n",
    "        text = 0\n",
    "    return text"
   ]
  },
  {
   "cell_type": "code",
   "execution_count": 70,
   "metadata": {},
   "outputs": [],
   "source": [
    "df['Turbo'] = df['Engine volume'].apply(turbo_engine)\n",
    "\n",
    "test['Turbo'] = test['Engine volume'].apply(turbo_engine)"
   ]
  },
  {
   "cell_type": "code",
   "execution_count": 71,
   "metadata": {},
   "outputs": [],
   "source": [
    "def engine_volume(text):\n",
    "    if re.findall(r'\\d{1,}.\\d{1,} Turbo', text):\n",
    "        text = text.replace('Turbo',  '')\n",
    "    else:\n",
    "        pass\n",
    "    return float(text)"
   ]
  },
  {
   "cell_type": "code",
   "execution_count": 72,
   "metadata": {},
   "outputs": [],
   "source": [
    "df['Engine volume'] = df['Engine volume'].apply(engine_volume)\n",
    "\n",
    "test['Engine volume'] = test['Engine volume'].apply(engine_volume)"
   ]
  },
  {
   "cell_type": "code",
   "execution_count": 73,
   "metadata": {},
   "outputs": [],
   "source": [
    "def mileage(text):\n",
    "    if re.findall(r'\\d{1,} km', text):\n",
    "        text = text.replace(' km',  '')\n",
    "    else:\n",
    "        None\n",
    "    return int(text)"
   ]
  },
  {
   "cell_type": "code",
   "execution_count": 74,
   "metadata": {},
   "outputs": [],
   "source": [
    "df['Mileage'] = df['Mileage'].apply(mileage)\n",
    "\n",
    "test['Mileage'] = test['Mileage'].apply(mileage)"
   ]
  },
  {
   "cell_type": "code",
   "execution_count": 75,
   "metadata": {},
   "outputs": [],
   "source": [
    "def doors(text):\n",
    "    if text == '>5':\n",
    "        text = 22475\n",
    "    elif text == '2-Mar':\n",
    "        text = 16585\n",
    "    else:\n",
    "        text = 17120\n",
    "    return int(text)\n",
    "    "
   ]
  },
  {
   "cell_type": "code",
   "execution_count": 76,
   "metadata": {},
   "outputs": [],
   "source": [
    "df['No. of doors'] = df['Doors'].apply(doors)\n",
    "\n",
    "test['No. of doors'] = test['Doors'].apply(doors)"
   ]
  },
  {
   "cell_type": "code",
   "execution_count": 77,
   "metadata": {},
   "outputs": [
    {
     "data": {
      "text/html": [
       "<div>\n",
       "<style scoped>\n",
       "    .dataframe tbody tr th:only-of-type {\n",
       "        vertical-align: middle;\n",
       "    }\n",
       "\n",
       "    .dataframe tbody tr th {\n",
       "        vertical-align: top;\n",
       "    }\n",
       "\n",
       "    .dataframe thead th {\n",
       "        text-align: right;\n",
       "    }\n",
       "</style>\n",
       "<table border=\"1\" class=\"dataframe\">\n",
       "  <thead>\n",
       "    <tr style=\"text-align: right;\">\n",
       "      <th></th>\n",
       "      <th>Levy</th>\n",
       "      <th>Prod. year</th>\n",
       "      <th>Engine volume</th>\n",
       "      <th>Mileage</th>\n",
       "      <th>Cylinders</th>\n",
       "      <th>Airbags</th>\n",
       "      <th>Price</th>\n",
       "      <th>Turbo</th>\n",
       "      <th>No. of doors</th>\n",
       "    </tr>\n",
       "    <tr>\n",
       "      <th>Fuel type</th>\n",
       "      <th></th>\n",
       "      <th></th>\n",
       "      <th></th>\n",
       "      <th></th>\n",
       "      <th></th>\n",
       "      <th></th>\n",
       "      <th></th>\n",
       "      <th></th>\n",
       "      <th></th>\n",
       "    </tr>\n",
       "  </thead>\n",
       "  <tbody>\n",
       "    <tr>\n",
       "      <th>Diesel</th>\n",
       "      <td>746.407536</td>\n",
       "      <td>2010.964056</td>\n",
       "      <td>2.386118</td>\n",
       "      <td>7.119253e+05</td>\n",
       "      <td>4.539167</td>\n",
       "      <td>5.424145</td>\n",
       "      <td>24124.814328</td>\n",
       "      <td>1.062221</td>\n",
       "      <td>17142.325235</td>\n",
       "    </tr>\n",
       "    <tr>\n",
       "      <th>Plug-in Hybrid</th>\n",
       "      <td>215.697674</td>\n",
       "      <td>2013.093023</td>\n",
       "      <td>1.654651</td>\n",
       "      <td>1.219321e+05</td>\n",
       "      <td>4.093023</td>\n",
       "      <td>9.209302</td>\n",
       "      <td>23700.453488</td>\n",
       "      <td>0.174419</td>\n",
       "      <td>17120.000000</td>\n",
       "    </tr>\n",
       "    <tr>\n",
       "      <th>Hydrogen</th>\n",
       "      <td>0.000000</td>\n",
       "      <td>2012.000000</td>\n",
       "      <td>2.400000</td>\n",
       "      <td>1.168000e+05</td>\n",
       "      <td>6.000000</td>\n",
       "      <td>8.000000</td>\n",
       "      <td>20385.000000</td>\n",
       "      <td>0.000000</td>\n",
       "      <td>17120.000000</td>\n",
       "    </tr>\n",
       "    <tr>\n",
       "      <th>Petrol</th>\n",
       "      <td>645.365225</td>\n",
       "      <td>2010.859992</td>\n",
       "      <td>2.361700</td>\n",
       "      <td>1.133099e+06</td>\n",
       "      <td>4.717812</td>\n",
       "      <td>6.857326</td>\n",
       "      <td>17266.970873</td>\n",
       "      <td>0.500099</td>\n",
       "      <td>17125.472946</td>\n",
       "    </tr>\n",
       "    <tr>\n",
       "      <th>LPG</th>\n",
       "      <td>587.946128</td>\n",
       "      <td>2012.007856</td>\n",
       "      <td>2.234456</td>\n",
       "      <td>2.722804e+05</td>\n",
       "      <td>4.344557</td>\n",
       "      <td>4.639731</td>\n",
       "      <td>13324.372615</td>\n",
       "      <td>0.067340</td>\n",
       "      <td>17151.857464</td>\n",
       "    </tr>\n",
       "    <tr>\n",
       "      <th>Hybrid</th>\n",
       "      <td>567.781381</td>\n",
       "      <td>2012.183953</td>\n",
       "      <td>2.079815</td>\n",
       "      <td>4.718248e+05</td>\n",
       "      <td>4.272854</td>\n",
       "      <td>7.783338</td>\n",
       "      <td>10852.351132</td>\n",
       "      <td>0.036343</td>\n",
       "      <td>17132.426614</td>\n",
       "    </tr>\n",
       "    <tr>\n",
       "      <th>CNG</th>\n",
       "      <td>76.436105</td>\n",
       "      <td>2000.081136</td>\n",
       "      <td>2.481542</td>\n",
       "      <td>2.238497e+07</td>\n",
       "      <td>4.920892</td>\n",
       "      <td>4.780933</td>\n",
       "      <td>8526.839757</td>\n",
       "      <td>0.152130</td>\n",
       "      <td>17216.693712</td>\n",
       "    </tr>\n",
       "  </tbody>\n",
       "</table>\n",
       "</div>"
      ],
      "text/plain": [
       "                      Levy   Prod. year  Engine volume       Mileage  \\\n",
       "Fuel type                                                              \n",
       "Diesel          746.407536  2010.964056       2.386118  7.119253e+05   \n",
       "Plug-in Hybrid  215.697674  2013.093023       1.654651  1.219321e+05   \n",
       "Hydrogen          0.000000  2012.000000       2.400000  1.168000e+05   \n",
       "Petrol          645.365225  2010.859992       2.361700  1.133099e+06   \n",
       "LPG             587.946128  2012.007856       2.234456  2.722804e+05   \n",
       "Hybrid          567.781381  2012.183953       2.079815  4.718248e+05   \n",
       "CNG              76.436105  2000.081136       2.481542  2.238497e+07   \n",
       "\n",
       "                Cylinders   Airbags         Price     Turbo  No. of doors  \n",
       "Fuel type                                                                  \n",
       "Diesel           4.539167  5.424145  24124.814328  1.062221  17142.325235  \n",
       "Plug-in Hybrid   4.093023  9.209302  23700.453488  0.174419  17120.000000  \n",
       "Hydrogen         6.000000  8.000000  20385.000000  0.000000  17120.000000  \n",
       "Petrol           4.717812  6.857326  17266.970873  0.500099  17125.472946  \n",
       "LPG              4.344557  4.639731  13324.372615  0.067340  17151.857464  \n",
       "Hybrid           4.272854  7.783338  10852.351132  0.036343  17132.426614  \n",
       "CNG              4.920892  4.780933   8526.839757  0.152130  17216.693712  "
      ]
     },
     "execution_count": 77,
     "metadata": {},
     "output_type": "execute_result"
    }
   ],
   "source": [
    "df.groupby('Fuel type').mean().sort_values('Price',ascending=False)"
   ]
  },
  {
   "cell_type": "code",
   "execution_count": 78,
   "metadata": {},
   "outputs": [
    {
     "data": {
      "text/plain": [
       "0          -\n",
       "1          -\n",
       "2          -\n",
       "3        975\n",
       "4          -\n",
       "        ... \n",
       "8240    1357\n",
       "8241       -\n",
       "8242    1646\n",
       "8243     784\n",
       "8244     448\n",
       "Name: Levy, Length: 8245, dtype: object"
      ]
     },
     "execution_count": 78,
     "metadata": {},
     "output_type": "execute_result"
    }
   ],
   "source": [
    "test2['Levy']"
   ]
  },
  {
   "cell_type": "code",
   "execution_count": 79,
   "metadata": {},
   "outputs": [
    {
     "name": "stdout",
     "output_type": "stream",
     "text": [
      "<class 'pandas.core.frame.DataFrame'>\n",
      "Int64Index: 19210 entries, 0 to 19236\n",
      "Data columns (total 19 columns):\n",
      " #   Column            Non-Null Count  Dtype  \n",
      "---  ------            --------------  -----  \n",
      " 0   Levy              19210 non-null  int64  \n",
      " 1   Manufacturer      19210 non-null  object \n",
      " 2   Model             19210 non-null  object \n",
      " 3   Prod. year        19210 non-null  int64  \n",
      " 4   Category          19210 non-null  object \n",
      " 5   Leather interior  19210 non-null  object \n",
      " 6   Fuel type         19210 non-null  object \n",
      " 7   Engine volume     19210 non-null  float64\n",
      " 8   Mileage           19210 non-null  int64  \n",
      " 9   Cylinders         19210 non-null  int64  \n",
      " 10  Gear box type     19210 non-null  object \n",
      " 11  Drive wheels      19210 non-null  object \n",
      " 12  Doors             19210 non-null  object \n",
      " 13  Wheel             19210 non-null  object \n",
      " 14  Color             19210 non-null  object \n",
      " 15  Airbags           19210 non-null  int64  \n",
      " 16  Price             19210 non-null  int64  \n",
      " 17  Turbo             19210 non-null  int64  \n",
      " 18  No. of doors      19210 non-null  int64  \n",
      "dtypes: float64(1), int64(8), object(10)\n",
      "memory usage: 2.9+ MB\n"
     ]
    }
   ],
   "source": [
    "df.info()"
   ]
  },
  {
   "cell_type": "code",
   "execution_count": 80,
   "metadata": {},
   "outputs": [],
   "source": [
    "# df['Leather'] = df['Leather interior'].apply(lambda x: 5 if x == 'Yes' else -1)\n",
    "\n",
    "# test['Leather'] = test['Leather interior'].apply(lambda x: 5 if x == 'Yes' else -1)"
   ]
  },
  {
   "cell_type": "code",
   "execution_count": 81,
   "metadata": {},
   "outputs": [],
   "source": [
    "# df.drop('Leather interior',axis=1,inplace=True)\n",
    "\n",
    "# test.drop('Leather interior',axis=1,inplace=True)"
   ]
  },
  {
   "cell_type": "code",
   "execution_count": 82,
   "metadata": {},
   "outputs": [],
   "source": [
    "# df.drop('Doors', axis=1, inplace=True)\n",
    "\n",
    "# test.drop('Doors', axis=1, inplace=True)"
   ]
  },
  {
   "cell_type": "code",
   "execution_count": 83,
   "metadata": {},
   "outputs": [],
   "source": [
    "# df.drop('Manufacturer', axis=1, inplace=True)\n",
    "\n",
    "# test.drop('Manufacturer', axis=1, inplace=True)"
   ]
  },
  {
   "cell_type": "code",
   "execution_count": 84,
   "metadata": {},
   "outputs": [],
   "source": [
    "# df.drop('Model', axis=1, inplace=True)\n",
    "\n",
    "# test.drop('Model', axis=1, inplace=True)"
   ]
  },
  {
   "cell_type": "code",
   "execution_count": 85,
   "metadata": {},
   "outputs": [
    {
     "name": "stdout",
     "output_type": "stream",
     "text": [
      "<class 'pandas.core.frame.DataFrame'>\n",
      "Int64Index: 19210 entries, 0 to 19236\n",
      "Data columns (total 19 columns):\n",
      " #   Column            Non-Null Count  Dtype  \n",
      "---  ------            --------------  -----  \n",
      " 0   Levy              19210 non-null  int64  \n",
      " 1   Manufacturer      19210 non-null  object \n",
      " 2   Model             19210 non-null  object \n",
      " 3   Prod. year        19210 non-null  int64  \n",
      " 4   Category          19210 non-null  object \n",
      " 5   Leather interior  19210 non-null  object \n",
      " 6   Fuel type         19210 non-null  object \n",
      " 7   Engine volume     19210 non-null  float64\n",
      " 8   Mileage           19210 non-null  int64  \n",
      " 9   Cylinders         19210 non-null  int64  \n",
      " 10  Gear box type     19210 non-null  object \n",
      " 11  Drive wheels      19210 non-null  object \n",
      " 12  Doors             19210 non-null  object \n",
      " 13  Wheel             19210 non-null  object \n",
      " 14  Color             19210 non-null  object \n",
      " 15  Airbags           19210 non-null  int64  \n",
      " 16  Price             19210 non-null  int64  \n",
      " 17  Turbo             19210 non-null  int64  \n",
      " 18  No. of doors      19210 non-null  int64  \n",
      "dtypes: float64(1), int64(8), object(10)\n",
      "memory usage: 2.9+ MB\n"
     ]
    }
   ],
   "source": [
    "df.info()"
   ]
  },
  {
   "cell_type": "code",
   "execution_count": 86,
   "metadata": {},
   "outputs": [],
   "source": [
    "price = df['Price']\n",
    "df = df.drop('Price',axis=1)\n",
    "df['label'] = 1\n",
    "test['label'] = 2\n",
    "\n",
    "concat_df_test = pd.concat([df , test])\n",
    "df_objects = concat_df_test.select_dtypes(include='object')\n",
    "df_numeric = concat_df_test.select_dtypes(exclude='object')\n",
    "\n",
    "# Create your dummies\n",
    "df_obj_dummies = pd.get_dummies(df_objects, drop_first=True)\n",
    "features_df = pd.concat([df_obj_dummies, df_numeric], axis=1)\n",
    "\n",
    "# Split your data\n",
    "df = features_df[features_df['label'] == 1]\n",
    "test = features_df[features_df['label'] == 2]\n",
    "\n",
    "# Drop your labels\n",
    "df = df.drop('label', axis=1)\n",
    "df = pd.concat([df,price],axis=1)\n",
    "test = test.drop('label', axis=1)"
   ]
  },
  {
   "cell_type": "code",
   "execution_count": 87,
   "metadata": {},
   "outputs": [],
   "source": [
    "lst1 = [x for x in df.columns.tolist() if 'Model_' in x]\n",
    "        \n",
    "lst2 = ['Model'+str(x) for x in range(len(lst1))]\n",
    "\n",
    "d = dict(zip(lst1, lst2))\n",
    "\n",
    "df.rename(columns=d, inplace=True)\n",
    "test.rename(columns=d, inplace=True)"
   ]
  },
  {
   "cell_type": "code",
   "execution_count": 218,
   "metadata": {},
   "outputs": [],
   "source": [
    "# df_uint = df.select_dtypes(include='uint8')\n",
    "# df_int64 = df.select_dtypes(include='int64')\n",
    "# df_int64 = df_int64.astype(np.int16)\n",
    "# df = pd.concat([df_int64, df_uint], axis=1)\n",
    "\n",
    "# test_uint = test.select_dtypes(include='uint8')\n",
    "# test_int64 = test.select_dtypes(include='int64')\n",
    "# test_int64 = test_int64.astype(np.int16)\n",
    "# test = pd.concat([test_int64, test_uint], axis=1)"
   ]
  },
  {
   "cell_type": "code",
   "execution_count": 219,
   "metadata": {},
   "outputs": [],
   "source": [
    "X = df.drop('Price',axis=1)\n",
    "y = df['Price']"
   ]
  },
  {
   "cell_type": "code",
   "execution_count": 220,
   "metadata": {},
   "outputs": [],
   "source": [
    "from sklearn.model_selection import train_test_split"
   ]
  },
  {
   "cell_type": "code",
   "execution_count": 221,
   "metadata": {},
   "outputs": [],
   "source": [
    "X_train, X_test, y_train, y_test = train_test_split(X, y, test_size=0.25, random_state=42)"
   ]
  },
  {
   "cell_type": "code",
   "execution_count": 222,
   "metadata": {},
   "outputs": [],
   "source": [
    "from sklearn.preprocessing import MinMaxScaler"
   ]
  },
  {
   "cell_type": "code",
   "execution_count": 223,
   "metadata": {},
   "outputs": [],
   "source": [
    "scaler = MinMaxScaler()"
   ]
  },
  {
   "cell_type": "code",
   "execution_count": 224,
   "metadata": {},
   "outputs": [],
   "source": [
    "# X_train = scaler.fit_transform(X_train)\n",
    "# X_test = scaler.transform(X_test)\n",
    "\n",
    "# test = scaler.transform(test)"
   ]
  },
  {
   "cell_type": "code",
   "execution_count": 225,
   "metadata": {},
   "outputs": [],
   "source": [
    "from sklearn.pipeline import Pipeline\n",
    "from catboost import CatBoostRegressor\n",
    "import xgboost as xgb\n",
    "import lightgbm as lgb\n",
    "from sklearn.ensemble import RandomForestRegressor\n",
    "from sklearn.ensemble import AdaBoostRegressor, BaggingRegressor, ExtraTreesRegressor, GradientBoostingRegressor, StackingRegressor, VotingRegressor\n",
    "from sklearn.metrics import mean_absolute_error, mean_squared_error, mean_squared_log_error"
   ]
  },
  {
   "cell_type": "code",
   "execution_count": 226,
   "metadata": {},
   "outputs": [],
   "source": [
    "def run_model(model, X_train, y_train, X_test, y_test):\n",
    "    \n",
    "    # Fit Model Training\n",
    "    log_y_train = np.log1p(y_train)\n",
    "    model.fit(X_train, log_y_train)\n",
    "    \n",
    "    # Get Metrics\n",
    "    preds = model.predict(X_test)\n",
    "#     preds = abs(preds)\n",
    "\n",
    "    rmsle = np.sqrt(mean_squared_log_error(y_test, np.expm1(preds)))\n",
    "    print(f'RMSLE: {rmsle}')"
   ]
  },
  {
   "cell_type": "code",
   "execution_count": 227,
   "metadata": {},
   "outputs": [
    {
     "name": "stdout",
     "output_type": "stream",
     "text": [
      "RMSLE: 0.9898465331538205\n"
     ]
    }
   ],
   "source": [
    "model = lgb.LGBMRegressor()\n",
    "\n",
    "run_model(model, X_train, y_train, X_test, y_test)"
   ]
  },
  {
   "cell_type": "code",
   "execution_count": 228,
   "metadata": {},
   "outputs": [
    {
     "name": "stdout",
     "output_type": "stream",
     "text": [
      "RMSLE: 0.929926639771278\n"
     ]
    }
   ],
   "source": [
    "model = lgb.LGBMRegressor(boosting_type='gbdt', n_estimators=760, max_depth=-1, learning_rate=0.11, num_leaves=31)\n",
    "\n",
    "run_model(model, X_train, y_train, X_test, y_test)"
   ]
  },
  {
   "cell_type": "code",
   "execution_count": 229,
   "metadata": {},
   "outputs": [],
   "source": [
    "# model = lgb.LGBMRegressor(n_estimators=10000, num_leaves=70, max_depth=20,min_child_samples=10, \n",
    "#                           learning_rate=0.01, colsample_bytree=0.8,subsample=0.5, reg_alpha=0, reg_lambda=20)\n",
    "\n",
    "# run_model(model, X_train, y_train, X_test, y_test)"
   ]
  },
  {
   "cell_type": "code",
   "execution_count": 230,
   "metadata": {},
   "outputs": [],
   "source": [
    "# model = lgb.LGBMRegressor(boosting_type='gbdt', n_estimators=760, max_depth=-1, learning_rate=0.11, num_leaves=31)\n",
    "# model = RandomForestRegressor(n_estimators=500, max_features=500)\n",
    "# model = lgb.LGBMRegressor(n_estimators=10000, num_leaves=70, max_depth=20,min_child_samples=10, \n",
    "#                           learning_rate=0.01, colsample_bytree=0.8,subsample=0.5, reg_alpha=0, reg_lambda=20)\n",
    "# model = xgb.XGBRegressor(n_estimators=1000, max_depth=12, learning_rate=0.05, colsample_bytree=0.45)\n",
    "\n",
    "y_ = np.log1p(y)\n",
    "model.fit(X, y_)\n",
    "predictions = pd.DataFrame(np.expm1(model.predict(test)), columns=['Price'])\n",
    "predictions.to_csv('predictions.csv',index=False)"
   ]
  },
  {
   "cell_type": "code",
   "execution_count": 231,
   "metadata": {},
   "outputs": [],
   "source": [
    "# param_grid = {'boosting_type': ['gbdt','dart','goss','rf'], 'num_leaves':[31, 40, 50, 75, 100],\n",
    "#              'max_depth':[-1,1,10], 'learning_rate':[0.001,0.01,0.05,0.1,0.3,0.5,1],\n",
    "#              'n_estimators':[100,500,1000,2000,3000,5000,10000]}"
   ]
  },
  {
   "cell_type": "code",
   "execution_count": 232,
   "metadata": {},
   "outputs": [],
   "source": [
    "# model = RandomForestRegressor()\n",
    "\n",
    "# run_model(model, X_train, y_train, X_test, y_test)"
   ]
  },
  {
   "cell_type": "code",
   "execution_count": 233,
   "metadata": {},
   "outputs": [],
   "source": [
    "# model = RandomForestRegressor(n_estimators=500, max_features=500)\n",
    "\n",
    "# run_model(model, X_train, y_train, X_test, y_test)"
   ]
  },
  {
   "cell_type": "code",
   "execution_count": 234,
   "metadata": {},
   "outputs": [],
   "source": [
    "# model = AdaBoostRegressor()\n",
    "\n",
    "# run_model(model, X_train, y_train, X_test, y_test)"
   ]
  },
  {
   "cell_type": "code",
   "execution_count": 235,
   "metadata": {},
   "outputs": [],
   "source": [
    "# model = GradientBoostingRegressor()\n",
    "\n",
    "# run_model(model, X_train, y_train, X_test, y_test)"
   ]
  },
  {
   "cell_type": "code",
   "execution_count": 236,
   "metadata": {},
   "outputs": [],
   "source": [
    "# model = CatBoostRegressor()\n",
    "\n",
    "# run_model(model, X_train, y_train, X_test, y_test)"
   ]
  },
  {
   "cell_type": "code",
   "execution_count": 237,
   "metadata": {},
   "outputs": [],
   "source": [
    "# model = CatBoostRegressor(n_estimators=2000, learning_rate=0.05, max_depth=9, rsm=0.5)\n",
    "\n",
    "# run_model(model, X_train, y_train, X_test, y_test)"
   ]
  },
  {
   "cell_type": "code",
   "execution_count": 238,
   "metadata": {},
   "outputs": [],
   "source": [
    "# model = xgb.XGBRegressor()\n",
    "\n",
    "# run_model(model, X_train, y_train, X_test, y_test)"
   ]
  },
  {
   "cell_type": "code",
   "execution_count": 239,
   "metadata": {},
   "outputs": [],
   "source": [
    "# model = xgb.XGBRegressor(n_estimators=1000, max_depth=12, learning_rate=0.05, colsample_bytree=0.45)\n",
    "\n",
    "# run_model(model, X_train, y_train, X_test, y_test)"
   ]
  },
  {
   "cell_type": "code",
   "execution_count": 240,
   "metadata": {},
   "outputs": [],
   "source": [
    "# model = xgb.XGBRFRegressor()\n",
    "\n",
    "# run_model(model, X_train, y_train, X_test, y_test)"
   ]
  },
  {
   "cell_type": "code",
   "execution_count": 241,
   "metadata": {},
   "outputs": [],
   "source": [
    "# !pip install -q -U git+https://github.com/mljar/mljar-supervised.git@master"
   ]
  },
  {
   "cell_type": "code",
   "execution_count": 242,
   "metadata": {},
   "outputs": [],
   "source": [
    "# pip install mljar-supervised"
   ]
  },
  {
   "cell_type": "code",
   "execution_count": 243,
   "metadata": {},
   "outputs": [],
   "source": [
    "# from supervised.automl import AutoML"
   ]
  },
  {
   "cell_type": "code",
   "execution_count": 244,
   "metadata": {},
   "outputs": [],
   "source": [
    "# !pip install autoviml"
   ]
  },
  {
   "cell_type": "code",
   "execution_count": 88,
   "metadata": {},
   "outputs": [
    {
     "name": "stdout",
     "output_type": "stream",
     "text": [
      "Imported Auto_ViML version: 0.1.682. Call using:\n",
      "             m, feats, trainm, testm = Auto_ViML(train, target, test,\n",
      "                            sample_submission='',\n",
      "                            scoring_parameter='', KMeans_Featurizer=False,\n",
      "                            hyper_param='RS',feature_reduction=True,\n",
      "                             Boosting_Flag='CatBoost', Binning_Flag=False,\n",
      "                            Add_Poly=0, Stacking_Flag=False,Imbalanced_Flag=False,\n",
      "                            verbose=1)\n",
      "            \n",
      "\n",
      "Imported Auto_NLP version: 0.0.46.. Call using:\n",
      "     train_nlp, test_nlp, nlp_pipeline, predictions = Auto_NLP(\n",
      "                nlp_column, train, test, target, score_type='balanced_accuracy',\n",
      "                modeltype='Classification',top_num_features=200, verbose=0,\n",
      "                build_model=True)\n"
     ]
    },
    {
     "data": {
      "text/html": [
       "<style>.container { width:95% !important; }</style>"
      ],
      "text/plain": [
       "<IPython.core.display.HTML object>"
      ]
     },
     "metadata": {},
     "output_type": "display_data"
    }
   ],
   "source": [
    "from autoviml.Auto_ViML import Auto_ViML"
   ]
  },
  {
   "cell_type": "code",
   "execution_count": 91,
   "metadata": {},
   "outputs": [],
   "source": [
    "df['Price'] = np.log1p(df['Price'])"
   ]
  },
  {
   "cell_type": "code",
   "execution_count": null,
   "metadata": {
    "scrolled": false
   },
   "outputs": [
    {
     "name": "stdout",
     "output_type": "stream",
     "text": [
      "##############  D A T A   S E T  A N A L Y S I S  #######################\n",
      "ALERT! Changing hyperparameter search to RS. Otherwise, Random Forests will take too long for 10,000+ rows\n",
      "Training Set Shape = (19210, 2093)\n",
      "    Training Set Memory Usage = 39.64 MB\n",
      "Test Set Shape = (8245, 2092)\n",
      "    Test Set Memory Usage = 16.95 MB\n",
      "Single_Label Target: ['Price']\n",
      "No shuffling of data set before training...\n",
      "    Using RandomizedSearchCV for Hyper Parameter Tuning. This is 3X faster than GridSearchCV...\n",
      "############## C L A S S I F Y I N G  V A R I A B L E S  ####################\n",
      "Classifying variables in data set...\n",
      "Data Set Shape: 19210 rows, 2092 cols\n",
      "Too many columns to print\n",
      "    Numeric Columns: ['Engine volume']\n",
      "    Integer-Categorical Columns: ['Levy', 'Mileage', 'Cylinders', 'Airbags', 'No. of doors']\n",
      "    String-Categorical Columns: []\n",
      "    Factor-Categorical Columns: []\n",
      "    String-Boolean Columns: []\n",
      "    Numeric-Boolean Columns: ['Manufacturer_ALFA ROMEO', 'Manufacturer_ASTON MARTIN', 'Manufacturer_AUDI', 'Manufacturer_BENTLEY', 'Manufacturer_BMW', 'Manufacturer_BUICK', 'Manufacturer_CADILLAC', 'Manufacturer_CHEVROLET', 'Manufacturer_CHRYSLER', 'Manufacturer_CITROEN', 'Manufacturer_DAEWOO', 'Manufacturer_DAIHATSU', 'Manufacturer_DODGE', 'Manufacturer_FERRARI', 'Manufacturer_FIAT', 'Manufacturer_FORD', 'Manufacturer_GAZ', 'Manufacturer_GMC', 'Manufacturer_GREATWALL', 'Manufacturer_HAVAL', 'Manufacturer_HONDA', 'Manufacturer_HUMMER', 'Manufacturer_HYUNDAI', 'Manufacturer_INFINITI', 'Manufacturer_ISUZU', 'Manufacturer_JAGUAR', 'Manufacturer_JEEP', 'Manufacturer_KIA', 'Manufacturer_LANCIA', 'Manufacturer_LAND ROVER']\n",
      "    Discrete String Columns: []\n",
      "    NLP text Columns: []\n",
      "    Date Time Columns: ['Prod. year']\n",
      "    ID Columns: []\n",
      "    Columns that will not be considered in modeling: ['Manufacturer_FOTON', 'Manufacturer_MG', 'Manufacturer_TATA', 'Model5', 'Model10', 'Model12', 'Model20', 'Model23', 'Model34', 'Model38', 'Model42', 'Model45', 'Model46', 'Model50', 'Model59', 'Model62', 'Model64', 'Model69', 'Model70', 'Model74', 'Model84', 'Model85', 'Model87', 'Model92', 'Model100', 'Model108', 'Model113', 'Model114', 'Model117', 'Model122']\n",
      "    2092 Predictors classified...\n",
      "        This does not include the Target column(s)\n",
      "    395 variables removed since they were ID or low-information variables\n",
      "        ['Manufacturer_FOTON', 'Manufacturer_MG', 'Manufacturer_TATA', 'Model5', 'Model10', 'Model12', 'Model20', 'Model23', 'Model34', 'Model38', 'Model42', 'Model45', 'Model46', 'Model50', 'Model59', 'Model62', 'Model64', 'Model69', 'Model70', 'Model74', 'Model84', 'Model85', 'Model87', 'Model92', 'Model100', 'Model108', 'Model113', 'Model114', 'Model117', 'Model122', 'Model138', 'Model153', 'Model157', 'Model162', 'Model168', 'Model172', 'Model176', 'Model180', 'Model186', 'Model188', 'Model189', 'Model190', 'Model194', 'Model200', 'Model207', 'Model213', 'Model242', 'Model249', 'Model251', 'Model261', 'Model266', 'Model273', 'Model277', 'Model279', 'Model282', 'Model284', 'Model285', 'Model292', 'Model294', 'Model304', 'Model308', 'Model312', 'Model320', 'Model322', 'Model323', 'Model325', 'Model330', 'Model335', 'Model338', 'Model343', 'Model348', 'Model350', 'Model352', 'Model355', 'Model358', 'Model359', 'Model386', 'Model387', 'Model390', 'Model391', 'Model394', 'Model395', 'Model397', 'Model404', 'Model406', 'Model407', 'Model418', 'Model425', 'Model428', 'Model431', 'Model442', 'Model446', 'Model450', 'Model462', 'Model472', 'Model491', 'Model493', 'Model499', 'Model501', 'Model506', 'Model515', 'Model517', 'Model519', 'Model522', 'Model529', 'Model532', 'Model538', 'Model546', 'Model550', 'Model552', 'Model556', 'Model557', 'Model563', 'Model566', 'Model575', 'Model589', 'Model594', 'Model596', 'Model599', 'Model600', 'Model601', 'Model602', 'Model603', 'Model605', 'Model608', 'Model616', 'Model627', 'Model628', 'Model637', 'Model642', 'Model643', 'Model648', 'Model650', 'Model656', 'Model659', 'Model668', 'Model671', 'Model673', 'Model682', 'Model683', 'Model687', 'Model688', 'Model689', 'Model693', 'Model697', 'Model707', 'Model711', 'Model716', 'Model718', 'Model719', 'Model746', 'Model753', 'Model755', 'Model756', 'Model763', 'Model773', 'Model780', 'Model789', 'Model790', 'Model805', 'Model808', 'Model819', 'Model823', 'Model826', 'Model833', 'Model838', 'Model845', 'Model847', 'Model853', 'Model857', 'Model872', 'Model873', 'Model874', 'Model876', 'Model884', 'Model885', 'Model890', 'Model894', 'Model897', 'Model900', 'Model901', 'Model905', 'Model906', 'Model907', 'Model911', 'Model913', 'Model916', 'Model920', 'Model921', 'Model926', 'Model936', 'Model938', 'Model939', 'Model941', 'Model945', 'Model946', 'Model956', 'Model957', 'Model964', 'Model971', 'Model977', 'Model982', 'Model983', 'Model986', 'Model993', 'Model1001', 'Model1003', 'Model1007', 'Model1016', 'Model1025', 'Model1027', 'Model1031', 'Model1032', 'Model1034', 'Model1035', 'Model1038', 'Model1039', 'Model1044', 'Model1056', 'Model1058', 'Model1064', 'Model1077', 'Model1088', 'Model1098', 'Model1100', 'Model1104', 'Model1110', 'Model1111', 'Model1120', 'Model1138', 'Model1143', 'Model1153', 'Model1161', 'Model1163', 'Model1169', 'Model1181', 'Model1190', 'Model1191', 'Model1199', 'Model1200', 'Model1201', 'Model1203', 'Model1206', 'Model1210', 'Model1213', 'Model1219', 'Model1220', 'Model1230', 'Model1235', 'Model1240', 'Model1244', 'Model1256', 'Model1265', 'Model1272', 'Model1273', 'Model1290', 'Model1295', 'Model1298', 'Model1306', 'Model1309', 'Model1312', 'Model1314', 'Model1317', 'Model1323', 'Model1327', 'Model1339', 'Model1342', 'Model1343', 'Model1347', 'Model1348', 'Model1352', 'Model1353', 'Model1357', 'Model1363', 'Model1364', 'Model1367', 'Model1381', 'Model1393', 'Model1395', 'Model1396', 'Model1401', 'Model1405', 'Model1411', 'Model1431', 'Model1432', 'Model1435', 'Model1453', 'Model1454', 'Model1458', 'Model1464', 'Model1465', 'Model1466', 'Model1473', 'Model1475', 'Model1484', 'Model1485', 'Model1486', 'Model1489', 'Model1491', 'Model1492', 'Model1496', 'Model1502', 'Model1507', 'Model1510', 'Model1528', 'Model1531', 'Model1536', 'Model1540', 'Model1547', 'Model1553', 'Model1557', 'Model1568', 'Model1576', 'Model1577', 'Model1586', 'Model1589', 'Model1593', 'Model1600', 'Model1606', 'Model1610', 'Model1615', 'Model1622', 'Model1630', 'Model1635', 'Model1649', 'Model1653', 'Model1658', 'Model1659', 'Model1662', 'Model1673', 'Model1675', 'Model1677', 'Model1682', 'Model1688', 'Model1692', 'Model1694', 'Model1712', 'Model1717', 'Model1718', 'Model1720', 'Model1736', 'Model1737', 'Model1744', 'Model1748', 'Model1754', 'Model1755', 'Model1765', 'Model1768', 'Model1769', 'Model1775', 'Model1780', 'Model1782', 'Model1784', 'Model1787', 'Model1789', 'Model1792', 'Model1798', 'Model1802', 'Model1807', 'Model1817', 'Model1831', 'Model1838', 'Model1849', 'Model1864', 'Model1865', 'Model1866', 'Model1868', 'Model1881', 'Model1882', 'Model1885', 'Model1887', 'Model1894', 'Model1895', 'Model1904', 'Model1905', 'Model1906', 'Model1910', 'Model1911', 'Model1913', 'Model1915', 'Model1921', 'Model1925', 'Model1934', 'Model1941', 'Model1942', 'Model1949', 'Model1950', 'Model1951', 'Model1962', 'Model1963', 'Model1969', 'Model1970', 'Model1972', 'Model1976', 'Prod. year']\n",
      "Number of Processors on this device = 1\n",
      "CPU available\n",
      "    No GPU active on this device\n",
      "#############     D A T A    P R E P A R A T I O N   AND C L E A N I N G     #############\n",
      "No Missing Values in train data set\n",
      "    Test data has no missing values. Continuing...\n",
      "    Completed Label Encoding and Filling of Missing Values for Train and Test Data\n",
      "Regression problem: hyperparameters are being optimized for mae\n",
      "########   A D D I N G  P O L Y N O M I A L   &   I N T E R A C T I O N    V A R S  #####\n",
      "Adding only Interaction Variables. This may result in Overfitting!\n",
      "Building Inital Model with given variables...\n",
      "Model Report :\n",
      "    Number of Variables =  6\n",
      "    CV RMSE Score : 0.1805 +/- 0.001373 | Min = 0.179 | Max = 0.1825\n",
      "Successfully transformed x-variables into text-variables after Polynomial transformations\n",
      "Building Comparison Model with only Poly and Interaction variables...\n",
      "Model Report :\n",
      "    Number of Variables =  15\n"
     ]
    },
    {
     "name": "stdout",
     "output_type": "stream",
     "text": [
      "    CV RMSE Score : 0.1771 +/- 0.001843 | Min = 0.1753 | Max = 0.1802\n",
      "    Time Taken: 3 (in seconds)\n",
      "Initially adding 2 variable(s) due to Add_Poly = 1 setting\n",
      "    Added variables: ['Cylinders Airbags', 'Engine volume Airbags']\n",
      "    Intxn and Poly Vars are: ['Cylinders Airbags', 'Engine volume Airbags']\n",
      "Processing Prod. year column for date time features....\n",
      "    Adding 1 columns from date-time column Prod. year in train\n",
      "        Adding time series features for test data...\n",
      "    Performing limited feature engineering for binning, add_poly and KMeans_Featurizer flags  ...\n",
      "    Train CV Split completed with TRAIN rows =  15368 , CV rows =  3842\n",
      "    Binning_Flag set to False or there are no float vars in data set to be binned\n",
      "    Adding one Feature named Price_KMeans_Clusters based on KMeans_Featurizer_Flag=True...\n",
      "    Used KMeans to naturally cluster Train predictor variables into 4 clusters\n",
      "Performing MinMax scaling of train and validation data\n",
      "############### Forests M O D E L   B U I L D I N G  B E G I N S  ####################\n",
      "Rows in Train data set = 15368\n",
      "  Features in Train data set = 1702\n",
      "    Rows in held-out data set = 3842\n",
      "    Log Error is not recommended since predicted values might be negative and error\n",
      "Finding Best Model and Hyper Parameters for Forests model...\n",
      "    CPU Count = 4 in this device\n",
      "Using Forests Model, Estimated Training time = 163.477 mins\n"
     ]
    }
   ],
   "source": [
    "target = 'Price'\n",
    "model, features, trainm, testm = Auto_ViML(\n",
    "    df,\n",
    "    target,\n",
    "    test,\n",
    "    sub,\n",
    "    hyper_param=\"RS\",\n",
    "    feature_reduction=False,\n",
    "    scoring_parameter= \"neg_mean_squared_log_error\",\n",
    "    KMeans_Featurizer=True,\n",
    "    Boosting_Flag= False,\n",
    "    Binning_Flag=False,\n",
    "    Add_Poly=1,\n",
    "    Stacking_Flag=False,\n",
    "    Imbalanced_Flag=False,\n",
    "    verbose=2\n",
    ")"
   ]
  },
  {
   "cell_type": "code",
   "execution_count": null,
   "metadata": {},
   "outputs": [],
   "source": []
  }
 ],
 "metadata": {
  "kernelspec": {
   "display_name": "Python 3",
   "language": "python",
   "name": "python3"
  },
  "language_info": {
   "codemirror_mode": {
    "name": "ipython",
    "version": 3
   },
   "file_extension": ".py",
   "mimetype": "text/x-python",
   "name": "python",
   "nbconvert_exporter": "python",
   "pygments_lexer": "ipython3",
   "version": "3.8.5"
  }
 },
 "nbformat": 4,
 "nbformat_minor": 4
}
