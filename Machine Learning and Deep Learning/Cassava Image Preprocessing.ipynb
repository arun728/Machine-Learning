{
 "cells": [
  {
   "cell_type": "code",
   "execution_count": 149,
   "metadata": {},
   "outputs": [],
   "source": [
    "import os\n",
    "import csv\n",
    "import shutil\n",
    "\n",
    "import numpy as np\n",
    "import pandas as pd\n",
    "import matplotlib.pyplot as plt\n",
    "import seaborn as sns\n",
    "#import tensorflow as tf"
   ]
  },
  {
   "cell_type": "code",
   "execution_count": 174,
   "metadata": {},
   "outputs": [],
   "source": [
    "import tensorflow as tf"
   ]
  },
  {
   "cell_type": "code",
   "execution_count": 175,
   "metadata": {},
   "outputs": [],
   "source": [
    "from tensorflow import keras"
   ]
  },
  {
   "cell_type": "code",
   "execution_count": 179,
   "metadata": {},
   "outputs": [
    {
     "data": {
      "text/plain": [
       "'2.0.0'"
      ]
     },
     "execution_count": 179,
     "metadata": {},
     "output_type": "execute_result"
    }
   ],
   "source": [
    "tf.__version__"
   ]
  },
  {
   "cell_type": "code",
   "execution_count": 170,
   "metadata": {},
   "outputs": [
    {
     "data": {
      "text/plain": [
       "'2.2.4-tf'"
      ]
     },
     "execution_count": 170,
     "metadata": {},
     "output_type": "execute_result"
    }
   ],
   "source": [
    "tensorflow.keras.__version__"
   ]
  },
  {
   "cell_type": "code",
   "execution_count": null,
   "metadata": {},
   "outputs": [],
   "source": [
    "tf.keras.preprocessing.image_dataset_from_directory(\n",
    "    directory, labels='inferred', label_mode='int',\n",
    "    class_names=None, color_mode='rgb', batch_size=32, image_size=(256,\n",
    "    256), shuffle=True, seed=None, validation_split=None, subset=None,\n",
    "    interpolation='bilinear', follow_links=False\n",
    ")"
   ]
  },
  {
   "cell_type": "code",
   "execution_count": 110,
   "metadata": {},
   "outputs": [],
   "source": [
    "os.chdir('C:\\\\Users\\\\akumar5\\\\Documents\\\\Python Bootcamp')"
   ]
  },
  {
   "cell_type": "code",
   "execution_count": 111,
   "metadata": {},
   "outputs": [
    {
     "data": {
      "text/plain": [
       "'C:\\\\Users\\\\akumar5\\\\Documents\\\\Python Bootcamp'"
      ]
     },
     "execution_count": 111,
     "metadata": {},
     "output_type": "execute_result"
    }
   ],
   "source": [
    "os.getcwd()"
   ]
  },
  {
   "cell_type": "code",
   "execution_count": 112,
   "metadata": {},
   "outputs": [],
   "source": [
    "df = pd.read_csv('C:\\\\Users\\\\akumar5\\\\Documents\\\\Python Bootcamp\\\\cassava-leaf-disease-classification\\\\train.csv')"
   ]
  },
  {
   "cell_type": "code",
   "execution_count": 116,
   "metadata": {},
   "outputs": [
    {
     "data": {
      "text/plain": [
       "3    13158\n",
       "4     2577\n",
       "2     2386\n",
       "1     2189\n",
       "0     1087\n",
       "Name: label, dtype: int64"
      ]
     },
     "execution_count": 116,
     "metadata": {},
     "output_type": "execute_result"
    }
   ],
   "source": [
    "df['label'].value_counts()"
   ]
  },
  {
   "cell_type": "code",
   "execution_count": 117,
   "metadata": {},
   "outputs": [],
   "source": [
    "zero_class = df[df['label'] == 0]['image_id']"
   ]
  },
  {
   "cell_type": "code",
   "execution_count": 118,
   "metadata": {},
   "outputs": [],
   "source": [
    "one_class = df[df['label'] == 1]['image_id']"
   ]
  },
  {
   "cell_type": "code",
   "execution_count": 121,
   "metadata": {},
   "outputs": [],
   "source": [
    "two_class = df[df['label'] == 2]['image_id']"
   ]
  },
  {
   "cell_type": "code",
   "execution_count": 122,
   "metadata": {},
   "outputs": [],
   "source": [
    "three_class = df[df['label'] == 3]['image_id']"
   ]
  },
  {
   "cell_type": "code",
   "execution_count": 123,
   "metadata": {},
   "outputs": [],
   "source": [
    "four_class = df[df['label'] == 4]['image_id']"
   ]
  },
  {
   "cell_type": "code",
   "execution_count": 128,
   "metadata": {},
   "outputs": [],
   "source": [
    "image_file_names = os.listdir('C:\\\\Users\\\\akumar5\\\\Documents\\\\Python Bootcamp\\\\cassava-leaf-disease-classification\\\\train')"
   ]
  },
  {
   "cell_type": "code",
   "execution_count": 129,
   "metadata": {},
   "outputs": [],
   "source": [
    "image_file_names = pd.Series(image_file_names)"
   ]
  },
  {
   "cell_type": "code",
   "execution_count": 130,
   "metadata": {},
   "outputs": [
    {
     "data": {
      "text/plain": [
       "pandas.core.series.Series"
      ]
     },
     "execution_count": 130,
     "metadata": {},
     "output_type": "execute_result"
    }
   ],
   "source": [
    "type(image_file_names)"
   ]
  },
  {
   "cell_type": "code",
   "execution_count": 131,
   "metadata": {},
   "outputs": [
    {
     "data": {
      "text/plain": [
       "0        1000015157.jpg\n",
       "1        1000201771.jpg\n",
       "2         100042118.jpg\n",
       "3        1000723321.jpg\n",
       "4        1000812911.jpg\n",
       "              ...      \n",
       "21392     999068805.jpg\n",
       "21393     999329392.jpg\n",
       "21394     999474432.jpg\n",
       "21395     999616605.jpg\n",
       "21396     999998473.jpg\n",
       "Length: 21397, dtype: object"
      ]
     },
     "execution_count": 131,
     "metadata": {},
     "output_type": "execute_result"
    }
   ],
   "source": [
    "image_file_names"
   ]
  },
  {
   "cell_type": "code",
   "execution_count": 132,
   "metadata": {},
   "outputs": [],
   "source": [
    "for images in image_file_names:\n",
    "    for image in zero_class:\n",
    "        if image == images:\n",
    "            src = 'C:\\\\Users\\\\akumar5\\\\Documents\\\\Python Bootcamp\\\\cassava-leaf-disease-classification\\\\train\\\\'+images\n",
    "            dst = 'C:\\\\Users\\\\akumar5\\\\Documents\\\\Python Bootcamp\\\\cassava-leaf-disease-classification\\\\zero'\n",
    "            shutil.move(src, dst)"
   ]
  },
  {
   "cell_type": "code",
   "execution_count": 133,
   "metadata": {},
   "outputs": [],
   "source": [
    "for images in image_file_names:\n",
    "    for image in one_class:\n",
    "        if image == images:\n",
    "            src = 'C:\\\\Users\\\\akumar5\\\\Documents\\\\Python Bootcamp\\\\cassava-leaf-disease-classification\\\\train\\\\'+images\n",
    "            dst = 'C:\\\\Users\\\\akumar5\\\\Documents\\\\Python Bootcamp\\\\cassava-leaf-disease-classification\\\\one'\n",
    "            shutil.move(src, dst)"
   ]
  },
  {
   "cell_type": "code",
   "execution_count": 134,
   "metadata": {},
   "outputs": [],
   "source": [
    "for images in image_file_names:\n",
    "    for image in two_class:\n",
    "        if image == images:\n",
    "            src = 'C:\\\\Users\\\\akumar5\\\\Documents\\\\Python Bootcamp\\\\cassava-leaf-disease-classification\\\\train\\\\'+images\n",
    "            dst = 'C:\\\\Users\\\\akumar5\\\\Documents\\\\Python Bootcamp\\\\cassava-leaf-disease-classification\\\\two'\n",
    "            shutil.move(src, dst)"
   ]
  },
  {
   "cell_type": "code",
   "execution_count": 135,
   "metadata": {},
   "outputs": [],
   "source": [
    "for images in image_file_names:\n",
    "    for image in three_class:\n",
    "        if image == images:\n",
    "            src = 'C:\\\\Users\\\\akumar5\\\\Documents\\\\Python Bootcamp\\\\cassava-leaf-disease-classification\\\\train\\\\'+images\n",
    "            dst = 'C:\\\\Users\\\\akumar5\\\\Documents\\\\Python Bootcamp\\\\cassava-leaf-disease-classification\\\\three'\n",
    "            shutil.move(src, dst)"
   ]
  },
  {
   "cell_type": "code",
   "execution_count": 136,
   "metadata": {},
   "outputs": [],
   "source": [
    "for images in image_file_names:\n",
    "    for image in four_class:\n",
    "        if image == images:\n",
    "            src = 'C:\\\\Users\\\\akumar5\\\\Documents\\\\Python Bootcamp\\\\cassava-leaf-disease-classification\\\\train\\\\'+images\n",
    "            dst = 'C:\\\\Users\\\\akumar5\\\\Documents\\\\Python Bootcamp\\\\cassava-leaf-disease-classification\\\\four'\n",
    "            shutil.move(src, dst)"
   ]
  },
  {
   "cell_type": "code",
   "execution_count": 143,
   "metadata": {},
   "outputs": [],
   "source": [
    "import splitfolders"
   ]
  },
  {
   "cell_type": "code",
   "execution_count": 147,
   "metadata": {},
   "outputs": [],
   "source": [
    "input = 'C:\\\\Users\\\\akumar5\\\\Documents\\\\Python Bootcamp\\\\cassava-leaf-disease-classification\\\\train_images'\n",
    "output = 'C:\\\\Users\\\\akumar5\\\\Documents\\\\Python Bootcamp\\\\cassava-leaf-disease-classification\\\\train_test_split'"
   ]
  },
  {
   "cell_type": "code",
   "execution_count": 148,
   "metadata": {},
   "outputs": [
    {
     "name": "stderr",
     "output_type": "stream",
     "text": [
      "Copying files: 21397 files [03:22, 105.84 files/s]\n"
     ]
    }
   ],
   "source": [
    "# Split with a ratio.\n",
    "# To only split into training and validation set, set a tuple to `ratio`, i.e, `(.8, .2)`.\n",
    "splitfolders.ratio(input=input, output=output, seed=1337, ratio=(.8, .2), group_prefix=None) # default values\n",
    "\n",
    "# Split val/test with a fixed number of items e.g. 100 for each set.\n",
    "# To only split into training and validation set, use a single number to `fixed`, i.e., `10`.\n",
    "#splitfolders.fixed(input=input, output=output, seed=1337, fixed=200, oversample=False, group_prefix=None) # default values"
   ]
  },
  {
   "cell_type": "code",
   "execution_count": null,
   "metadata": {},
   "outputs": [],
   "source": []
  }
 ],
 "metadata": {
  "kernelspec": {
   "display_name": "Python 3",
   "language": "python",
   "name": "python3"
  },
  "language_info": {
   "codemirror_mode": {
    "name": "ipython",
    "version": 3
   },
   "file_extension": ".py",
   "mimetype": "text/x-python",
   "name": "python",
   "nbconvert_exporter": "python",
   "pygments_lexer": "ipython3",
   "version": "3.7.9"
  }
 },
 "nbformat": 4,
 "nbformat_minor": 4
}
