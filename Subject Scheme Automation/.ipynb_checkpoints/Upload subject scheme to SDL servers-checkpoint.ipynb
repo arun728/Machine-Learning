{
 "cells": [
  {
   "cell_type": "code",
   "execution_count": 1,
   "metadata": {},
   "outputs": [],
   "source": [
    "from ftplib import FTP"
   ]
  },
  {
   "cell_type": "code",
   "execution_count": 5,
   "metadata": {},
   "outputs": [],
   "source": [
    "def uploadToSdlDev():\n",
    "\n",
    "    ftp = FTP('ftp-kc-us-west-2.sdlproducts.com')\n",
    "    ftp.login(user='ftpmcaffeedevaws1', passwd='LXAmbu7Ikk1O')\n",
    "    ftp.cwd('/SchemaMap')\n",
    "\n",
    "#     stagingSubjectScheme = \"subject-scheme-stg.ditamap\"\n",
    "    prodSubjectScheme = \"subject-scheme-prod.ditamap\"\n",
    "\n",
    "#     localpath1 = open('c:\\\\! w o r k\\\\!systems work\\\\subject scheme updates\\\\subject-scheme-stg.ditamap', 'rb')\n",
    "    localpath2 = open('C:\\\\Users\\\\akumar5\\\\Documents\\\\GitHub\\\\Machine-Learning\\\\Subject Scheme Automation\\\\subject-scheme-prod.ditamap', 'rb')\n",
    "\n",
    "#     ftp.storlines('stor ' + stagingSubjectScheme, localpath1)\n",
    "    ftp.storlines('stor ' + prodSubjectScheme, localpath2)\n",
    "    ftp.retrlines('list')\n",
    "\n",
    "    ftp.quit()\n",
    "\n",
    "def uploadToSdlProd():\n",
    "\n",
    "    ftp = FTP('ftp-kc-us-west-2.sdlproducts.com')\n",
    "    ftp.login(user='ftpmcaffeeaws2', passwd='EdkruiJZTRAb')\n",
    "    ftp.cwd('/SchemaMap')\n",
    "\n",
    "    stagingSubjectScheme = \"subject-scheme-stg.ditamap\"\n",
    "    prodSubjectScheme = \"subject-scheme-prod.ditamap\"\n",
    "\n",
    "    localpath1 = open('c:\\\\! w o r k\\\\!systems work\\\\subject scheme updates\\\\subject-scheme-stg.ditamap', 'rb')\n",
    "    localpath2 = open('c:\\\\! w o r k\\\\!systems work\\\\subject scheme updates\\\\subject-scheme-prod.ditamap', 'rb')\n",
    "\n",
    "    ftp.storlines('stor ' + stagingSubjectScheme, localpath1)\n",
    "    ftp.storlines('stor ' + prodSubjectScheme, localpath2)\n",
    "    ftp.retrlines('list')\n",
    "\n",
    "    ftp.quit()\n"
   ]
  },
  {
   "cell_type": "code",
   "execution_count": 6,
   "metadata": {},
   "outputs": [
    {
     "name": "stdout",
     "output_type": "stream",
     "text": [
      "-rw-r--r-- 1 ftp ftp          83342 Jun 17 11:54 subject-scheme-prod.ditamap\n"
     ]
    }
   ],
   "source": [
    "uploadToSdlDev()"
   ]
  },
  {
   "cell_type": "code",
   "execution_count": null,
   "metadata": {},
   "outputs": [],
   "source": [
    "# uploadToSdlProd()"
   ]
  }
 ],
 "metadata": {
  "kernelspec": {
   "display_name": "Python 3",
   "language": "python",
   "name": "python3"
  },
  "language_info": {
   "codemirror_mode": {
    "name": "ipython",
    "version": 3
   },
   "file_extension": ".py",
   "mimetype": "text/x-python",
   "name": "python",
   "nbconvert_exporter": "python",
   "pygments_lexer": "ipython3",
   "version": "3.8.5"
  }
 },
 "nbformat": 4,
 "nbformat_minor": 4
}
