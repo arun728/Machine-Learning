{
 "cells": [
  {
   "cell_type": "code",
   "execution_count": 33,
   "metadata": {},
   "outputs": [],
   "source": [
    "import selenium\n",
    "from selenium import webdriver\n",
    "from github import Github"
   ]
  },
  {
   "cell_type": "code",
   "execution_count": 19,
   "metadata": {},
   "outputs": [],
   "source": [
    "driver = webdriver.Chrome(executable_path=\"C:\\\\Users\\\\akumar5\\\\AppData\\\\Local\\\\Anaconda\\\\Lib\\\\site-packages\\\\selenium\\\\webdriver\\\\chrome\\\\chromedriver.exe\")"
   ]
  },
  {
   "cell_type": "code",
   "execution_count": 20,
   "metadata": {},
   "outputs": [],
   "source": [
    "driver.maximize_window()\n",
    "\n"
   ]
  },
  {
   "cell_type": "code",
   "execution_count": 21,
   "metadata": {},
   "outputs": [],
   "source": [
    "driver.get(\"https://mcafee-be-prod.zoominsoftware.io/auth/login\")"
   ]
  },
  {
   "cell_type": "code",
   "execution_count": 22,
   "metadata": {},
   "outputs": [],
   "source": [
    "username = driver.find_element_by_id('field-mail')"
   ]
  },
  {
   "cell_type": "code",
   "execution_count": 23,
   "metadata": {},
   "outputs": [],
   "source": [
    "username.send_keys('arun_kumar@mcafee.com')"
   ]
  },
  {
   "cell_type": "code",
   "execution_count": 24,
   "metadata": {},
   "outputs": [],
   "source": [
    "password = driver.find_element_by_id('field-password')"
   ]
  },
  {
   "cell_type": "code",
   "execution_count": 25,
   "metadata": {},
   "outputs": [],
   "source": [
    "password.send_keys('Welcome2Mc@fee')"
   ]
  },
  {
   "cell_type": "code",
   "execution_count": 26,
   "metadata": {},
   "outputs": [],
   "source": [
    "driver.find_element_by_css_selector(\".submitLogin\").click()"
   ]
  },
  {
   "cell_type": "code",
   "execution_count": 27,
   "metadata": {},
   "outputs": [],
   "source": [
    "driver.get(\"https://mcafee-be-prod.zoominsoftware.io/admin/subjectscheme\")"
   ]
  },
  {
   "cell_type": "code",
   "execution_count": 28,
   "metadata": {},
   "outputs": [],
   "source": [
    "driver.find_element_by_css_selector('.link-download').click()"
   ]
  },
  {
   "cell_type": "code",
   "execution_count": 29,
   "metadata": {},
   "outputs": [],
   "source": [
    "file = driver.find_element_by_css_selector('.inputfile')"
   ]
  },
  {
   "cell_type": "code",
   "execution_count": 30,
   "metadata": {},
   "outputs": [],
   "source": [
    "file.send_keys('C:\\\\Users\\\\akumar5\\\\Documents\\\\GitHub\\\\Machine-Learning\\\\Subject Scheme Automation\\\\subject-scheme.ditamap')"
   ]
  },
  {
   "cell_type": "code",
   "execution_count": 31,
   "metadata": {},
   "outputs": [],
   "source": [
    "# driver.find_element_by_css_selector('.btn-upload').click()"
   ]
  },
  {
   "cell_type": "code",
   "execution_count": 32,
   "metadata": {},
   "outputs": [],
   "source": [
    "# driver.find_element_by_css_selector('.btn-secondary').click()"
   ]
  },
  {
   "cell_type": "code",
   "execution_count": 78,
   "metadata": {},
   "outputs": [],
   "source": [
    "g = Github(login_or_token='arun728',password='githubspassword')"
   ]
  },
  {
   "cell_type": "code",
   "execution_count": 79,
   "metadata": {},
   "outputs": [],
   "source": [
    "repos = g.search_repositories(query='language:python')"
   ]
  },
  {
   "cell_type": "code",
   "execution_count": 80,
   "metadata": {},
   "outputs": [
    {
     "name": "stdout",
     "output_type": "stream",
     "text": [
      "Repository(full_name=\"donnemartin/system-design-primer\")\n",
      "Repository(full_name=\"public-apis/public-apis\")\n",
      "Repository(full_name=\"TheAlgorithms/Python\")\n",
      "Repository(full_name=\"jackfrued/Python-100-Days\")\n",
      "Repository(full_name=\"vinta/awesome-python\")\n",
      "Repository(full_name=\"ytdl-org/youtube-dl\")\n",
      "Repository(full_name=\"tensorflow/models\")\n",
      "Repository(full_name=\"nvbn/thefuck\")\n",
      "Repository(full_name=\"django/django\")\n",
      "Repository(full_name=\"pallets/flask\")\n",
      "Repository(full_name=\"keras-team/keras\")\n",
      "Repository(full_name=\"httpie/httpie\")\n",
      "Repository(full_name=\"josephmisiti/awesome-machine-learning\")\n",
      "Repository(full_name=\"ansible/ansible\")\n",
      "Repository(full_name=\"huggingface/transformers\")\n",
      "Repository(full_name=\"scikit-learn/scikit-learn\")\n",
      "Repository(full_name=\"psf/requests\")\n",
      "Repository(full_name=\"home-assistant/core\")\n",
      "Repository(full_name=\"521xueweihan/HelloGitHub\")\n",
      "Repository(full_name=\"scrapy/scrapy\")\n",
      "Repository(full_name=\"minimaxir/big-list-of-naughty-strings\")\n",
      "Repository(full_name=\"soimort/you-get\")\n",
      "Repository(full_name=\"ageitgey/face_recognition\")\n",
      "Repository(full_name=\"apache/superset\")\n",
      "Repository(full_name=\"python/cpython\")\n",
      "Repository(full_name=\"deepfakes/faceswap\")\n",
      "Repository(full_name=\"3b1b/manim\")\n",
      "Repository(full_name=\"shadowsocks/shadowsocks\")\n",
      "Repository(full_name=\"tiangolo/fastapi\")\n",
      "Repository(full_name=\"fighting41love/funNLP\")\n",
      "Repository(full_name=\"0voice/interview_internal_reference\")\n",
      "Repository(full_name=\"isocpp/CppCoreGuidelines\")\n",
      "Repository(full_name=\"XX-net/XX-Net\")\n",
      "Repository(full_name=\"localstack/localstack\")\n",
      "Repository(full_name=\"testerSunshine/12306\")\n",
      "Repository(full_name=\"pandas-dev/pandas\")\n",
      "Repository(full_name=\"apachecn/AiLearning\")\n",
      "Repository(full_name=\"floodsung/Deep-Learning-Papers-Reading-Roadmap\")\n",
      "Repository(full_name=\"faif/python-patterns\")\n",
      "Repository(full_name=\"getsentry/sentry\")\n",
      "Repository(full_name=\"google-research/bert\")\n",
      "Repository(full_name=\"certbot/certbot\")\n",
      "Repository(full_name=\"willmcgugan/rich\")\n",
      "Repository(full_name=\"iperov/DeepFaceLab\")\n",
      "Repository(full_name=\"satwikkansal/wtfpython\")\n",
      "Repository(full_name=\"fxsjy/jieba\")\n",
      "Repository(full_name=\"chubin/cheat.sh\")\n",
      "Repository(full_name=\"sherlock-project/sherlock\")\n",
      "Repository(full_name=\"swisskyrepo/PayloadsAllTheThings\")\n",
      "Repository(full_name=\"CorentinJ/Real-Time-Voice-Cloning\")\n",
      "Repository(full_name=\"gto76/python-cheatsheet\")\n",
      "Repository(full_name=\"d2l-ai/d2l-zh\")\n",
      "Repository(full_name=\"facebookresearch/Detectron\")\n",
      "Repository(full_name=\"openai/gym\")\n",
      "Repository(full_name=\"geekcomputers/Python\")\n",
      "Repository(full_name=\"hankcs/HanLP\")\n",
      "Repository(full_name=\"ycm-core/YouCompleteMe\")\n",
      "Repository(full_name=\"0xAX/linux-insides\")\n",
      "Repository(full_name=\"donnemartin/interactive-coding-challenges\")\n",
      "Repository(full_name=\"docker/compose\")\n",
      "Repository(full_name=\"mitmproxy/mitmproxy\")\n",
      "Repository(full_name=\"pypa/pipenv\")\n",
      "Repository(full_name=\"apache/airflow\")\n",
      "Repository(full_name=\"littlecodersh/ItChat\")\n",
      "Repository(full_name=\"psf/black\")\n",
      "Repository(full_name=\"donnemartin/data-science-ipython-notebooks\")\n",
      "Repository(full_name=\"encode/django-rest-framework\")\n",
      "Repository(full_name=\"trailofbits/algo\")\n",
      "Repository(full_name=\"yunjey/pytorch-tutorial\")\n",
      "Repository(full_name=\"explosion/spaCy\")\n",
      "Repository(full_name=\"sqlmapproject/sqlmap\")\n",
      "Repository(full_name=\"matterport/Mask_RCNN\")\n",
      "Repository(full_name=\"tornadoweb/tornado\")\n",
      "Repository(full_name=\"eriklindernoren/ML-From-Scratch\")\n",
      "Repository(full_name=\"google/python-fire\")\n",
      "Repository(full_name=\"keon/algorithms\")\n",
      "Repository(full_name=\"beurtschipper/Depix\")\n",
      "Repository(full_name=\"getredash/redash\")\n",
      "Repository(full_name=\"wangzheng0822/algo\")\n",
      "Repository(full_name=\"sebastianruder/NLP-progress\")\n",
      "Repository(full_name=\"tqdm/tqdm\")\n",
      "Repository(full_name=\"nicolargo/glances\")\n",
      "Repository(full_name=\"drduh/macOS-Security-and-Privacy-Guide\")\n",
      "Repository(full_name=\"StevenBlack/hosts\")\n",
      "Repository(full_name=\"celery/celery\")\n",
      "Repository(full_name=\"numpy/numpy\")\n",
      "Repository(full_name=\"OWASP/CheatSheetSeries\")\n",
      "Repository(full_name=\"facebookresearch/detectron2\")\n",
      "Repository(full_name=\"microsoft/cascadia-code\")\n",
      "Repository(full_name=\"magenta/magenta\")\n",
      "Repository(full_name=\"deezer/spleeter\")\n",
      "Repository(full_name=\"bitcoinbook/bitcoinbook\")\n",
      "Repository(full_name=\"pytorch/examples\")\n",
      "Repository(full_name=\"locustio/locust\")\n",
      "Repository(full_name=\"ray-project/ray\")\n",
      "Repository(full_name=\"jumpserver/jumpserver\")\n",
      "Repository(full_name=\"luong-komorebi/Awesome-Linux-Software\")\n",
      "Repository(full_name=\"reddit-archive/reddit\")\n",
      "Repository(full_name=\"PaddlePaddle/Paddle\")\n",
      "Repository(full_name=\"instillai/TensorFlow-Course\")\n",
      "Repository(full_name=\"charlax/professional-programming\")\n",
      "Repository(full_name=\"python-telegram-bot/python-telegram-bot\")\n",
      "Repository(full_name=\"toml-lang/toml\")\n",
      "Repository(full_name=\"python-poetry/poetry\")\n",
      "Repository(full_name=\"open-mmlab/mmdetection\")\n",
      "Repository(full_name=\"junyanz/pytorch-CycleGAN-and-pix2pix\")\n",
      "Repository(full_name=\"bokeh/bokeh\")\n",
      "Repository(full_name=\"sanic-org/sanic\")\n",
      "Repository(full_name=\"binux/pyspider\")\n",
      "Repository(full_name=\"streamlit/streamlit\")\n",
      "Repository(full_name=\"nginx-proxy/nginx-proxy\")\n",
      "Repository(full_name=\"ipython/ipython\")\n",
      "Repository(full_name=\"cookiecutter/cookiecutter\")\n",
      "Repository(full_name=\"plotly/dash\")\n",
      "Repository(full_name=\"openai/gpt-2\")\n",
      "Repository(full_name=\"chubin/wttr.in\")\n",
      "Repository(full_name=\"spotify/luigi\")\n",
      "Repository(full_name=\"tzutalin/labelImg\")\n",
      "Repository(full_name=\"cool-RR/PySnooper\")\n",
      "Repository(full_name=\"shimohq/chinese-programmer-wrong-pronunciation\")\n",
      "Repository(full_name=\"quantopian/zipline\")\n",
      "Repository(full_name=\"mingrammer/diagrams\")\n",
      "Repository(full_name=\"wangshub/wechat_jump_game\")\n",
      "Repository(full_name=\"PyTorchLightning/pytorch-lightning\")\n",
      "Repository(full_name=\"zulip/zulip\")\n",
      "Repository(full_name=\"matplotlib/matplotlib\")\n",
      "Repository(full_name=\"alievk/avatarify-python\")\n",
      "Repository(full_name=\"chriskiehl/Gooey\")\n",
      "Repository(full_name=\"Kr1s77/awesome-python-login-model\")\n",
      "Repository(full_name=\"Jack-Cherish/python-spider\")\n",
      "Repository(full_name=\"kivy/kivy\")\n",
      "Repository(full_name=\"pytorch/fairseq\")\n",
      "Repository(full_name=\"miloyip/game-programmer\")\n",
      "Repository(full_name=\"google/jax\")\n",
      "Repository(full_name=\"magic-wormhole/magic-wormhole\")\n",
      "Repository(full_name=\"timgrossmann/InstaPy\")\n",
      "Repository(full_name=\"fabric/fabric\")\n",
      "Repository(full_name=\"facebook/prophet\")\n",
      "Repository(full_name=\"PaddlePaddle/PaddleOCR\")\n",
      "Repository(full_name=\"youfou/wxpy\")\n",
      "Repository(full_name=\"joke2k/faker\")\n",
      "Repository(full_name=\"wting/autojump\")\n",
      "Repository(full_name=\"jhao104/proxy_pool\")\n",
      "Repository(full_name=\"powerline/powerline\")\n",
      "Repository(full_name=\"mnielsen/neural-networks-and-deep-learning\")\n",
      "Repository(full_name=\"rsms/inter\")\n",
      "Repository(full_name=\"jupyter/jupyter\")\n",
      "Repository(full_name=\"mkdocs/mkdocs\")\n",
      "Repository(full_name=\"Eloston/ungoogled-chromium\")\n",
      "Repository(full_name=\"ultralytics/yolov5\")\n",
      "Repository(full_name=\"RaRe-Technologies/gensim\")\n",
      "Repository(full_name=\"psf/requests-html\")\n",
      "Repository(full_name=\"davidsandberg/facenet\")\n",
      "Repository(full_name=\"Miserlou/Zappa\")\n",
      "Repository(full_name=\"google/yapf\")\n",
      "Repository(full_name=\"saltstack/salt\")\n",
      "Repository(full_name=\"JaidedAI/EasyOCR\")\n",
      "Repository(full_name=\"leisurelicht/wtfpython-cn\")\n",
      "Repository(full_name=\"kovidgoyal/kitty\")\n",
      "Repository(full_name=\"openai/baselines\")\n",
      "Repository(full_name=\"RasaHQ/rasa\")\n",
      "Repository(full_name=\"h2y/Shadowrocket-ADBlock-Rules\")\n",
      "Repository(full_name=\"pjialin/py12306\")\n",
      "Repository(full_name=\"mirumee/saleor\")\n",
      "Repository(full_name=\"tensorflow/tensor2tensor\")\n",
      "Repository(full_name=\"aleju/imgaug\")\n",
      "Repository(full_name=\"horovod/horovod\")\n",
      "Repository(full_name=\"aio-libs/aiohttp\")\n",
      "Repository(full_name=\"NVlabs/stylegan\")\n",
      "Repository(full_name=\"rusty1s/pytorch_geometric\")\n",
      "Repository(full_name=\"tonybeltramelli/pix2code\")\n",
      "Repository(full_name=\"gunthercox/ChatterBot\")\n",
      "Repository(full_name=\"lra/mackup\")\n",
      "Repository(full_name=\"alexjc/neural-enhance\")\n",
      "Repository(full_name=\"kholia/OSX-KVM\")\n",
      "Repository(full_name=\"aws/aws-cli\")\n",
      "Repository(full_name=\"pyecharts/pyecharts\")\n",
      "Repository(full_name=\"equinusocio/material-theme\")\n",
      "Repository(full_name=\"codelucas/newspaper\")\n",
      "Repository(full_name=\"pallets/click\")\n",
      "Repository(full_name=\"sivel/speedtest-cli\")\n",
      "Repository(full_name=\"meolu/walle-web\")\n",
      "Repository(full_name=\"waditu/tushare\")\n",
      "Repository(full_name=\"python/mypy\")\n",
      "Repository(full_name=\"rwightman/pytorch-image-models\")\n",
      "Repository(full_name=\"twintproject/twint\")\n",
      "Repository(full_name=\"wagtail/wagtail\")\n",
      "Repository(full_name=\"hindupuravinash/the-gan-zoo\")\n",
      "Repository(full_name=\"NVIDIA/FastPhotoStyle\")\n",
      "Repository(full_name=\"apprenticeharper/DeDRM_tools\")\n",
      "Repository(full_name=\"flairNLP/flair\")\n",
      "Repository(full_name=\"ShangtongZhang/reinforcement-learning-an-introduction\")\n",
      "Repository(full_name=\"microsoft/recommenders\")\n",
      "Repository(full_name=\"SFTtech/openage\")\n",
      "Repository(full_name=\"GoogleCloudPlatform/microservices-demo\")\n",
      "Repository(full_name=\"shengqiangzhang/examples-of-web-crawlers\")\n",
      "Repository(full_name=\"mail-in-a-box/mailinabox\")\n",
      "Repository(full_name=\"beetbox/beets\")\n",
      "Repository(full_name=\"allenai/allennlp\")\n",
      "Repository(full_name=\"d2l-ai/d2l-en\")\n",
      "Repository(full_name=\"ddbourgin/numpy-ml\")\n",
      "Repository(full_name=\"kovidgoyal/calibre\")\n",
      "Repository(full_name=\"chiphuyen/stanford-tensorflow-tutorials\")\n",
      "Repository(full_name=\"lengstrom/fast-style-transfer\")\n",
      "Repository(full_name=\"postmanlabs/httpbin\")\n",
      "Repository(full_name=\"nltk/nltk\")\n",
      "Repository(full_name=\"wifiphisher/wifiphisher\")\n",
      "Repository(full_name=\"ranger/ranger\")\n",
      "Repository(full_name=\"ansible/awx\")\n",
      "Repository(full_name=\"microsoft/nni\")\n"
     ]
    },
    {
     "name": "stdout",
     "output_type": "stream",
     "text": [
      "Repository(full_name=\"plotly/plotly.py\")\n",
      "Repository(full_name=\"dbcli/mycli\")\n",
      "Repository(full_name=\"dbcli/pgcli\")\n",
      "Repository(full_name=\"mlflow/mlflow\")\n",
      "Repository(full_name=\"alexjc/neural-doodle\")\n",
      "Repository(full_name=\"The-Art-of-Hacking/h4cker\")\n",
      "Repository(full_name=\"tflearn/tflearn\")\n",
      "Repository(full_name=\"eriklindernoren/PyTorch-GAN\")\n",
      "Repository(full_name=\"mxrch/GHunt\")\n",
      "Repository(full_name=\"ArchiveBox/ArchiveBox\")\n",
      "Repository(full_name=\"threat9/routersploit\")\n",
      "Repository(full_name=\"Theano/Theano\")\n",
      "Repository(full_name=\"deepinsight/insightface\")\n",
      "Repository(full_name=\"donnemartin/awesome-aws\")\n",
      "Repository(full_name=\"idank/explainshell\")\n",
      "Repository(full_name=\"andymccurdy/redis-py\")\n",
      "Repository(full_name=\"hanxiao/bert-as-service\")\n",
      "Repository(full_name=\"asciinema/asciinema\")\n",
      "Repository(full_name=\"s0md3v/XSStrike\")\n",
      "Repository(full_name=\"freqtrade/freqtrade\")\n",
      "Repository(full_name=\"pytorch/vision\")\n",
      "Repository(full_name=\"networkx/networkx\")\n",
      "Repository(full_name=\"nbedos/termtosvg\")\n",
      "Repository(full_name=\"zalandoresearch/fashion-mnist\")\n",
      "Repository(full_name=\"MorvanZhou/tutorials\")\n",
      "Repository(full_name=\"Delgan/loguru\")\n",
      "Repository(full_name=\"Rochester-NRT/RocAlphaGo\")\n",
      "Repository(full_name=\"apenwarr/sshuttle\")\n",
      "Repository(full_name=\"searx/searx\")\n",
      "Repository(full_name=\"Embedding/Chinese-Word-Vectors\")\n",
      "Repository(full_name=\"darknessomi/musicbox\")\n",
      "Repository(full_name=\"MobSF/Mobile-Security-Framework-MobSF\")\n",
      "Repository(full_name=\"frappe/erpnext\")\n",
      "Repository(full_name=\"deepmind/sonnet\")\n",
      "Repository(full_name=\"ankitects/anki\")\n",
      "Repository(full_name=\"vipstone/faceai\")\n",
      "Repository(full_name=\"lyhue1991/eat_tensorflow2_in_30_days\")\n",
      "Repository(full_name=\"dbader/schedule\")\n",
      "Repository(full_name=\"python-pillow/Pillow\")\n",
      "Repository(full_name=\"facebook/chisel\")\n",
      "Repository(full_name=\"bregman-arie/devops-exercises\")\n",
      "Repository(full_name=\"microsoft/Bringing-Old-Photos-Back-to-Life\")\n",
      "Repository(full_name=\"rushter/MLAlgorithms\")\n",
      "Repository(full_name=\"mwaskom/seaborn\")\n",
      "Repository(full_name=\"fossasia/visdom\")\n",
      "Repository(full_name=\"eeeeeeeeeeeeeeeeeeeeeeeeeeeeeeee/eeeeeeeeeeeeeeeeeeeeeeeeeeeeeeeeeeeeeeeeeeeeeeeeeeeeeeeeeeeeeeeeeeeeeeeeeeeeeeeeeeeeeeeeeeeeeeeeeeee\")\n",
      "Repository(full_name=\"dask/dask\")\n",
      "Repository(full_name=\"falconry/falcon\")\n",
      "Repository(full_name=\"coleifer/peewee\")\n",
      "Repository(full_name=\"thumbor/thumbor\")\n",
      "Repository(full_name=\"coursera-dl/coursera-dl\")\n",
      "Repository(full_name=\"mailpile/Mailpile\")\n",
      "Repository(full_name=\"facebookresearch/maskrcnn-benchmark\")\n",
      "Repository(full_name=\"huggingface/datasets\")\n",
      "Repository(full_name=\"harelba/q\")\n",
      "Repository(full_name=\"sfyc23/EverydayWechat\")\n",
      "Repository(full_name=\"Chia-Network/chia-blockchain\")\n",
      "Repository(full_name=\"scipy/scipy\")\n",
      "Repository(full_name=\"pydanny/cookiecutter-django\")\n",
      "Repository(full_name=\"seatgeek/fuzzywuzzy\")\n",
      "Repository(full_name=\"django-cms/django-cms\")\n",
      "Repository(full_name=\"scrapinghub/portia\")\n",
      "Repository(full_name=\"httpie/http-prompt\")\n",
      "Repository(full_name=\"x-hw/amazing-qr\")\n",
      "Repository(full_name=\"eriklindernoren/Keras-GAN\")\n",
      "Repository(full_name=\"sympy/sympy\")\n",
      "Repository(full_name=\"albumentations-team/albumentations\")\n",
      "Repository(full_name=\"pyinstaller/pyinstaller\")\n",
      "Repository(full_name=\"amueller/word_cloud\")\n",
      "Repository(full_name=\"iterative/dvc\")\n",
      "Repository(full_name=\"netbox-community/netbox\")\n",
      "Repository(full_name=\"EpistasisLab/tpot\")\n",
      "Repository(full_name=\"matrix-org/synapse\")\n",
      "Repository(full_name=\"lauris/awesome-scala\")\n",
      "Repository(full_name=\"bbfamily/abu\")\n",
      "Repository(full_name=\"keras-team/autokeras\")\n",
      "Repository(full_name=\"Cadene/pretrained-models.pytorch\")\n",
      "Repository(full_name=\"aws/chalice\")\n",
      "Repository(full_name=\"aws/serverless-application-model\")\n",
      "Repository(full_name=\"Gallopsled/pwntools\")\n",
      "Repository(full_name=\"clips/pattern\")\n",
      "Repository(full_name=\"lk-geimfari/awesomo\")\n",
      "Repository(full_name=\"s0md3v/Photon\")\n",
      "Repository(full_name=\"NVlabs/stylegan2\")\n",
      "Repository(full_name=\"pwxcoo/chinese-xinhua\")\n",
      "Repository(full_name=\"programthink/zhao\")\n",
      "Repository(full_name=\"tweepy/tweepy\")\n",
      "Repository(full_name=\"pallets/jinja\")\n",
      "Repository(full_name=\"MagicStack/uvloop\")\n",
      "Repository(full_name=\"hoochanlon/w3-goto-world\")\n"
     ]
    },
    {
     "ename": "RateLimitExceededException",
     "evalue": "403 {\"message\": \"API rate limit exceeded for 49.207.219.204. (But here's the good news: Authenticated requests get a higher rate limit. Check out the documentation for more details.)\", \"documentation_url\": \"https://docs.github.com/rest/overview/resources-in-the-rest-api#rate-limiting\"}",
     "output_type": "error",
     "traceback": [
      "\u001b[1;31m---------------------------------------------------------------------------\u001b[0m",
      "\u001b[1;31mRateLimitExceededException\u001b[0m                Traceback (most recent call last)",
      "\u001b[1;32m<ipython-input-80-62c0a5ec6953>\u001b[0m in \u001b[0;36m<module>\u001b[1;34m\u001b[0m\n\u001b[1;32m----> 1\u001b[1;33m \u001b[1;32mfor\u001b[0m \u001b[0mrepo\u001b[0m \u001b[1;32min\u001b[0m \u001b[0mrepos\u001b[0m\u001b[1;33m:\u001b[0m\u001b[1;33m\u001b[0m\u001b[1;33m\u001b[0m\u001b[0m\n\u001b[0m\u001b[0;32m      2\u001b[0m     \u001b[0mprint\u001b[0m\u001b[1;33m(\u001b[0m\u001b[0mrepo\u001b[0m\u001b[1;33m)\u001b[0m\u001b[1;33m\u001b[0m\u001b[1;33m\u001b[0m\u001b[0m\n",
      "\u001b[1;32m~\\AppData\\Local\\Anaconda\\lib\\site-packages\\github\\PaginatedList.py\u001b[0m in \u001b[0;36m__iter__\u001b[1;34m(self)\u001b[0m\n\u001b[0;32m     54\u001b[0m         \u001b[1;32myield\u001b[0m \u001b[1;32mfrom\u001b[0m \u001b[0mself\u001b[0m\u001b[1;33m.\u001b[0m\u001b[0m__elements\u001b[0m\u001b[1;33m\u001b[0m\u001b[1;33m\u001b[0m\u001b[0m\n\u001b[0;32m     55\u001b[0m         \u001b[1;32mwhile\u001b[0m \u001b[0mself\u001b[0m\u001b[1;33m.\u001b[0m\u001b[0m_couldGrow\u001b[0m\u001b[1;33m(\u001b[0m\u001b[1;33m)\u001b[0m\u001b[1;33m:\u001b[0m\u001b[1;33m\u001b[0m\u001b[1;33m\u001b[0m\u001b[0m\n\u001b[1;32m---> 56\u001b[1;33m             \u001b[0mnewElements\u001b[0m \u001b[1;33m=\u001b[0m \u001b[0mself\u001b[0m\u001b[1;33m.\u001b[0m\u001b[0m_grow\u001b[0m\u001b[1;33m(\u001b[0m\u001b[1;33m)\u001b[0m\u001b[1;33m\u001b[0m\u001b[1;33m\u001b[0m\u001b[0m\n\u001b[0m\u001b[0;32m     57\u001b[0m             \u001b[1;32myield\u001b[0m \u001b[1;32mfrom\u001b[0m \u001b[0mnewElements\u001b[0m\u001b[1;33m\u001b[0m\u001b[1;33m\u001b[0m\u001b[0m\n\u001b[0;32m     58\u001b[0m \u001b[1;33m\u001b[0m\u001b[0m\n",
      "\u001b[1;32m~\\AppData\\Local\\Anaconda\\lib\\site-packages\\github\\PaginatedList.py\u001b[0m in \u001b[0;36m_grow\u001b[1;34m(self)\u001b[0m\n\u001b[0;32m     65\u001b[0m \u001b[1;33m\u001b[0m\u001b[0m\n\u001b[0;32m     66\u001b[0m     \u001b[1;32mdef\u001b[0m \u001b[0m_grow\u001b[0m\u001b[1;33m(\u001b[0m\u001b[0mself\u001b[0m\u001b[1;33m)\u001b[0m\u001b[1;33m:\u001b[0m\u001b[1;33m\u001b[0m\u001b[1;33m\u001b[0m\u001b[0m\n\u001b[1;32m---> 67\u001b[1;33m         \u001b[0mnewElements\u001b[0m \u001b[1;33m=\u001b[0m \u001b[0mself\u001b[0m\u001b[1;33m.\u001b[0m\u001b[0m_fetchNextPage\u001b[0m\u001b[1;33m(\u001b[0m\u001b[1;33m)\u001b[0m\u001b[1;33m\u001b[0m\u001b[1;33m\u001b[0m\u001b[0m\n\u001b[0m\u001b[0;32m     68\u001b[0m         \u001b[0mself\u001b[0m\u001b[1;33m.\u001b[0m\u001b[0m__elements\u001b[0m \u001b[1;33m+=\u001b[0m \u001b[0mnewElements\u001b[0m\u001b[1;33m\u001b[0m\u001b[1;33m\u001b[0m\u001b[0m\n\u001b[0;32m     69\u001b[0m         \u001b[1;32mreturn\u001b[0m \u001b[0mnewElements\u001b[0m\u001b[1;33m\u001b[0m\u001b[1;33m\u001b[0m\u001b[0m\n",
      "\u001b[1;32m~\\AppData\\Local\\Anaconda\\lib\\site-packages\\github\\PaginatedList.py\u001b[0m in \u001b[0;36m_fetchNextPage\u001b[1;34m(self)\u001b[0m\n\u001b[0;32m    197\u001b[0m \u001b[1;33m\u001b[0m\u001b[0m\n\u001b[0;32m    198\u001b[0m     \u001b[1;32mdef\u001b[0m \u001b[0m_fetchNextPage\u001b[0m\u001b[1;33m(\u001b[0m\u001b[0mself\u001b[0m\u001b[1;33m)\u001b[0m\u001b[1;33m:\u001b[0m\u001b[1;33m\u001b[0m\u001b[1;33m\u001b[0m\u001b[0m\n\u001b[1;32m--> 199\u001b[1;33m         headers, data = self.__requester.requestJsonAndCheck(\n\u001b[0m\u001b[0;32m    200\u001b[0m             \u001b[1;34m\"GET\"\u001b[0m\u001b[1;33m,\u001b[0m \u001b[0mself\u001b[0m\u001b[1;33m.\u001b[0m\u001b[0m__nextUrl\u001b[0m\u001b[1;33m,\u001b[0m \u001b[0mparameters\u001b[0m\u001b[1;33m=\u001b[0m\u001b[0mself\u001b[0m\u001b[1;33m.\u001b[0m\u001b[0m__nextParams\u001b[0m\u001b[1;33m,\u001b[0m \u001b[0mheaders\u001b[0m\u001b[1;33m=\u001b[0m\u001b[0mself\u001b[0m\u001b[1;33m.\u001b[0m\u001b[0m__headers\u001b[0m\u001b[1;33m\u001b[0m\u001b[1;33m\u001b[0m\u001b[0m\n\u001b[0;32m    201\u001b[0m         )\n",
      "\u001b[1;32m~\\AppData\\Local\\Anaconda\\lib\\site-packages\\github\\Requester.py\u001b[0m in \u001b[0;36mrequestJsonAndCheck\u001b[1;34m(self, verb, url, parameters, headers, input)\u001b[0m\n\u001b[0;32m    351\u001b[0m \u001b[1;33m\u001b[0m\u001b[0m\n\u001b[0;32m    352\u001b[0m     \u001b[1;32mdef\u001b[0m \u001b[0mrequestJsonAndCheck\u001b[0m\u001b[1;33m(\u001b[0m\u001b[0mself\u001b[0m\u001b[1;33m,\u001b[0m \u001b[0mverb\u001b[0m\u001b[1;33m,\u001b[0m \u001b[0murl\u001b[0m\u001b[1;33m,\u001b[0m \u001b[0mparameters\u001b[0m\u001b[1;33m=\u001b[0m\u001b[1;32mNone\u001b[0m\u001b[1;33m,\u001b[0m \u001b[0mheaders\u001b[0m\u001b[1;33m=\u001b[0m\u001b[1;32mNone\u001b[0m\u001b[1;33m,\u001b[0m \u001b[0minput\u001b[0m\u001b[1;33m=\u001b[0m\u001b[1;32mNone\u001b[0m\u001b[1;33m)\u001b[0m\u001b[1;33m:\u001b[0m\u001b[1;33m\u001b[0m\u001b[1;33m\u001b[0m\u001b[0m\n\u001b[1;32m--> 353\u001b[1;33m         return self.__check(\n\u001b[0m\u001b[0;32m    354\u001b[0m             *self.requestJson(\n\u001b[0;32m    355\u001b[0m                 \u001b[0mverb\u001b[0m\u001b[1;33m,\u001b[0m \u001b[0murl\u001b[0m\u001b[1;33m,\u001b[0m \u001b[0mparameters\u001b[0m\u001b[1;33m,\u001b[0m \u001b[0mheaders\u001b[0m\u001b[1;33m,\u001b[0m \u001b[0minput\u001b[0m\u001b[1;33m,\u001b[0m \u001b[0mself\u001b[0m\u001b[1;33m.\u001b[0m\u001b[0m__customConnection\u001b[0m\u001b[1;33m(\u001b[0m\u001b[0murl\u001b[0m\u001b[1;33m)\u001b[0m\u001b[1;33m\u001b[0m\u001b[1;33m\u001b[0m\u001b[0m\n",
      "\u001b[1;32m~\\AppData\\Local\\Anaconda\\lib\\site-packages\\github\\Requester.py\u001b[0m in \u001b[0;36m__check\u001b[1;34m(self, status, responseHeaders, output)\u001b[0m\n\u001b[0;32m    376\u001b[0m         \u001b[0moutput\u001b[0m \u001b[1;33m=\u001b[0m \u001b[0mself\u001b[0m\u001b[1;33m.\u001b[0m\u001b[0m__structuredFromJson\u001b[0m\u001b[1;33m(\u001b[0m\u001b[0moutput\u001b[0m\u001b[1;33m)\u001b[0m\u001b[1;33m\u001b[0m\u001b[1;33m\u001b[0m\u001b[0m\n\u001b[0;32m    377\u001b[0m         \u001b[1;32mif\u001b[0m \u001b[0mstatus\u001b[0m \u001b[1;33m>=\u001b[0m \u001b[1;36m400\u001b[0m\u001b[1;33m:\u001b[0m\u001b[1;33m\u001b[0m\u001b[1;33m\u001b[0m\u001b[0m\n\u001b[1;32m--> 378\u001b[1;33m             \u001b[1;32mraise\u001b[0m \u001b[0mself\u001b[0m\u001b[1;33m.\u001b[0m\u001b[0m__createException\u001b[0m\u001b[1;33m(\u001b[0m\u001b[0mstatus\u001b[0m\u001b[1;33m,\u001b[0m \u001b[0mresponseHeaders\u001b[0m\u001b[1;33m,\u001b[0m \u001b[0moutput\u001b[0m\u001b[1;33m)\u001b[0m\u001b[1;33m\u001b[0m\u001b[1;33m\u001b[0m\u001b[0m\n\u001b[0m\u001b[0;32m    379\u001b[0m         \u001b[1;32mreturn\u001b[0m \u001b[0mresponseHeaders\u001b[0m\u001b[1;33m,\u001b[0m \u001b[0moutput\u001b[0m\u001b[1;33m\u001b[0m\u001b[1;33m\u001b[0m\u001b[0m\n\u001b[0;32m    380\u001b[0m \u001b[1;33m\u001b[0m\u001b[0m\n",
      "\u001b[1;31mRateLimitExceededException\u001b[0m: 403 {\"message\": \"API rate limit exceeded for 49.207.219.204. (But here's the good news: Authenticated requests get a higher rate limit. Check out the documentation for more details.)\", \"documentation_url\": \"https://docs.github.com/rest/overview/resources-in-the-rest-api#rate-limiting\"}"
     ]
    }
   ],
   "source": [
    "for repo in repos:\n",
    "    print(repo)"
   ]
  },
  {
   "cell_type": "code",
   "execution_count": 81,
   "metadata": {},
   "outputs": [
    {
     "ename": "GithubException",
     "evalue": "401 {\"message\": \"Requires authentication\", \"documentation_url\": \"https://docs.github.com/rest/reference/repos#list-repositories-for-the-authenticated-user\"}",
     "output_type": "error",
     "traceback": [
      "\u001b[1;31m---------------------------------------------------------------------------\u001b[0m",
      "\u001b[1;31mGithubException\u001b[0m                           Traceback (most recent call last)",
      "\u001b[1;32m<ipython-input-81-1c7b2c0f846f>\u001b[0m in \u001b[0;36m<module>\u001b[1;34m\u001b[0m\n\u001b[1;32m----> 1\u001b[1;33m \u001b[1;32mfor\u001b[0m \u001b[0mrepo\u001b[0m \u001b[1;32min\u001b[0m \u001b[0mg\u001b[0m\u001b[1;33m.\u001b[0m\u001b[0mget_user\u001b[0m\u001b[1;33m(\u001b[0m\u001b[1;33m)\u001b[0m\u001b[1;33m.\u001b[0m\u001b[0mget_repos\u001b[0m\u001b[1;33m(\u001b[0m\u001b[1;33m)\u001b[0m\u001b[1;33m:\u001b[0m\u001b[1;33m\u001b[0m\u001b[1;33m\u001b[0m\u001b[0m\n\u001b[0m\u001b[0;32m      2\u001b[0m     \u001b[0mprint\u001b[0m\u001b[1;33m(\u001b[0m\u001b[0mrepo\u001b[0m\u001b[1;33m.\u001b[0m\u001b[0mname\u001b[0m\u001b[1;33m)\u001b[0m\u001b[1;33m\u001b[0m\u001b[1;33m\u001b[0m\u001b[0m\n",
      "\u001b[1;32m~\\AppData\\Local\\Anaconda\\lib\\site-packages\\github\\PaginatedList.py\u001b[0m in \u001b[0;36m__iter__\u001b[1;34m(self)\u001b[0m\n\u001b[0;32m     54\u001b[0m         \u001b[1;32myield\u001b[0m \u001b[1;32mfrom\u001b[0m \u001b[0mself\u001b[0m\u001b[1;33m.\u001b[0m\u001b[0m__elements\u001b[0m\u001b[1;33m\u001b[0m\u001b[1;33m\u001b[0m\u001b[0m\n\u001b[0;32m     55\u001b[0m         \u001b[1;32mwhile\u001b[0m \u001b[0mself\u001b[0m\u001b[1;33m.\u001b[0m\u001b[0m_couldGrow\u001b[0m\u001b[1;33m(\u001b[0m\u001b[1;33m)\u001b[0m\u001b[1;33m:\u001b[0m\u001b[1;33m\u001b[0m\u001b[1;33m\u001b[0m\u001b[0m\n\u001b[1;32m---> 56\u001b[1;33m             \u001b[0mnewElements\u001b[0m \u001b[1;33m=\u001b[0m \u001b[0mself\u001b[0m\u001b[1;33m.\u001b[0m\u001b[0m_grow\u001b[0m\u001b[1;33m(\u001b[0m\u001b[1;33m)\u001b[0m\u001b[1;33m\u001b[0m\u001b[1;33m\u001b[0m\u001b[0m\n\u001b[0m\u001b[0;32m     57\u001b[0m             \u001b[1;32myield\u001b[0m \u001b[1;32mfrom\u001b[0m \u001b[0mnewElements\u001b[0m\u001b[1;33m\u001b[0m\u001b[1;33m\u001b[0m\u001b[0m\n\u001b[0;32m     58\u001b[0m \u001b[1;33m\u001b[0m\u001b[0m\n",
      "\u001b[1;32m~\\AppData\\Local\\Anaconda\\lib\\site-packages\\github\\PaginatedList.py\u001b[0m in \u001b[0;36m_grow\u001b[1;34m(self)\u001b[0m\n\u001b[0;32m     65\u001b[0m \u001b[1;33m\u001b[0m\u001b[0m\n\u001b[0;32m     66\u001b[0m     \u001b[1;32mdef\u001b[0m \u001b[0m_grow\u001b[0m\u001b[1;33m(\u001b[0m\u001b[0mself\u001b[0m\u001b[1;33m)\u001b[0m\u001b[1;33m:\u001b[0m\u001b[1;33m\u001b[0m\u001b[1;33m\u001b[0m\u001b[0m\n\u001b[1;32m---> 67\u001b[1;33m         \u001b[0mnewElements\u001b[0m \u001b[1;33m=\u001b[0m \u001b[0mself\u001b[0m\u001b[1;33m.\u001b[0m\u001b[0m_fetchNextPage\u001b[0m\u001b[1;33m(\u001b[0m\u001b[1;33m)\u001b[0m\u001b[1;33m\u001b[0m\u001b[1;33m\u001b[0m\u001b[0m\n\u001b[0m\u001b[0;32m     68\u001b[0m         \u001b[0mself\u001b[0m\u001b[1;33m.\u001b[0m\u001b[0m__elements\u001b[0m \u001b[1;33m+=\u001b[0m \u001b[0mnewElements\u001b[0m\u001b[1;33m\u001b[0m\u001b[1;33m\u001b[0m\u001b[0m\n\u001b[0;32m     69\u001b[0m         \u001b[1;32mreturn\u001b[0m \u001b[0mnewElements\u001b[0m\u001b[1;33m\u001b[0m\u001b[1;33m\u001b[0m\u001b[0m\n",
      "\u001b[1;32m~\\AppData\\Local\\Anaconda\\lib\\site-packages\\github\\PaginatedList.py\u001b[0m in \u001b[0;36m_fetchNextPage\u001b[1;34m(self)\u001b[0m\n\u001b[0;32m    197\u001b[0m \u001b[1;33m\u001b[0m\u001b[0m\n\u001b[0;32m    198\u001b[0m     \u001b[1;32mdef\u001b[0m \u001b[0m_fetchNextPage\u001b[0m\u001b[1;33m(\u001b[0m\u001b[0mself\u001b[0m\u001b[1;33m)\u001b[0m\u001b[1;33m:\u001b[0m\u001b[1;33m\u001b[0m\u001b[1;33m\u001b[0m\u001b[0m\n\u001b[1;32m--> 199\u001b[1;33m         headers, data = self.__requester.requestJsonAndCheck(\n\u001b[0m\u001b[0;32m    200\u001b[0m             \u001b[1;34m\"GET\"\u001b[0m\u001b[1;33m,\u001b[0m \u001b[0mself\u001b[0m\u001b[1;33m.\u001b[0m\u001b[0m__nextUrl\u001b[0m\u001b[1;33m,\u001b[0m \u001b[0mparameters\u001b[0m\u001b[1;33m=\u001b[0m\u001b[0mself\u001b[0m\u001b[1;33m.\u001b[0m\u001b[0m__nextParams\u001b[0m\u001b[1;33m,\u001b[0m \u001b[0mheaders\u001b[0m\u001b[1;33m=\u001b[0m\u001b[0mself\u001b[0m\u001b[1;33m.\u001b[0m\u001b[0m__headers\u001b[0m\u001b[1;33m\u001b[0m\u001b[1;33m\u001b[0m\u001b[0m\n\u001b[0;32m    201\u001b[0m         )\n",
      "\u001b[1;32m~\\AppData\\Local\\Anaconda\\lib\\site-packages\\github\\Requester.py\u001b[0m in \u001b[0;36mrequestJsonAndCheck\u001b[1;34m(self, verb, url, parameters, headers, input)\u001b[0m\n\u001b[0;32m    351\u001b[0m \u001b[1;33m\u001b[0m\u001b[0m\n\u001b[0;32m    352\u001b[0m     \u001b[1;32mdef\u001b[0m \u001b[0mrequestJsonAndCheck\u001b[0m\u001b[1;33m(\u001b[0m\u001b[0mself\u001b[0m\u001b[1;33m,\u001b[0m \u001b[0mverb\u001b[0m\u001b[1;33m,\u001b[0m \u001b[0murl\u001b[0m\u001b[1;33m,\u001b[0m \u001b[0mparameters\u001b[0m\u001b[1;33m=\u001b[0m\u001b[1;32mNone\u001b[0m\u001b[1;33m,\u001b[0m \u001b[0mheaders\u001b[0m\u001b[1;33m=\u001b[0m\u001b[1;32mNone\u001b[0m\u001b[1;33m,\u001b[0m \u001b[0minput\u001b[0m\u001b[1;33m=\u001b[0m\u001b[1;32mNone\u001b[0m\u001b[1;33m)\u001b[0m\u001b[1;33m:\u001b[0m\u001b[1;33m\u001b[0m\u001b[1;33m\u001b[0m\u001b[0m\n\u001b[1;32m--> 353\u001b[1;33m         return self.__check(\n\u001b[0m\u001b[0;32m    354\u001b[0m             *self.requestJson(\n\u001b[0;32m    355\u001b[0m                 \u001b[0mverb\u001b[0m\u001b[1;33m,\u001b[0m \u001b[0murl\u001b[0m\u001b[1;33m,\u001b[0m \u001b[0mparameters\u001b[0m\u001b[1;33m,\u001b[0m \u001b[0mheaders\u001b[0m\u001b[1;33m,\u001b[0m \u001b[0minput\u001b[0m\u001b[1;33m,\u001b[0m \u001b[0mself\u001b[0m\u001b[1;33m.\u001b[0m\u001b[0m__customConnection\u001b[0m\u001b[1;33m(\u001b[0m\u001b[0murl\u001b[0m\u001b[1;33m)\u001b[0m\u001b[1;33m\u001b[0m\u001b[1;33m\u001b[0m\u001b[0m\n",
      "\u001b[1;32m~\\AppData\\Local\\Anaconda\\lib\\site-packages\\github\\Requester.py\u001b[0m in \u001b[0;36m__check\u001b[1;34m(self, status, responseHeaders, output)\u001b[0m\n\u001b[0;32m    376\u001b[0m         \u001b[0moutput\u001b[0m \u001b[1;33m=\u001b[0m \u001b[0mself\u001b[0m\u001b[1;33m.\u001b[0m\u001b[0m__structuredFromJson\u001b[0m\u001b[1;33m(\u001b[0m\u001b[0moutput\u001b[0m\u001b[1;33m)\u001b[0m\u001b[1;33m\u001b[0m\u001b[1;33m\u001b[0m\u001b[0m\n\u001b[0;32m    377\u001b[0m         \u001b[1;32mif\u001b[0m \u001b[0mstatus\u001b[0m \u001b[1;33m>=\u001b[0m \u001b[1;36m400\u001b[0m\u001b[1;33m:\u001b[0m\u001b[1;33m\u001b[0m\u001b[1;33m\u001b[0m\u001b[0m\n\u001b[1;32m--> 378\u001b[1;33m             \u001b[1;32mraise\u001b[0m \u001b[0mself\u001b[0m\u001b[1;33m.\u001b[0m\u001b[0m__createException\u001b[0m\u001b[1;33m(\u001b[0m\u001b[0mstatus\u001b[0m\u001b[1;33m,\u001b[0m \u001b[0mresponseHeaders\u001b[0m\u001b[1;33m,\u001b[0m \u001b[0moutput\u001b[0m\u001b[1;33m)\u001b[0m\u001b[1;33m\u001b[0m\u001b[1;33m\u001b[0m\u001b[0m\n\u001b[0m\u001b[0;32m    379\u001b[0m         \u001b[1;32mreturn\u001b[0m \u001b[0mresponseHeaders\u001b[0m\u001b[1;33m,\u001b[0m \u001b[0moutput\u001b[0m\u001b[1;33m\u001b[0m\u001b[1;33m\u001b[0m\u001b[0m\n\u001b[0;32m    380\u001b[0m \u001b[1;33m\u001b[0m\u001b[0m\n",
      "\u001b[1;31mGithubException\u001b[0m: 401 {\"message\": \"Requires authentication\", \"documentation_url\": \"https://docs.github.com/rest/reference/repos#list-repositories-for-the-authenticated-user\"}"
     ]
    }
   ],
   "source": [
    "for repo in g.get_user().get_repos():\n",
    "    print(repo.name)"
   ]
  },
  {
   "cell_type": "code",
   "execution_count": null,
   "metadata": {},
   "outputs": [],
   "source": []
  }
 ],
 "metadata": {
  "kernelspec": {
   "display_name": "Python 3",
   "language": "python",
   "name": "python3"
  },
  "language_info": {
   "codemirror_mode": {
    "name": "ipython",
    "version": 3
   },
   "file_extension": ".py",
   "mimetype": "text/x-python",
   "name": "python",
   "nbconvert_exporter": "python",
   "pygments_lexer": "ipython3",
   "version": "3.8.5"
  }
 },
 "nbformat": 4,
 "nbformat_minor": 4
}
