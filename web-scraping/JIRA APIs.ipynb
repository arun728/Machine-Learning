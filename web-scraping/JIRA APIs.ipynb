{
 "cells": [
  {
   "cell_type": "code",
   "execution_count": 145,
   "metadata": {},
   "outputs": [],
   "source": [
    "from jira import JIRA"
   ]
  },
  {
   "cell_type": "code",
   "execution_count": 266,
   "metadata": {},
   "outputs": [],
   "source": [
    "jira = JIRA('https://jira-lvs.prod.mcafee.com', basic_auth=('akumar5','Decem@2020'))"
   ]
  },
  {
   "cell_type": "code",
   "execution_count": 249,
   "metadata": {},
   "outputs": [],
   "source": [
    "project = jira.project('IDTT')"
   ]
  },
  {
   "cell_type": "code",
   "execution_count": 280,
   "metadata": {},
   "outputs": [
    {
     "data": {
      "text/plain": [
       "'34016'"
      ]
     },
     "execution_count": 280,
     "metadata": {},
     "output_type": "execute_result"
    }
   ],
   "source": [
    "project.id"
   ]
  },
  {
   "cell_type": "code",
   "execution_count": 295,
   "metadata": {},
   "outputs": [
    {
     "data": {
      "text/plain": [
       "[<JIRA Issue: key='IDTT-290', id='2571390'>,\n",
       " <JIRA Issue: key='IDTT-289', id='2562857'>,\n",
       " <JIRA Issue: key='IDTT-288', id='2528363'>,\n",
       " <JIRA Issue: key='IDTT-287', id='2527624'>,\n",
       " <JIRA Issue: key='IDTT-286', id='2527610'>,\n",
       " <JIRA Issue: key='IDTT-285', id='2524551'>,\n",
       " <JIRA Issue: key='IDTT-284', id='2522073'>,\n",
       " <JIRA Issue: key='IDTT-283', id='2522061'>,\n",
       " <JIRA Issue: key='IDTT-282', id='2519749'>,\n",
       " <JIRA Issue: key='IDTT-281', id='2519748'>,\n",
       " <JIRA Issue: key='IDTT-280', id='2515860'>,\n",
       " <JIRA Issue: key='IDTT-279', id='2513458'>,\n",
       " <JIRA Issue: key='IDTT-278', id='2513456'>,\n",
       " <JIRA Issue: key='IDTT-277', id='2513455'>,\n",
       " <JIRA Issue: key='IDTT-276', id='2513454'>,\n",
       " <JIRA Issue: key='IDTT-275', id='2513452'>,\n",
       " <JIRA Issue: key='IDTT-274', id='2513448'>,\n",
       " <JIRA Issue: key='IDTT-273', id='2513446'>,\n",
       " <JIRA Issue: key='IDTT-272', id='2513445'>,\n",
       " <JIRA Issue: key='IDTT-271', id='2513444'>,\n",
       " <JIRA Issue: key='IDTT-270', id='2513434'>,\n",
       " <JIRA Issue: key='IDTT-269', id='2513429'>,\n",
       " <JIRA Issue: key='IDTT-268', id='2493347'>,\n",
       " <JIRA Issue: key='IDTT-267', id='2493332'>,\n",
       " <JIRA Issue: key='IDTT-266', id='2478525'>,\n",
       " <JIRA Issue: key='IDTT-265', id='2470685'>,\n",
       " <JIRA Issue: key='IDTT-264', id='2470682'>,\n",
       " <JIRA Issue: key='IDTT-263', id='2467721'>,\n",
       " <JIRA Issue: key='IDTT-262', id='2466818'>,\n",
       " <JIRA Issue: key='IDTT-261', id='2465628'>,\n",
       " <JIRA Issue: key='IDTT-260', id='2458767'>,\n",
       " <JIRA Issue: key='IDTT-259', id='2458765'>,\n",
       " <JIRA Issue: key='IDTT-258', id='2458723'>,\n",
       " <JIRA Issue: key='IDTT-257', id='2458697'>,\n",
       " <JIRA Issue: key='IDTT-256', id='2458678'>,\n",
       " <JIRA Issue: key='IDTT-255', id='2458677'>,\n",
       " <JIRA Issue: key='IDTT-254', id='2458669'>,\n",
       " <JIRA Issue: key='IDTT-253', id='2458662'>,\n",
       " <JIRA Issue: key='IDTT-252', id='2457640'>,\n",
       " <JIRA Issue: key='IDTT-251', id='2452974'>,\n",
       " <JIRA Issue: key='IDTT-250', id='2452973'>,\n",
       " <JIRA Issue: key='IDTT-249', id='2452948'>,\n",
       " <JIRA Issue: key='IDTT-248', id='2452946'>,\n",
       " <JIRA Issue: key='IDTT-247', id='2441159'>,\n",
       " <JIRA Issue: key='IDTT-246', id='2441151'>,\n",
       " <JIRA Issue: key='IDTT-245', id='2432523'>,\n",
       " <JIRA Issue: key='IDTT-244', id='2431160'>,\n",
       " <JIRA Issue: key='IDTT-243', id='2431138'>,\n",
       " <JIRA Issue: key='IDTT-242', id='2431132'>,\n",
       " <JIRA Issue: key='IDTT-241', id='2431130'>]"
      ]
     },
     "execution_count": 295,
     "metadata": {},
     "output_type": "execute_result"
    }
   ],
   "source": [
    "jira.search_issues('project=34016')"
   ]
  },
  {
   "cell_type": "code",
   "execution_count": 298,
   "metadata": {},
   "outputs": [
    {
     "name": "stdout",
     "output_type": "stream",
     "text": [
      "Can we get a space between \"see\" and the xref element? I struggle to remember to add it manually. Thanks.\r\n",
      "\r\n",
      " \n",
      "After having discussion with MACC Prod Manager (Marcin Kranz), decided to go with below mentioned approach on the portal. Please make changes to Application Control and Change Control product name on the doc portal as mentioned below.\r\n",
      "\r\n",
      "Currently we have “Application Control” and “Change Control” on the portal as shown in the screenshot. As the Application Control & Change Control docs are merged now, we want to have these docs published under one name – “McAfee Application and Change Control” so that we can avoid publishing same documents at two different places.\n",
      "None\n",
      "None\n",
      "None\n",
      "SSL certificate chain updates for Zoomin and SDL\n",
      "None\n",
      "Complete audits of Info Dev and 3rd party vendor systems.\r\n",
      "\r\n",
      "Perform follow-up actions from audits (for example, reduce number of users with Admin access).\r\n",
      "\r\n",
      "Document how audits and follow-up actions were performed (for future use by Info Dev).\n",
      "None\n",
      "None\n",
      "Jyothsna to \"wrap up\" security review with Security Architect.\n",
      "Complete Scheduler PDF training content.\n",
      "None\n",
      "None\n",
      "None\n",
      "None\n",
      "Paul M. has 3 next actions resulting from review: \r\n",
      "\r\n",
      "SecRvw: Confluence pages for SLAs, Updated diagram, user addRemove process\r\n",
      "\r\n",
      " \n",
      "See design: [https://confluence-lvs.prod.mcafee.com/pages/viewpage.action?pageId=88254950]\n",
      "None\n",
      "None\n",
      "* Need prod-level implementation of 3rd party software\r\n",
      " * Prepare optimal package for CSS/JS implementation\n",
      "None\n",
      "Link to display/edit design recommendation from Satiswar D.:\r\n",
      "\r\n",
      "[https://marvelapp.com/22gh2bag]\r\n",
      "\r\n",
      "Password:- Mcafee@2020\n",
      "Update PDF Scheduler to show only the most recent scheduled PDF upload requests that were completed (for example, the 20 most recently completed requests, requests completed within the last month, etc.).\r\n",
      "\r\n",
      "Provide the option to view older/completed PDF upload requests.\n",
      "When the Endpoint Security installation guide is downloaded, the Table of Content and the main titles display !Dowloaded PDF.png!!HTML view.png! the Navigation title. HTML title should be displayed in TOC and main titles\n",
      "None\n",
      "None\n",
      "Complete business continuity document (Zoomin, Servers, XMetaL) - Venkatesh will write SDL portion.\n",
      "The title in NSP hardware guide PDFs for ZH-CN (Simplified Chinese) is duplicated.  There appears to be no obvious reason for this.  There is no difference between the ZH-CN map and those in the other languages (including English) that I can find.\r\n",
      "\r\n",
      "The publications are in the CMS at General | Production | Network Security | Network Security Platform | _Publications | Hardware | 10_NS-series_Sensors\r\n",
      "\r\n",
      "The following publications are impacted:\r\n",
      "o\tNS9x00 Sensor Product Guide v3\r\n",
      "o\tNS7x50 Sensor Product Guide v1\r\n",
      "o\tNS7X00 Sensor Product Guide v3\r\n",
      "o\tNS5x00 Sensor Product Guide v1\r\n",
      "o\tNS3x00 Sensor Product Guide v1\r\n",
      "o\tNS-series Interface Modules Reference Guide v4\r\n",
      "o\tNS-series Transceiver Modules Reference Guide v2\r\n",
      "\r\n",
      "I have attached a screenshot of how the PDF title appears for ZH-CN.  The duplicated content should only appear on the second line.  \r\n",
      "\r\n",
      "Also attaching a copy of the map for ZH-CN and KO-KR (which is appearing correctly) in case you can spot something I don't.\r\n",
      "\n",
      "Update IDOL product name mapping file to account for months of inertia.\r\n",
      "\r\n",
      "Communicate process requirement for updating file to Info Dev Sys team.\n",
      "None\n",
      "None\n",
      "None\n",
      "None\n",
      "# Review draft information from Paul M.\r\n",
      " # Revise and process information to create a PDF for management audience and Info Dev Systems.\n",
      "None\n",
      "Performance and scalability testing \r\n",
      "\r\n",
      "Additional development to show flexibility (such as use of browser content in panel)\r\n",
      "\r\n",
      "Dev/testing alternative methods for assigning and tracking CSH maps (ID to topic)\n",
      "See details at: [https://confluence-lvs.prod.mcafee.com/pages/viewpage.action?pageId=88259254]\n",
      "Last year McAfee reported an instance where SSL certificates expired on one or more of our Prod servers. After updating the certs to fix the issue, the customer support engineer remarked: \"The certs expire on 04/19/2020. We are making notes and learning from this time to streamline the process.\" Can we check if SSL certs on any of our McAfee production servers expire on 4/19/2020? If there is no monitoring in place for the cert expiration, can we set a plan to update them manually?\n",
      "None\n",
      "None\n",
      "available at: [http://shlp-wb-1.mcafee.int/EnterpriseHelpPortal/pdfUploadProg/pdfUploadUI/uploadPDFsAutoDescripBeta.aspx]\n",
      "# David K. and team are lacking the .json files that normally provided metadata about KC articles that contained tech doc PDFs (since those tech docs moved to docs.mcafee.com in late 2019 – there are no more “KC article containers and no more PD numbers for articles produced after that transfer – everything is now in docs.mcafee.com and only “legacy” PDFs retained their PD numbers).\r\n",
      " # So they need a way to provide that previously available .json data to federated customers (en-us only).\r\n",
      " # Info Dev developed a workaround for IDOL crawling of docs.mcafee.com (so mcafee.com users could see docs.mcafee.com content in search results, for example):\r\n",
      " * Auto-generate PDF equivalents of all docs.mcafee.com HTML content, repository: ([http://shlp-wb-1.mcafee.int/EnterpriseHelpPortal/EnterpriseHelpPortal/NoPDFsIDOL/XMLFiles/xml-docsmcafeecom-IDOL-crawl.xml]\r\n",
      " * Push all docs.mcafee.com PDFs (non-HTML content) to the same place as above\r\n",
      " * Automatically push all metadata for all the PDFs described above to:\r\n",
      " [http://shlp-wb-1.mcafee.int/EnterpriseHelpPortal/EnterpriseHelpPortal/NoPDFsIDOL/XMLFiles/xml-docsmcafeecom-IDOL-crawl.xml]\r\n",
      "\r\n",
      "Then IDOL will crawl all the docs and send users to their equivalent docs.mcafee.com URLs.\r\n",
      " # David K. indicated that a lot of the metadata in the IDOL XML file shown above, along with all the PDFs we stuff into the location shown above, might give federated customers what they need, if his team can:\r\n",
      " * Copy the IDOL XML file from the existing mirror (separate XML file)\r\n",
      " * Update it to exclude foreign language content and monitor the ExpiredDate for each doc\r\n",
      " * Paul M. fixes INC0319121 (Paul M. went on vacation and a service ID’s password expired, which means PDFs and XML file entries are not available for the past 3 or so weeks).\r\n",
      "\r\n",
      " \r\n",
      "\r\n",
      "So next actions are:\r\n",
      " * David K. checks out xml-docsmcafeecom-IDOL-crawl.xml and sees what he can do about copying/updating to fill metadata gaps left by lack of doc .json files.\r\n",
      " * Paul M. fixes INC0319121 and keeps everyone posted.\n",
      "Work with Dee B. to add subject scheme entries for search clustering, test and prepare for possible move to Prod Mar 20 or 23.\r\n",
      "\r\n",
      " \n",
      "Train Venkatesh on Release Management and System Admin activities like updating the subject scheme files, curating the content for doc portal, admin tasks for SDL, Zoomin, Acrolinx, SharePoint and so on.\n",
      "[http://dvapp30.corpzone.internalzone.com/frog/RESPONSIVE-COMPS/2019-REDESIGN/header-footer.zip]\n",
      "Complete requirements doc for Info Dev/Smarthelp server moves from SJC data center to Las Vegas DC.\r\n",
      "\r\n",
      "Completed work with IT, but haven't heard back about new servers being created.\n",
      "From John K.: \"You’ve proven Zoomin widget works. I would like you to dedicate some time in a sprint to investigating and documenting the subset of information we need to supply to the various engineering teams to implement the following functionality using: \r\n",
      " * CSH calls using writer/engineering-defined ID values instead of file names/GUIDs - [https://docs.zoominsoftware.io/bundle/zoomin-configuration-guide/page/publish_ss/t_csh_resourceid_manage.html]\r\n",
      " * Floating versus iframe implementations (what are the tradeoffs); the iframe implementation seems to be capable of being embedded in a UI.\r\n",
      " * Determining if there is a way supplying the resource ID outside of being forced to include them in publications. - [https://docs.zoominsoftware.io/bundle/zoomin-configuration-guide/page/publish_ss/t_csh_resourceid.html#t_csh_resourceid]\r\n",
      " * Validating the CSS instructions for these topics - [https://docs.zoominsoftware.io/bundle/web-widgets/page/functionality/iph-api_css.html].\r\n",
      "\r\n",
      "We’ve cataloged the issues you’ve already seen; however, Zoomin is not going to address any of them until and unless we cut a check for the widget usage. I’m sure they will answer questions. I doubt they will make any modifications to the existing implementation without payment.\r\n",
      "\r\n",
      "The Word document provides context for the larger work. It’s probably not an awesome document, but I’ve sent it to Paul G. already since he is attending the all-day UCE planning meetings today (Tuesday) and tomorrow (Wednesday). He requested the general options and the pros and cons for each solution. (Just to be clear, the API calls directly to docs.mcafee.com will not work in this case since they want help inside or within the context of the UI.)\"\n",
      "None\n",
      "None\n"
     ]
    }
   ],
   "source": [
    "for i in jira.search_issues('project=IDTT'):\n",
    "    issue = jira.issue(i)\n",
    "    print(issue.fields.description)\n",
    "    "
   ]
  },
  {
   "cell_type": "code",
   "execution_count": null,
   "metadata": {},
   "outputs": [],
   "source": []
  },
  {
   "cell_type": "code",
   "execution_count": null,
   "metadata": {},
   "outputs": [],
   "source": []
  },
  {
   "cell_type": "code",
   "execution_count": 254,
   "metadata": {},
   "outputs": [
    {
     "data": {
      "text/plain": [
       "<JIRA Issue: key='IDTT-169', id='2116345'>"
      ]
     },
     "execution_count": 254,
     "metadata": {},
     "output_type": "execute_result"
    }
   ],
   "source": [
    "jira.issue('IDTT-169')"
   ]
  },
  {
   "cell_type": "code",
   "execution_count": 255,
   "metadata": {},
   "outputs": [],
   "source": [
    "issue = jira.issue('IDTT-169')"
   ]
  },
  {
   "cell_type": "code",
   "execution_count": 151,
   "metadata": {},
   "outputs": [
    {
     "data": {
      "text/plain": [
       "'Allow writers to toggle the display of <draft-comments> elements in the Staging Portal output. When publishing to the Staging Portal, writers should be able to choose whether <draft-comments> elements appear in the output or not. When publishing to the Prod Portal, <draft-comments> should never be included in the output. Because writers include <draft-comments> that apply to future releases, they need the ability to hide these elements in Staging; for example, for a final approval of the content.\\r\\n\\r\\nCurrently writers must either delete or conditionalize these elements which creates a maintenance burden and risk publishing reviewer questions in production content.\\r\\n\\r\\n[~pgiesing]'"
      ]
     },
     "execution_count": 151,
     "metadata": {},
     "output_type": "execute_result"
    }
   ],
   "source": [
    "issue.fields.description"
   ]
  },
  {
   "cell_type": "code",
   "execution_count": 152,
   "metadata": {},
   "outputs": [
    {
     "data": {
      "text/plain": [
       "'Doc portal: Expose <draft-comments> content in Staging'"
      ]
     },
     "execution_count": 152,
     "metadata": {},
     "output_type": "execute_result"
    }
   ],
   "source": [
    "issue.fields.summary"
   ]
  },
  {
   "cell_type": "code",
   "execution_count": 153,
   "metadata": {},
   "outputs": [
    {
     "data": {
      "text/plain": [
       "[]"
      ]
     },
     "execution_count": 153,
     "metadata": {},
     "output_type": "execute_result"
    }
   ],
   "source": [
    "issue.fields.attachment"
   ]
  },
  {
   "cell_type": "code",
   "execution_count": 165,
   "metadata": {},
   "outputs": [],
   "source": [
    "comments = issue.fields.comment.comments"
   ]
  },
  {
   "cell_type": "code",
   "execution_count": 169,
   "metadata": {},
   "outputs": [
    {
     "data": {
      "text/plain": [
       "[<JIRA Comment: id='4763624'>, <JIRA Comment: id='4770610'>]"
      ]
     },
     "execution_count": 169,
     "metadata": {},
     "output_type": "execute_result"
    }
   ],
   "source": [
    "comments"
   ]
  },
  {
   "cell_type": "code",
   "execution_count": 171,
   "metadata": {},
   "outputs": [
    {
     "data": {
      "text/plain": [
       "'Do we still want to do this?\\r\\n\\r\\nPaul M.'"
      ]
     },
     "execution_count": 171,
     "metadata": {},
     "output_type": "execute_result"
    }
   ],
   "source": [
    "comments[0].body"
   ]
  },
  {
   "cell_type": "code",
   "execution_count": 173,
   "metadata": {},
   "outputs": [
    {
     "name": "stdout",
     "output_type": "stream",
     "text": [
      "Do we still want to do this?\r\n",
      "\r\n",
      "Paul M.\n",
      "Yes, I believe we do as writers have no other way to embed review questions so that they can easily be show or hidden.\n"
     ]
    }
   ],
   "source": [
    "for c in comments:\n",
    "    print(c.body)"
   ]
  },
  {
   "cell_type": "code",
   "execution_count": 156,
   "metadata": {},
   "outputs": [
    {
     "data": {
      "text/plain": [
       "[<JIRA Comment: id='4763624'>, <JIRA Comment: id='4770610'>]"
      ]
     },
     "execution_count": 156,
     "metadata": {},
     "output_type": "execute_result"
    }
   ],
   "source": [
    "jira.comments('IDTT-169')"
   ]
  },
  {
   "cell_type": "code",
   "execution_count": 157,
   "metadata": {},
   "outputs": [],
   "source": [
    "comment1 = jira.comment('IDTT-169', '4763624')"
   ]
  },
  {
   "cell_type": "code",
   "execution_count": 158,
   "metadata": {},
   "outputs": [
    {
     "data": {
      "text/plain": [
       "'Do we still want to do this?\\r\\n\\r\\nPaul M.'"
      ]
     },
     "execution_count": 158,
     "metadata": {},
     "output_type": "execute_result"
    }
   ],
   "source": [
    "comment1.body"
   ]
  },
  {
   "cell_type": "code",
   "execution_count": 183,
   "metadata": {},
   "outputs": [],
   "source": [
    "comment2 = jira.comment('IDTT-169', '4770610')"
   ]
  },
  {
   "cell_type": "code",
   "execution_count": 184,
   "metadata": {},
   "outputs": [
    {
     "data": {
      "text/plain": [
       "'Yes, I believe we do as writers have no other way to embed review questions so that they can easily be show or hidden.'"
      ]
     },
     "execution_count": 184,
     "metadata": {},
     "output_type": "execute_result"
    }
   ],
   "source": [
    "comment2.body"
   ]
  },
  {
   "cell_type": "code",
   "execution_count": 175,
   "metadata": {},
   "outputs": [],
   "source": [
    "issue = jira.issue('IDTT-290')"
   ]
  },
  {
   "cell_type": "code",
   "execution_count": 176,
   "metadata": {},
   "outputs": [
    {
     "data": {
      "text/plain": [
       "<JIRA Issue: key='IDTT-290', id='2571390'>"
      ]
     },
     "execution_count": 176,
     "metadata": {},
     "output_type": "execute_result"
    }
   ],
   "source": [
    "issue"
   ]
  },
  {
   "cell_type": "code",
   "execution_count": 190,
   "metadata": {},
   "outputs": [],
   "source": [
    "atts = issue.fields.attachment"
   ]
  },
  {
   "cell_type": "code",
   "execution_count": 194,
   "metadata": {},
   "outputs": [
    {
     "name": "stdout",
     "output_type": "stream",
     "text": [
      "https://jira-lvs.prod.mcafee.com/secure/attachment/790597/Untitled.png\n"
     ]
    }
   ],
   "source": [
    "for a in atts:\n",
    "    print(a.content)"
   ]
  },
  {
   "cell_type": "code",
   "execution_count": 180,
   "metadata": {},
   "outputs": [
    {
     "data": {
      "text/plain": [
       "[<JIRA Attachment: filename='Untitled.png', id='790597', mimeType='image/png'>]"
      ]
     },
     "execution_count": 180,
     "metadata": {},
     "output_type": "execute_result"
    }
   ],
   "source": [
    "att"
   ]
  },
  {
   "cell_type": "code",
   "execution_count": 185,
   "metadata": {},
   "outputs": [],
   "source": [
    "att = jira.attachment('790597')"
   ]
  },
  {
   "cell_type": "code",
   "execution_count": 188,
   "metadata": {},
   "outputs": [
    {
     "data": {
      "text/plain": [
       "'https://jira-lvs.prod.mcafee.com/secure/attachment/790597/Untitled.png'"
      ]
     },
     "execution_count": 188,
     "metadata": {},
     "output_type": "execute_result"
    }
   ],
   "source": [
    "att.content"
   ]
  },
  {
   "cell_type": "code",
   "execution_count": 195,
   "metadata": {},
   "outputs": [],
   "source": [
    "a = 'Allow writers to toggle the display of <draft-comments> elements in the Staging Portal output. When publishing to the Staging Portal, writers should be able to choose whether <draft-comments> elements appear in the output or not. When publishing to the Prod Portal, <draft-comments> should never be included in the output. Because writers include <draft-comments> that apply to future releases, they need the ability to hide these elements in Staging; for example, for a final approval of the content.\\r\\n\\r\\nCurrently writers must either delete or conditionalize these elements which creates a maintenance burden and risk publishing reviewer questions in production content.\\r\\n\\r\\n[~pgiesing]'"
   ]
  },
  {
   "cell_type": "code",
   "execution_count": 196,
   "metadata": {},
   "outputs": [
    {
     "data": {
      "text/plain": [
       "'Allow writers to toggle the display of <draft-comments> elements in the Staging Portal output. When publishing to the Staging Portal, writers should be able to choose whether <draft-comments> elements appear in the output or not. When publishing to the Prod Portal, <draft-comments> should never be included in the output. Because writers include <draft-comments> that apply to future releases, they need the ability to hide these elements in Staging; for example, for a final approval of the content.\\r\\n\\r\\nCurrently writers must either delete or conditionalize these elements which creates a maintenance burden and risk publishing reviewer questions in production content.\\r\\n\\r\\n[~pgiesing]'"
      ]
     },
     "execution_count": 196,
     "metadata": {},
     "output_type": "execute_result"
    }
   ],
   "source": [
    "a"
   ]
  },
  {
   "cell_type": "code",
   "execution_count": 197,
   "metadata": {},
   "outputs": [],
   "source": [
    "with open('test.txt', 'w') as f:\n",
    "    f.write(a)"
   ]
  },
  {
   "cell_type": "code",
   "execution_count": 256,
   "metadata": {},
   "outputs": [],
   "source": [
    "proj = jira.project('IDTT')"
   ]
  },
  {
   "cell_type": "code",
   "execution_count": 264,
   "metadata": {},
   "outputs": [
    {
     "data": {
      "text/plain": [
       "<JIRA Project: key='IDTT', name='Info Dev Tools and Technologies', id='34016'>"
      ]
     },
     "execution_count": 264,
     "metadata": {},
     "output_type": "execute_result"
    }
   ],
   "source": [
    "proj"
   ]
  },
  {
   "cell_type": "code",
   "execution_count": 260,
   "metadata": {},
   "outputs": [],
   "source": [
    "comps = proj.components"
   ]
  },
  {
   "cell_type": "code",
   "execution_count": 262,
   "metadata": {},
   "outputs": [
    {
     "data": {
      "text/plain": [
       "[<JIRA Component: name='1', id='64589'>,\n",
       " <JIRA Component: name='Acrolinx', id='60132'>,\n",
       " <JIRA Component: name='CMS (SDL Tridion Docs)', id='59735'>,\n",
       " <JIRA Component: name='Collab review', id='59763'>,\n",
       " <JIRA Component: name='Doc Plans and Schedules', id='59736'>,\n",
       " <JIRA Component: name='Doc Portal (Tech)', id='59734'>,\n",
       " <JIRA Component: name='Doc Portal (UX)', id='59787'>,\n",
       " <JIRA Component: name='doc_AWS_env', id='64588'>,\n",
       " <JIRA Component: name='GA Hotfix Release Notes', id='59737'>,\n",
       " <JIRA Component: name='In-product help', id='65106'>,\n",
       " <JIRA Component: name='Local apps/systems', id='59762'>,\n",
       " <JIRA Component: name='No PDFs project', id='59738'>,\n",
       " <JIRA Component: name='Process/communications', id='59761'>,\n",
       " <JIRA Component: name='SharePoint', id='59733'>,\n",
       " <JIRA Component: name='SmartHelp', id='59802'>,\n",
       " <JIRA Component: name='Upload PDFs', id='64583'>,\n",
       " <JIRA Component: name='XMetaL', id='59784'>]"
      ]
     },
     "execution_count": 262,
     "metadata": {},
     "output_type": "execute_result"
    }
   ],
   "source": [
    "comps"
   ]
  },
  {
   "cell_type": "code",
   "execution_count": 261,
   "metadata": {},
   "outputs": [
    {
     "name": "stdout",
     "output_type": "stream",
     "text": [
      "64589\n",
      "60132\n",
      "59735\n",
      "59763\n",
      "59736\n",
      "59734\n",
      "59787\n",
      "64588\n",
      "59737\n",
      "65106\n",
      "59762\n",
      "59738\n",
      "59761\n",
      "59733\n",
      "59802\n",
      "64583\n",
      "59784\n"
     ]
    }
   ],
   "source": [
    "for comp in comps:\n",
    "    print(comp.id)"
   ]
  },
  {
   "cell_type": "code",
   "execution_count": null,
   "metadata": {},
   "outputs": [],
   "source": []
  },
  {
   "cell_type": "code",
   "execution_count": null,
   "metadata": {},
   "outputs": [],
   "source": []
  },
  {
   "cell_type": "code",
   "execution_count": 227,
   "metadata": {},
   "outputs": [
    {
     "data": {
      "text/plain": [
       "[<JIRA IssueType: name='Story', id='12'>,\n",
       " <JIRA IssueType: name='Bug', id='1'>,\n",
       " <JIRA IssueType: name='Epic', id='11'>,\n",
       " <JIRA IssueType: name='Initiative', id='10100'>,\n",
       " <JIRA IssueType: name='Sub-task', id='28'>,\n",
       " <JIRA IssueType: name='Test Task', id='11800'>]"
      ]
     },
     "execution_count": 227,
     "metadata": {},
     "output_type": "execute_result"
    }
   ],
   "source": [
    "proj.issueTypes"
   ]
  },
  {
   "cell_type": "code",
   "execution_count": 225,
   "metadata": {},
   "outputs": [
    {
     "name": "stdout",
     "output_type": "stream",
     "text": [
      "12\n",
      "1\n",
      "11\n",
      "10100\n",
      "28\n",
      "11800\n"
     ]
    }
   ],
   "source": [
    "for issue in proj.issueTypes:\n",
    "    print(issue.id)"
   ]
  },
  {
   "cell_type": "code",
   "execution_count": null,
   "metadata": {},
   "outputs": [],
   "source": [
    "https://jira-lvs.prod.mcafee.com/rest/api/2/search?jql=project=IDTT"
   ]
  }
 ],
 "metadata": {
  "kernelspec": {
   "display_name": "Python 3",
   "language": "python",
   "name": "python3"
  },
  "language_info": {
   "codemirror_mode": {
    "name": "ipython",
    "version": 3
   },
   "file_extension": ".py",
   "mimetype": "text/x-python",
   "name": "python",
   "nbconvert_exporter": "python",
   "pygments_lexer": "ipython3",
   "version": "3.8.5"
  }
 },
 "nbformat": 4,
 "nbformat_minor": 4
}
